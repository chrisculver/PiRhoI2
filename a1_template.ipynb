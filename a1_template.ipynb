{
 "cells": [
  {
   "attachments": {},
   "cell_type": "markdown",
   "metadata": {},
   "source": [
    "# L3264 P=[000]"
   ]
  },
  {
   "attachments": {},
   "cell_type": "markdown",
   "metadata": {},
   "source": [
    "## Read data into corrMatrix [Always Run]\n",
    "\n",
    "First we read the data, making sure the correlation matrix is hermitian in the process.  It seems that one configuration has an issue and is only hermitian to a precision of 1e-4, so we remove it for now.  I can remove one more so that there are 296 configurations, which is divisible by 2,4,8 for binning purposes."
   ]
  },
  {
   "cell_type": "code",
   "execution_count": 3,
   "metadata": {},
   "outputs": [
    {
     "name": "stdout",
     "output_type": "stream",
     "text": [
      "The autoreload extension is already loaded. To reload it, use:\n",
      "  %reload_ext autoreload\n"
     ]
    }
   ],
   "source": [
    "%load_ext autoreload\n",
    "%autoreload 2\n",
    "\n",
    "from utils import *\n",
    "from jk import *\n",
    "from pivot_method import *\n",
    "from stats import *\n",
    "from fitting import *\n",
    "from plotting import *\n",
    "\n",
    "import gvar \n",
    "import lsqfit\n",
    "import matplotlib.pyplot as plt \n",
    "\n",
    "import multiprocess as MP\n",
    "import os\n",
    "\n",
    "dataDir=os.path.join(os.path.expanduser('~'), \"Documents\",\n",
    "                    \"LatticeQCD\", \"A1\", \"L3264\")"
   ]
  },
  {
   "cell_type": "code",
   "execution_count": 4,
   "metadata": {},
   "outputs": [
    {
     "name": "stdout",
     "output_type": "stream",
     "text": [
      "(400, 24, 13, 13)\n"
     ]
    }
   ],
   "source": [
    "mpi=0.1378\n",
    "\n",
    "NOPS=13\n",
    "NT=24\n",
    "NCFG=parse_corr_file(dataDir,0,0,NT).shape[0]\n",
    "\n",
    "corrMatrix=np.array([[parse_corr_file(dataDir,i,j,NT) for i in range(NOPS)] for j in range(NOPS)])\n",
    "corrMatrix=np.moveaxis(corrMatrix,[0,1,2,3],[2,3,0,1])\n",
    "#corrMatrixr=normalize_corr_matix(corrMatrix, 1)\n",
    "\n",
    "print(corrMatrix.shape)\n"
   ]
  },
  {
   "attachments": {},
   "cell_type": "markdown",
   "metadata": {},
   "source": [
    "$$\n",
    "    C^N(t)_{ij}=\\frac{C(t)_{ij}}{\\sqrt{C(t0)_{ii}C(t0)_{jj}}}\n",
    "$$"
   ]
  },
  {
   "cell_type": "code",
   "execution_count": 5,
   "metadata": {},
   "outputs": [
    {
     "name": "stdout",
     "output_type": "stream",
     "text": [
      "WARNING: Non hermitian correlator matrix to atol=1e-08...\n",
      "         Checking ensemble average, c[t,i,j]\n"
     ]
    },
    {
     "data": {
      "text/plain": [
       "False"
      ]
     },
     "execution_count": 5,
     "metadata": {},
     "output_type": "execute_result"
    }
   ],
   "source": [
    "is_hermitian(corrMatrix,1e-8)"
   ]
  },
  {
   "cell_type": "code",
   "execution_count": 6,
   "metadata": {},
   "outputs": [
    {
     "name": "stdout",
     "output_type": "stream",
     "text": [
      "cfg #4 for ts=[6] non-hermitian to 1e-8\n",
      "cfg #125 for ts=[21] non-hermitian to 1e-8\n"
     ]
    }
   ],
   "source": [
    "non_hermitian_configs(corrMatrix)"
   ]
  },
  {
   "cell_type": "code",
   "execution_count": 7,
   "metadata": {},
   "outputs": [
    {
     "name": "stdout",
     "output_type": "stream",
     "text": [
      "Reached tolerance at 1.00e-08\n"
     ]
    }
   ],
   "source": [
    "non_hermitian_tolerance(corrMatrix[319,10])"
   ]
  },
  {
   "cell_type": "code",
   "execution_count": 8,
   "metadata": {},
   "outputs": [],
   "source": [
    "#corrMatrix=np.delete(corrMatrix,144,axis=0)\n",
    "#corrMatrix=np.delete(corrMatrix,297,axis=0) \n",
    "#is_hermitian(corrMatrix)"
   ]
  },
  {
   "cell_type": "code",
   "execution_count": 9,
   "metadata": {},
   "outputs": [
    {
     "data": {
      "text/plain": [
       "(400, 24, 13, 13)"
      ]
     },
     "execution_count": 9,
     "metadata": {},
     "output_type": "execute_result"
    }
   ],
   "source": [
    "corrMatrix.shape"
   ]
  },
  {
   "attachments": {},
   "cell_type": "markdown",
   "metadata": {},
   "source": [
    "## Raw effective masses"
   ]
  },
  {
   "cell_type": "code",
   "execution_count": null,
   "metadata": {},
   "outputs": [],
   "source": []
  },
  {
   "cell_type": "code",
   "execution_count": 34,
   "metadata": {},
   "outputs": [
    {
     "name": "stderr",
     "output_type": "stream",
     "text": [
      "/home/chris/Code/LQCD/a1_analysis/utils.py:42: ComplexWarning: Casting complex values to real discards the imaginary part\n",
      "  res.append(math.log(avg[t]/avg[t+1]))\n",
      "/home/chris/Code/LQCD/a1_analysis/utils.py:44: ComplexWarning: Casting complex values to real discards the imaginary part\n",
      "  res.append(-1j*math.pi + math.log(-avg[t]/avg[t+1]))\n"
     ]
    },
    {
     "data": {
      "image/png": "[encoded data removed]",
      "text/plain": [
       "<Figure size 432x288 with 1 Axes>"
      ]
     },
     "metadata": {
      "needs_background": "light"
     },
     "output_type": "display_data"
    },
    {
     "name": "stderr",
     "output_type": "stream",
     "text": [
      "/home/chris/Code/LQCD/a1_analysis/utils.py:42: ComplexWarning: Casting complex values to real discards the imaginary part\n",
      "  res.append(math.log(avg[t]/avg[t+1]))\n",
      "/home/chris/Code/LQCD/a1_analysis/utils.py:44: ComplexWarning: Casting complex values to real discards the imaginary part\n",
      "  res.append(-1j*math.pi + math.log(-avg[t]/avg[t+1]))\n"
     ]
    },
    {
     "data": {
      "image/png": "[encoded data removed]",
      "text/plain": [
       "<Figure size 432x288 with 1 Axes>"
      ]
     },
     "metadata": {
      "needs_background": "light"
     },
     "output_type": "display_data"
    },
    {
     "name": "stderr",
     "output_type": "stream",
     "text": [
      "/home/chris/Code/LQCD/a1_analysis/utils.py:42: ComplexWarning: Casting complex values to real discards the imaginary part\n",
      "  res.append(math.log(avg[t]/avg[t+1]))\n",
      "/home/chris/Code/LQCD/a1_analysis/utils.py:44: ComplexWarning: Casting complex values to real discards the imaginary part\n",
      "  res.append(-1j*math.pi + math.log(-avg[t]/avg[t+1]))\n"
     ]
    },
    {
     "data": {
      "image/png": "[encoded data removed]",
      "text/plain": [
       "<Figure size 432x288 with 1 Axes>"
      ]
     },
     "metadata": {
      "needs_background": "light"
     },
     "output_type": "display_data"
    },
    {
     "name": "stderr",
     "output_type": "stream",
     "text": [
      "/home/chris/Code/LQCD/a1_analysis/utils.py:42: ComplexWarning: Casting complex values to real discards the imaginary part\n",
      "  res.append(math.log(avg[t]/avg[t+1]))\n"
     ]
    },
    {
     "data": {
      "image/png": "[encoded data removed]",
      "text/plain": [
       "<Figure size 432x288 with 1 Axes>"
      ]
     },
     "metadata": {
      "needs_background": "light"
     },
     "output_type": "display_data"
    },
    {
     "name": "stderr",
     "output_type": "stream",
     "text": [
      "/home/chris/Code/LQCD/a1_analysis/utils.py:42: ComplexWarning: Casting complex values to real discards the imaginary part\n",
      "  res.append(math.log(avg[t]/avg[t+1]))\n",
      "/home/chris/Code/LQCD/a1_analysis/utils.py:44: ComplexWarning: Casting complex values to real discards the imaginary part\n",
      "  res.append(-1j*math.pi + math.log(-avg[t]/avg[t+1]))\n"
     ]
    },
    {
     "data": {
      "image/png": "[encoded data removed]",
      "text/plain": [
       "<Figure size 432x288 with 1 Axes>"
      ]
     },
     "metadata": {
      "needs_background": "light"
     },
     "output_type": "display_data"
    },
    {
     "name": "stderr",
     "output_type": "stream",
     "text": [
      "/home/chris/Code/LQCD/a1_analysis/utils.py:42: ComplexWarning: Casting complex values to real discards the imaginary part\n",
      "  res.append(math.log(avg[t]/avg[t+1]))\n",
      "/home/chris/Code/LQCD/a1_analysis/utils.py:44: ComplexWarning: Casting complex values to real discards the imaginary part\n",
      "  res.append(-1j*math.pi + math.log(-avg[t]/avg[t+1]))\n"
     ]
    },
    {
     "data": {
      "image/png": "[encoded data removed]",
      "text/plain": [
       "<Figure size 432x288 with 1 Axes>"
      ]
     },
     "metadata": {
      "needs_background": "light"
     },
     "output_type": "display_data"
    },
    {
     "name": "stderr",
     "output_type": "stream",
     "text": [
      "/home/chris/Code/LQCD/a1_analysis/utils.py:42: ComplexWarning: Casting complex values to real discards the imaginary part\n",
      "  res.append(math.log(avg[t]/avg[t+1]))\n"
     ]
    },
    {
     "data": {
      "image/png": "[encoded data removed]",
      "text/plain": [
       "<Figure size 432x288 with 1 Axes>"
      ]
     },
     "metadata": {
      "needs_background": "light"
     },
     "output_type": "display_data"
    },
    {
     "name": "stderr",
     "output_type": "stream",
     "text": [
      "/home/chris/Code/LQCD/a1_analysis/utils.py:42: ComplexWarning: Casting complex values to real discards the imaginary part\n",
      "  res.append(math.log(avg[t]/avg[t+1]))\n",
      "/home/chris/Code/LQCD/a1_analysis/utils.py:44: ComplexWarning: Casting complex values to real discards the imaginary part\n",
      "  res.append(-1j*math.pi + math.log(-avg[t]/avg[t+1]))\n"
     ]
    },
    {
     "data": {
      "image/png": "[encoded data removed]",
      "text/plain": [
       "<Figure size 432x288 with 1 Axes>"
      ]
     },
     "metadata": {
      "needs_background": "light"
     },
     "output_type": "display_data"
    },
    {
     "name": "stderr",
     "output_type": "stream",
     "text": [
      "/home/chris/Code/LQCD/a1_analysis/utils.py:42: ComplexWarning: Casting complex values to real discards the imaginary part\n",
      "  res.append(math.log(avg[t]/avg[t+1]))\n",
      "/home/chris/Code/LQCD/a1_analysis/utils.py:44: ComplexWarning: Casting complex values to real discards the imaginary part\n",
      "  res.append(-1j*math.pi + math.log(-avg[t]/avg[t+1]))\n"
     ]
    },
    {
     "data": {
      "image/png": "[encoded data removed]",
      "text/plain": [
       "<Figure size 432x288 with 1 Axes>"
      ]
     },
     "metadata": {
      "needs_background": "light"
     },
     "output_type": "display_data"
    },
    {
     "name": "stderr",
     "output_type": "stream",
     "text": [
      "/home/chris/Code/LQCD/a1_analysis/utils.py:42: ComplexWarning: Casting complex values to real discards the imaginary part\n",
      "  res.append(math.log(avg[t]/avg[t+1]))\n",
      "/home/chris/Code/LQCD/a1_analysis/utils.py:44: ComplexWarning: Casting complex values to real discards the imaginary part\n",
      "  res.append(-1j*math.pi + math.log(-avg[t]/avg[t+1]))\n"
     ]
    },
    {
     "data": {
      "image/png": "[encoded data removed]",
      "text/plain": [
       "<Figure size 432x288 with 1 Axes>"
      ]
     },
     "metadata": {
      "needs_background": "light"
     },
     "output_type": "display_data"
    },
    {
     "name": "stderr",
     "output_type": "stream",
     "text": [
      "/home/chris/Code/LQCD/a1_analysis/utils.py:42: ComplexWarning: Casting complex values to real discards the imaginary part\n",
      "  res.append(math.log(avg[t]/avg[t+1]))\n",
      "/home/chris/Code/LQCD/a1_analysis/utils.py:44: ComplexWarning: Casting complex values to real discards the imaginary part\n",
      "  res.append(-1j*math.pi + math.log(-avg[t]/avg[t+1]))\n"
     ]
    },
    {
     "data": {
      "image/png": "[encoded data removed]",
      "text/plain": [
       "<Figure size 432x288 with 1 Axes>"
      ]
     },
     "metadata": {
      "needs_background": "light"
     },
     "output_type": "display_data"
    },
    {
     "name": "stderr",
     "output_type": "stream",
     "text": [
      "/home/chris/Code/LQCD/a1_analysis/utils.py:42: ComplexWarning: Casting complex values to real discards the imaginary part\n",
      "  res.append(math.log(avg[t]/avg[t+1]))\n",
      "/home/chris/Code/LQCD/a1_analysis/utils.py:44: ComplexWarning: Casting complex values to real discards the imaginary part\n",
      "  res.append(-1j*math.pi + math.log(-avg[t]/avg[t+1]))\n"
     ]
    },
    {
     "data": {
      "image/png": "[encoded data removed]",
      "text/plain": [
       "<Figure size 432x288 with 1 Axes>"
      ]
     },
     "metadata": {
      "needs_background": "light"
     },
     "output_type": "display_data"
    },
    {
     "name": "stderr",
     "output_type": "stream",
     "text": [
      "/home/chris/Code/LQCD/a1_analysis/utils.py:42: ComplexWarning: Casting complex values to real discards the imaginary part\n",
      "  res.append(math.log(avg[t]/avg[t+1]))\n"
     ]
    },
    {
     "data": {
      "image/png": "[encoded data removed]",
      "text/plain": [
       "<Figure size 432x288 with 1 Axes>"
      ]
     },
     "metadata": {
      "needs_background": "light"
     },
     "output_type": "display_data"
    }
   ],
   "source": [
    "for i in range(NOPS):\n",
    "    c00=corrMatrix[:,:,i,i]\n",
    "    effMass=jackKnife(log_effective_mass, c00.real)\n",
    "    plt.errorbar([t for t in range(len(effMass[0]))], effMass[0].real/mpi, yerr=effMass[1].real/mpi,\n",
    "        linestyle=\"None\", marker=\"o\")\n",
    "    plt.ylim(3,5.5)\n",
    "    plt.show()"
   ]
  },
  {
   "attachments": {},
   "cell_type": "markdown",
   "metadata": {},
   "source": [
    "## Removing one op at a time"
   ]
  },
  {
   "cell_type": "code",
   "execution_count": 10,
   "metadata": {},
   "outputs": [],
   "source": [
    "fitTypes={}\n",
    "fitTypes['single']={'fcn': single_exp, 'p0': p0_single()}\n",
    "# fitTypes['double']={'fcn': double_exp, 'p0': p0_double()}\n",
    "fitTypes['triple']={'fcn': triple_exp, 'p0': p0_triple()}\n",
    "\n",
    "allOps = [o for o in range(NOPS)]\n",
    "opBasis = [[o for o in range(NOPS)] for i in range(NOPS)]\n",
    "for i,lst in enumerate(opBasis[0:2]):\n",
    "    lst.pop(i)\n",
    "opBasis.append(allOps)\n",
    "\n",
    "subCorrMatrix = lambda ops : corrMatrix.take(ops, axis=3).take(ops, axis=2)\n",
    "\n",
    "def get_allEnergies(t0,td):\n",
    "    allEnergies={'mavg': {}, 'best': {}}\n",
    "    fitEns=5\n",
    "    for idx,ops in enumerate(opBasis):\n",
    "        pivotedCorr=get_pivoted_corr(subCorrMatrix(ops),t0,td)\n",
    "\n",
    "        getModelAvg = lambda en : perform_model_avg(pivotedCorr, en, fitTypes, t0, NT, mpi)\n",
    "        getBestFit = lambda en: perform_best_fit(pivotedCorr, en, fitTypes, t0, NT, mpi)\n",
    "\n",
    "        mpPool = MP.Pool(6)    \n",
    "        mAvgs = list(mpPool.map(getModelAvg, range(fitEns)))\n",
    "        bestFits = list(mpPool.map(getBestFit, range(fitEns)))\n",
    "\n",
    "        allEnergies['mavg'][idx]=mAvgs\n",
    "        allEnergies['best'][idx]=bestFits\n",
    "\n",
    "        print(\"done with op set {}\".format(idx))\n",
    "        pivotedCorr=None\n",
    "    return allEnergies"
   ]
  },
  {
   "cell_type": "code",
   "execution_count": 36,
   "metadata": {},
   "outputs": [
    {
     "name": "stderr",
     "output_type": "stream",
     "text": [
      "/home/chris/Code/LQCD/a1_analysis/fitting.py:242: RuntimeWarning: overflow encountered in exp\n",
      "  return p[\"A0\"]*np.exp(-p[\"E0\"]*t)\n",
      "/home/chris/Code/LQCD/a1_analysis/fitting.py:242: RuntimeWarning: overflow encountered in exp\n",
      "  return p[\"A0\"]*np.exp(-p[\"E0\"]*t)\n",
      "/home/chris/anaconda3/envs/LQCD/lib/python3.9/site-packages/scipy/optimize/_lsq/common.py:115: RuntimeWarning: divide by zero encountered in true_divide\n",
      "  phi_prime = -np.sum(suf ** 2 / denom**3) / p_norm\n",
      "/home/chris/Code/LQCD/a1_analysis/fitting.py:246: RuntimeWarning: overflow encountered in exp\n",
      "  return p[\"A0\"]*np.exp(-p[\"E0\"]*t)+p[\"A1\"]*np.exp(-p[\"E1\"]*t)+p[\"A2\"]*np.exp(-p[\"E2\"]*t)\n",
      "/home/chris/Code/LQCD/a1_analysis/fitting.py:246: RuntimeWarning: overflow encountered in exp\n",
      "  return p[\"A0\"]*np.exp(-p[\"E0\"]*t)+p[\"A1\"]*np.exp(-p[\"E1\"]*t)+p[\"A2\"]*np.exp(-p[\"E2\"]*t)\n",
      "/home/chris/Code/LQCD/a1_analysis/fitting.py:246: RuntimeWarning: overflow encountered in exp\n",
      "  return p[\"A0\"]*np.exp(-p[\"E0\"]*t)+p[\"A1\"]*np.exp(-p[\"E1\"]*t)+p[\"A2\"]*np.exp(-p[\"E2\"]*t)\n",
      "/home/chris/Code/LQCD/a1_analysis/fitting.py:242: RuntimeWarning: overflow encountered in exp\n",
      "  return p[\"A0\"]*np.exp(-p[\"E0\"]*t)\n",
      "/home/chris/Code/LQCD/a1_analysis/fitting.py:242: RuntimeWarning: overflow encountered in exp\n",
      "  return p[\"A0\"]*np.exp(-p[\"E0\"]*t)\n",
      "/home/chris/anaconda3/envs/LQCD/lib/python3.9/site-packages/scipy/optimize/_lsq/common.py:115: RuntimeWarning: divide by zero encountered in true_divide\n",
      "  phi_prime = -np.sum(suf ** 2 / denom**3) / p_norm\n",
      "/home/chris/Code/LQCD/a1_analysis/fitting.py:246: RuntimeWarning: overflow encountered in exp\n",
      "  return p[\"A0\"]*np.exp(-p[\"E0\"]*t)+p[\"A1\"]*np.exp(-p[\"E1\"]*t)+p[\"A2\"]*np.exp(-p[\"E2\"]*t)\n",
      "/home/chris/Code/LQCD/a1_analysis/fitting.py:246: RuntimeWarning: overflow encountered in exp\n",
      "  return p[\"A0\"]*np.exp(-p[\"E0\"]*t)+p[\"A1\"]*np.exp(-p[\"E1\"]*t)+p[\"A2\"]*np.exp(-p[\"E2\"]*t)\n"
     ]
    },
    {
     "name": "stdout",
     "output_type": "stream",
     "text": [
      "done with op set 0\n"
     ]
    },
    {
     "name": "stderr",
     "output_type": "stream",
     "text": [
      "/home/chris/Code/LQCD/a1_analysis/fitting.py:242: RuntimeWarning: overflow encountered in exp\n",
      "  return p[\"A0\"]*np.exp(-p[\"E0\"]*t)\n",
      "/home/chris/Code/LQCD/a1_analysis/fitting.py:242: RuntimeWarning: overflow encountered in exp\n",
      "  return p[\"A0\"]*np.exp(-p[\"E0\"]*t)\n",
      "/home/chris/Code/LQCD/a1_analysis/fitting.py:246: RuntimeWarning: overflow encountered in exp\n",
      "  return p[\"A0\"]*np.exp(-p[\"E0\"]*t)+p[\"A1\"]*np.exp(-p[\"E1\"]*t)+p[\"A2\"]*np.exp(-p[\"E2\"]*t)\n",
      "/home/chris/Code/LQCD/a1_analysis/stats.py:96: RuntimeWarning: invalid value encountered in sqrt\n",
      "  return gv.gvar(mean_avg, np.sqrt(var_avg))\n",
      "/home/chris/Code/LQCD/a1_analysis/fitting.py:246: RuntimeWarning: overflow encountered in exp\n",
      "  return p[\"A0\"]*np.exp(-p[\"E0\"]*t)+p[\"A1\"]*np.exp(-p[\"E1\"]*t)+p[\"A2\"]*np.exp(-p[\"E2\"]*t)\n",
      "/home/chris/Code/LQCD/a1_analysis/fitting.py:246: RuntimeWarning: overflow encountered in exp\n",
      "  return p[\"A0\"]*np.exp(-p[\"E0\"]*t)+p[\"A1\"]*np.exp(-p[\"E1\"]*t)+p[\"A2\"]*np.exp(-p[\"E2\"]*t)\n",
      "/home/chris/Code/LQCD/a1_analysis/fitting.py:246: RuntimeWarning: invalid value encountered in add\n",
      "  return p[\"A0\"]*np.exp(-p[\"E0\"]*t)+p[\"A1\"]*np.exp(-p[\"E1\"]*t)+p[\"A2\"]*np.exp(-p[\"E2\"]*t)\n",
      "/home/chris/Code/LQCD/a1_analysis/fitting.py:246: RuntimeWarning: overflow encountered in multiply\n",
      "  return p[\"A0\"]*np.exp(-p[\"E0\"]*t)+p[\"A1\"]*np.exp(-p[\"E1\"]*t)+p[\"A2\"]*np.exp(-p[\"E2\"]*t)\n",
      "/home/chris/Code/LQCD/a1_analysis/stats.py:96: RuntimeWarning: invalid value encountered in sqrt\n",
      "  return gv.gvar(mean_avg, np.sqrt(var_avg))\n",
      "/home/chris/Code/LQCD/a1_analysis/fitting.py:242: RuntimeWarning: overflow encountered in exp\n",
      "  return p[\"A0\"]*np.exp(-p[\"E0\"]*t)\n",
      "/home/chris/Code/LQCD/a1_analysis/fitting.py:246: RuntimeWarning: overflow encountered in exp\n",
      "  return p[\"A0\"]*np.exp(-p[\"E0\"]*t)+p[\"A1\"]*np.exp(-p[\"E1\"]*t)+p[\"A2\"]*np.exp(-p[\"E2\"]*t)\n",
      "/home/chris/Code/LQCD/a1_analysis/fitting.py:246: RuntimeWarning: overflow encountered in exp\n",
      "  return p[\"A0\"]*np.exp(-p[\"E0\"]*t)+p[\"A1\"]*np.exp(-p[\"E1\"]*t)+p[\"A2\"]*np.exp(-p[\"E2\"]*t)\n",
      "/home/chris/Code/LQCD/a1_analysis/fitting.py:246: RuntimeWarning: invalid value encountered in add\n",
      "  return p[\"A0\"]*np.exp(-p[\"E0\"]*t)+p[\"A1\"]*np.exp(-p[\"E1\"]*t)+p[\"A2\"]*np.exp(-p[\"E2\"]*t)\n",
      "/home/chris/Code/LQCD/a1_analysis/fitting.py:246: RuntimeWarning: overflow encountered in multiply\n",
      "  return p[\"A0\"]*np.exp(-p[\"E0\"]*t)+p[\"A1\"]*np.exp(-p[\"E1\"]*t)+p[\"A2\"]*np.exp(-p[\"E2\"]*t)\n"
     ]
    },
    {
     "name": "stdout",
     "output_type": "stream",
     "text": [
      "done with op set 1\n"
     ]
    },
    {
     "name": "stderr",
     "output_type": "stream",
     "text": [
      "/home/chris/Code/LQCD/a1_analysis/fitting.py:246: RuntimeWarning: overflow encountered in exp\n",
      "  return p[\"A0\"]*np.exp(-p[\"E0\"]*t)+p[\"A1\"]*np.exp(-p[\"E1\"]*t)+p[\"A2\"]*np.exp(-p[\"E2\"]*t)\n",
      "/home/chris/Code/LQCD/a1_analysis/fitting.py:246: RuntimeWarning: overflow encountered in exp\n",
      "  return p[\"A0\"]*np.exp(-p[\"E0\"]*t)+p[\"A1\"]*np.exp(-p[\"E1\"]*t)+p[\"A2\"]*np.exp(-p[\"E2\"]*t)\n",
      "/home/chris/Code/LQCD/a1_analysis/fitting.py:246: RuntimeWarning: invalid value encountered in add\n",
      "  return p[\"A0\"]*np.exp(-p[\"E0\"]*t)+p[\"A1\"]*np.exp(-p[\"E1\"]*t)+p[\"A2\"]*np.exp(-p[\"E2\"]*t)\n",
      "/home/chris/Code/LQCD/a1_analysis/fitting.py:246: RuntimeWarning: overflow encountered in exp\n",
      "  return p[\"A0\"]*np.exp(-p[\"E0\"]*t)+p[\"A1\"]*np.exp(-p[\"E1\"]*t)+p[\"A2\"]*np.exp(-p[\"E2\"]*t)\n",
      "/home/chris/Code/LQCD/a1_analysis/stats.py:96: RuntimeWarning: invalid value encountered in sqrt\n",
      "  return gv.gvar(mean_avg, np.sqrt(var_avg))\n",
      "/home/chris/Code/LQCD/a1_analysis/stats.py:96: RuntimeWarning: invalid value encountered in sqrt\n",
      "  return gv.gvar(mean_avg, np.sqrt(var_avg))\n",
      "/home/chris/Code/LQCD/a1_analysis/fitting.py:246: RuntimeWarning: overflow encountered in exp\n",
      "  return p[\"A0\"]*np.exp(-p[\"E0\"]*t)+p[\"A1\"]*np.exp(-p[\"E1\"]*t)+p[\"A2\"]*np.exp(-p[\"E2\"]*t)\n",
      "/home/chris/Code/LQCD/a1_analysis/fitting.py:246: RuntimeWarning: overflow encountered in exp\n",
      "  return p[\"A0\"]*np.exp(-p[\"E0\"]*t)+p[\"A1\"]*np.exp(-p[\"E1\"]*t)+p[\"A2\"]*np.exp(-p[\"E2\"]*t)\n",
      "/home/chris/Code/LQCD/a1_analysis/fitting.py:246: RuntimeWarning: invalid value encountered in add\n",
      "  return p[\"A0\"]*np.exp(-p[\"E0\"]*t)+p[\"A1\"]*np.exp(-p[\"E1\"]*t)+p[\"A2\"]*np.exp(-p[\"E2\"]*t)\n",
      "/home/chris/Code/LQCD/a1_analysis/fitting.py:246: RuntimeWarning: overflow encountered in exp\n",
      "  return p[\"A0\"]*np.exp(-p[\"E0\"]*t)+p[\"A1\"]*np.exp(-p[\"E1\"]*t)+p[\"A2\"]*np.exp(-p[\"E2\"]*t)\n"
     ]
    },
    {
     "name": "stdout",
     "output_type": "stream",
     "text": [
      "done with op set 2\n"
     ]
    },
    {
     "name": "stderr",
     "output_type": "stream",
     "text": [
      "/home/chris/Code/LQCD/a1_analysis/fitting.py:246: RuntimeWarning: overflow encountered in exp\n",
      "  return p[\"A0\"]*np.exp(-p[\"E0\"]*t)+p[\"A1\"]*np.exp(-p[\"E1\"]*t)+p[\"A2\"]*np.exp(-p[\"E2\"]*t)\n",
      "/home/chris/Code/LQCD/a1_analysis/fitting.py:246: RuntimeWarning: overflow encountered in exp\n",
      "  return p[\"A0\"]*np.exp(-p[\"E0\"]*t)+p[\"A1\"]*np.exp(-p[\"E1\"]*t)+p[\"A2\"]*np.exp(-p[\"E2\"]*t)\n",
      "/home/chris/Code/LQCD/a1_analysis/fitting.py:246: RuntimeWarning: invalid value encountered in add\n",
      "  return p[\"A0\"]*np.exp(-p[\"E0\"]*t)+p[\"A1\"]*np.exp(-p[\"E1\"]*t)+p[\"A2\"]*np.exp(-p[\"E2\"]*t)\n",
      "/home/chris/Code/LQCD/a1_analysis/fitting.py:246: RuntimeWarning: overflow encountered in exp\n",
      "  return p[\"A0\"]*np.exp(-p[\"E0\"]*t)+p[\"A1\"]*np.exp(-p[\"E1\"]*t)+p[\"A2\"]*np.exp(-p[\"E2\"]*t)\n",
      "/home/chris/Code/LQCD/a1_analysis/stats.py:96: RuntimeWarning: invalid value encountered in sqrt\n",
      "  return gv.gvar(mean_avg, np.sqrt(var_avg))\n",
      "/home/chris/Code/LQCD/a1_analysis/stats.py:96: RuntimeWarning: invalid value encountered in sqrt\n",
      "  return gv.gvar(mean_avg, np.sqrt(var_avg))\n",
      "/home/chris/Code/LQCD/a1_analysis/fitting.py:246: RuntimeWarning: overflow encountered in exp\n",
      "  return p[\"A0\"]*np.exp(-p[\"E0\"]*t)+p[\"A1\"]*np.exp(-p[\"E1\"]*t)+p[\"A2\"]*np.exp(-p[\"E2\"]*t)\n",
      "/home/chris/Code/LQCD/a1_analysis/fitting.py:246: RuntimeWarning: overflow encountered in exp\n",
      "  return p[\"A0\"]*np.exp(-p[\"E0\"]*t)+p[\"A1\"]*np.exp(-p[\"E1\"]*t)+p[\"A2\"]*np.exp(-p[\"E2\"]*t)\n",
      "/home/chris/Code/LQCD/a1_analysis/fitting.py:246: RuntimeWarning: invalid value encountered in add\n",
      "  return p[\"A0\"]*np.exp(-p[\"E0\"]*t)+p[\"A1\"]*np.exp(-p[\"E1\"]*t)+p[\"A2\"]*np.exp(-p[\"E2\"]*t)\n",
      "/home/chris/Code/LQCD/a1_analysis/fitting.py:246: RuntimeWarning: overflow encountered in exp\n",
      "  return p[\"A0\"]*np.exp(-p[\"E0\"]*t)+p[\"A1\"]*np.exp(-p[\"E1\"]*t)+p[\"A2\"]*np.exp(-p[\"E2\"]*t)\n"
     ]
    },
    {
     "name": "stdout",
     "output_type": "stream",
     "text": [
      "done with op set 3\n"
     ]
    },
    {
     "name": "stderr",
     "output_type": "stream",
     "text": [
      "/home/chris/Code/LQCD/a1_analysis/fitting.py:246: RuntimeWarning: overflow encountered in exp\n",
      "  return p[\"A0\"]*np.exp(-p[\"E0\"]*t)+p[\"A1\"]*np.exp(-p[\"E1\"]*t)+p[\"A2\"]*np.exp(-p[\"E2\"]*t)\n",
      "/home/chris/Code/LQCD/a1_analysis/fitting.py:246: RuntimeWarning: overflow encountered in exp\n",
      "  return p[\"A0\"]*np.exp(-p[\"E0\"]*t)+p[\"A1\"]*np.exp(-p[\"E1\"]*t)+p[\"A2\"]*np.exp(-p[\"E2\"]*t)\n",
      "/home/chris/Code/LQCD/a1_analysis/fitting.py:246: RuntimeWarning: invalid value encountered in add\n",
      "  return p[\"A0\"]*np.exp(-p[\"E0\"]*t)+p[\"A1\"]*np.exp(-p[\"E1\"]*t)+p[\"A2\"]*np.exp(-p[\"E2\"]*t)\n",
      "/home/chris/Code/LQCD/a1_analysis/fitting.py:246: RuntimeWarning: overflow encountered in exp\n",
      "  return p[\"A0\"]*np.exp(-p[\"E0\"]*t)+p[\"A1\"]*np.exp(-p[\"E1\"]*t)+p[\"A2\"]*np.exp(-p[\"E2\"]*t)\n",
      "/home/chris/Code/LQCD/a1_analysis/stats.py:96: RuntimeWarning: invalid value encountered in sqrt\n",
      "  return gv.gvar(mean_avg, np.sqrt(var_avg))\n",
      "/home/chris/Code/LQCD/a1_analysis/stats.py:96: RuntimeWarning: invalid value encountered in sqrt\n",
      "  return gv.gvar(mean_avg, np.sqrt(var_avg))\n"
     ]
    },
    {
     "ename": "KeyboardInterrupt",
     "evalue": "",
     "output_type": "error",
     "traceback": [
      "\u001b[0;31m---------------------------------------------------------------------------\u001b[0m",
      "\u001b[0;31mKeyboardInterrupt\u001b[0m                         Traceback (most recent call last)",
      "\u001b[1;32m/home/chris/Code/LQCD/a1_analysis/L3264_P000.ipynb Cell 16'\u001b[0m in \u001b[0;36m<cell line: 6>\u001b[0;34m()\u001b[0m\n\u001b[1;32m      <a href='vscode-notebook-cell:/home/chris/Code/LQCD/a1_analysis/L3264_P000.ipynb#ch0000014?line=3'>4</a>\u001b[0m td\u001b[39m=\u001b[39m\u001b[39m5\u001b[39m\n\u001b[1;32m      <a href='vscode-notebook-cell:/home/chris/Code/LQCD/a1_analysis/L3264_P000.ipynb#ch0000014?line=4'>5</a>\u001b[0m corrMatrix\u001b[39m=\u001b[39mcorrMatrix\u001b[39m.\u001b[39mastype(np\u001b[39m.\u001b[39mcomplex64)\n\u001b[0;32m----> <a href='vscode-notebook-cell:/home/chris/Code/LQCD/a1_analysis/L3264_P000.ipynb#ch0000014?line=5'>6</a>\u001b[0m allEnergies\u001b[39m=\u001b[39mget_allEnergies(t0\u001b[39m=\u001b[39;49mt0,td\u001b[39m=\u001b[39;49mtd)\n",
      "\u001b[1;32m/home/chris/Code/LQCD/a1_analysis/L3264_P000.ipynb Cell 15'\u001b[0m in \u001b[0;36mget_allEnergies\u001b[0;34m(t0, td)\u001b[0m\n\u001b[1;32m     <a href='vscode-notebook-cell:/home/chris/Code/LQCD/a1_analysis/L3264_P000.ipynb#ch0000013?line=20'>21</a>\u001b[0m getBestFit \u001b[39m=\u001b[39m \u001b[39mlambda\u001b[39;00m en: perform_best_fit(pivotedCorr, en, fitTypes, t0, NT, mpi)\n\u001b[1;32m     <a href='vscode-notebook-cell:/home/chris/Code/LQCD/a1_analysis/L3264_P000.ipynb#ch0000013?line=22'>23</a>\u001b[0m mpPool \u001b[39m=\u001b[39m MP\u001b[39m.\u001b[39mPool(\u001b[39m6\u001b[39m)    \n\u001b[0;32m---> <a href='vscode-notebook-cell:/home/chris/Code/LQCD/a1_analysis/L3264_P000.ipynb#ch0000013?line=23'>24</a>\u001b[0m mAvgs \u001b[39m=\u001b[39m \u001b[39mlist\u001b[39m(mpPool\u001b[39m.\u001b[39;49mmap(getModelAvg, \u001b[39mrange\u001b[39;49m(fitEns)))\n\u001b[1;32m     <a href='vscode-notebook-cell:/home/chris/Code/LQCD/a1_analysis/L3264_P000.ipynb#ch0000013?line=24'>25</a>\u001b[0m bestFits \u001b[39m=\u001b[39m \u001b[39mlist\u001b[39m(mpPool\u001b[39m.\u001b[39mmap(getBestFit, \u001b[39mrange\u001b[39m(fitEns)))\n\u001b[1;32m     <a href='vscode-notebook-cell:/home/chris/Code/LQCD/a1_analysis/L3264_P000.ipynb#ch0000013?line=26'>27</a>\u001b[0m allEnergies[\u001b[39m'\u001b[39m\u001b[39mmavg\u001b[39m\u001b[39m'\u001b[39m][idx]\u001b[39m=\u001b[39mmAvgs\n",
      "File \u001b[0;32m~/anaconda3/envs/LQCD/lib/python3.9/site-packages/multiprocess/pool.py:364\u001b[0m, in \u001b[0;36mPool.map\u001b[0;34m(self, func, iterable, chunksize)\u001b[0m\n\u001b[1;32m    <a href='file:///home/chris/anaconda3/envs/LQCD/lib/python3.9/site-packages/multiprocess/pool.py?line=358'>359</a>\u001b[0m \u001b[39mdef\u001b[39;00m \u001b[39mmap\u001b[39m(\u001b[39mself\u001b[39m, func, iterable, chunksize\u001b[39m=\u001b[39m\u001b[39mNone\u001b[39;00m):\n\u001b[1;32m    <a href='file:///home/chris/anaconda3/envs/LQCD/lib/python3.9/site-packages/multiprocess/pool.py?line=359'>360</a>\u001b[0m \u001b[39m    \u001b[39m\u001b[39m'''\u001b[39;00m\n\u001b[1;32m    <a href='file:///home/chris/anaconda3/envs/LQCD/lib/python3.9/site-packages/multiprocess/pool.py?line=360'>361</a>\u001b[0m \u001b[39m    Apply `func` to each element in `iterable`, collecting the results\u001b[39;00m\n\u001b[1;32m    <a href='file:///home/chris/anaconda3/envs/LQCD/lib/python3.9/site-packages/multiprocess/pool.py?line=361'>362</a>\u001b[0m \u001b[39m    in a list that is returned.\u001b[39;00m\n\u001b[1;32m    <a href='file:///home/chris/anaconda3/envs/LQCD/lib/python3.9/site-packages/multiprocess/pool.py?line=362'>363</a>\u001b[0m \u001b[39m    '''\u001b[39;00m\n\u001b[0;32m--> <a href='file:///home/chris/anaconda3/envs/LQCD/lib/python3.9/site-packages/multiprocess/pool.py?line=363'>364</a>\u001b[0m     \u001b[39mreturn\u001b[39;00m \u001b[39mself\u001b[39;49m\u001b[39m.\u001b[39;49m_map_async(func, iterable, mapstar, chunksize)\u001b[39m.\u001b[39;49mget()\n",
      "File \u001b[0;32m~/anaconda3/envs/LQCD/lib/python3.9/site-packages/multiprocess/pool.py:765\u001b[0m, in \u001b[0;36mApplyResult.get\u001b[0;34m(self, timeout)\u001b[0m\n\u001b[1;32m    <a href='file:///home/chris/anaconda3/envs/LQCD/lib/python3.9/site-packages/multiprocess/pool.py?line=763'>764</a>\u001b[0m \u001b[39mdef\u001b[39;00m \u001b[39mget\u001b[39m(\u001b[39mself\u001b[39m, timeout\u001b[39m=\u001b[39m\u001b[39mNone\u001b[39;00m):\n\u001b[0;32m--> <a href='file:///home/chris/anaconda3/envs/LQCD/lib/python3.9/site-packages/multiprocess/pool.py?line=764'>765</a>\u001b[0m     \u001b[39mself\u001b[39;49m\u001b[39m.\u001b[39;49mwait(timeout)\n\u001b[1;32m    <a href='file:///home/chris/anaconda3/envs/LQCD/lib/python3.9/site-packages/multiprocess/pool.py?line=765'>766</a>\u001b[0m     \u001b[39mif\u001b[39;00m \u001b[39mnot\u001b[39;00m \u001b[39mself\u001b[39m\u001b[39m.\u001b[39mready():\n\u001b[1;32m    <a href='file:///home/chris/anaconda3/envs/LQCD/lib/python3.9/site-packages/multiprocess/pool.py?line=766'>767</a>\u001b[0m         \u001b[39mraise\u001b[39;00m \u001b[39mTimeoutError\u001b[39;00m\n",
      "File \u001b[0;32m~/anaconda3/envs/LQCD/lib/python3.9/site-packages/multiprocess/pool.py:762\u001b[0m, in \u001b[0;36mApplyResult.wait\u001b[0;34m(self, timeout)\u001b[0m\n\u001b[1;32m    <a href='file:///home/chris/anaconda3/envs/LQCD/lib/python3.9/site-packages/multiprocess/pool.py?line=760'>761</a>\u001b[0m \u001b[39mdef\u001b[39;00m \u001b[39mwait\u001b[39m(\u001b[39mself\u001b[39m, timeout\u001b[39m=\u001b[39m\u001b[39mNone\u001b[39;00m):\n\u001b[0;32m--> <a href='file:///home/chris/anaconda3/envs/LQCD/lib/python3.9/site-packages/multiprocess/pool.py?line=761'>762</a>\u001b[0m     \u001b[39mself\u001b[39;49m\u001b[39m.\u001b[39;49m_event\u001b[39m.\u001b[39;49mwait(timeout)\n",
      "File \u001b[0;32m~/anaconda3/envs/LQCD/lib/python3.9/threading.py:574\u001b[0m, in \u001b[0;36mEvent.wait\u001b[0;34m(self, timeout)\u001b[0m\n\u001b[1;32m    <a href='file:///home/chris/anaconda3/envs/LQCD/lib/python3.9/threading.py?line=571'>572</a>\u001b[0m signaled \u001b[39m=\u001b[39m \u001b[39mself\u001b[39m\u001b[39m.\u001b[39m_flag\n\u001b[1;32m    <a href='file:///home/chris/anaconda3/envs/LQCD/lib/python3.9/threading.py?line=572'>573</a>\u001b[0m \u001b[39mif\u001b[39;00m \u001b[39mnot\u001b[39;00m signaled:\n\u001b[0;32m--> <a href='file:///home/chris/anaconda3/envs/LQCD/lib/python3.9/threading.py?line=573'>574</a>\u001b[0m     signaled \u001b[39m=\u001b[39m \u001b[39mself\u001b[39;49m\u001b[39m.\u001b[39;49m_cond\u001b[39m.\u001b[39;49mwait(timeout)\n\u001b[1;32m    <a href='file:///home/chris/anaconda3/envs/LQCD/lib/python3.9/threading.py?line=574'>575</a>\u001b[0m \u001b[39mreturn\u001b[39;00m signaled\n",
      "File \u001b[0;32m~/anaconda3/envs/LQCD/lib/python3.9/threading.py:312\u001b[0m, in \u001b[0;36mCondition.wait\u001b[0;34m(self, timeout)\u001b[0m\n\u001b[1;32m    <a href='file:///home/chris/anaconda3/envs/LQCD/lib/python3.9/threading.py?line=309'>310</a>\u001b[0m \u001b[39mtry\u001b[39;00m:    \u001b[39m# restore state no matter what (e.g., KeyboardInterrupt)\u001b[39;00m\n\u001b[1;32m    <a href='file:///home/chris/anaconda3/envs/LQCD/lib/python3.9/threading.py?line=310'>311</a>\u001b[0m     \u001b[39mif\u001b[39;00m timeout \u001b[39mis\u001b[39;00m \u001b[39mNone\u001b[39;00m:\n\u001b[0;32m--> <a href='file:///home/chris/anaconda3/envs/LQCD/lib/python3.9/threading.py?line=311'>312</a>\u001b[0m         waiter\u001b[39m.\u001b[39;49macquire()\n\u001b[1;32m    <a href='file:///home/chris/anaconda3/envs/LQCD/lib/python3.9/threading.py?line=312'>313</a>\u001b[0m         gotit \u001b[39m=\u001b[39m \u001b[39mTrue\u001b[39;00m\n\u001b[1;32m    <a href='file:///home/chris/anaconda3/envs/LQCD/lib/python3.9/threading.py?line=313'>314</a>\u001b[0m     \u001b[39melse\u001b[39;00m:\n",
      "\u001b[0;31mKeyboardInterrupt\u001b[0m: "
     ]
    }
   ],
   "source": [
    "### t0=3, td=5\n",
    "\n",
    "t0=3\n",
    "td=5\n",
    "corrMatrix=corrMatrix.astype(np.complex64)\n",
    "allEnergies=get_allEnergies(t0=t0,td=td)"
   ]
  },
  {
   "cell_type": "code",
   "execution_count": 37,
   "metadata": {},
   "outputs": [
    {
     "data": {
      "image/png": "[encoded data removed]",
      "text/plain": [
       "<Figure size 864x576 with 1 Axes>"
      ]
     },
     "metadata": {
      "needs_background": "light"
     },
     "output_type": "display_data"
    }
   ],
   "source": [
    "plt.figure(figsize=(12,8))\n",
    "plot_fit_results(allEnergies,'best',mpi)\n",
    "plt.xlim(-0.5,15.5)\n",
    "plt.ylim(3.5,6)\n",
    "# plot ni levels after to get correct ylim\n",
    "#plot_ni_levels(niData)\n",
    "plt.title('Min $\\chi^2$, $t_0={}, t_d={}$'.format(t0,td))\n",
    "plt.show()"
   ]
  },
  {
   "cell_type": "code",
   "execution_count": 38,
   "metadata": {},
   "outputs": [
    {
     "data": {
      "image/png": "[encoded data removed]",
      "text/plain": [
       "<Figure size 864x576 with 1 Axes>"
      ]
     },
     "metadata": {
      "needs_background": "light"
     },
     "output_type": "display_data"
    }
   ],
   "source": [
    "plt.figure(figsize=(12,8))\n",
    "plot_fit_results(allEnergies,'mavg',mpi)\n",
    "plt.xlim(-0.5,15.5)\n",
    "plt.ylim(3.5,6)\n",
    "# plot ni levels after to get correct ylim\n",
    "#plot_ni_levels(niData)\n",
    "plt.title('Min $\\chi^2$, $t_0={}, t_d={}$'.format(t0,td))\n",
    "plt.show()"
   ]
  },
  {
   "cell_type": "code",
   "execution_count": 11,
   "metadata": {},
   "outputs": [
    {
     "name": "stderr",
     "output_type": "stream",
     "text": [
      "/home/chris/Code/LQCD/a1_analysis/fitting.py:242: RuntimeWarning: overflow encountered in exp\n",
      "  return p[\"A0\"]*np.exp(-p[\"E0\"]*t)\n",
      "/home/chris/Code/LQCD/a1_analysis/fitting.py:242: RuntimeWarning: overflow encountered in exp\n",
      "  return p[\"A0\"]*np.exp(-p[\"E0\"]*t)\n",
      "/home/chris/Code/LQCD/a1_analysis/fitting.py:246: RuntimeWarning: overflow encountered in exp\n",
      "  return p[\"A0\"]*np.exp(-p[\"E0\"]*t)+p[\"A1\"]*np.exp(-p[\"E1\"]*t)+p[\"A2\"]*np.exp(-p[\"E2\"]*t)\n",
      "/home/chris/Code/LQCD/a1_analysis/fitting.py:246: RuntimeWarning: overflow encountered in multiply\n",
      "  return p[\"A0\"]*np.exp(-p[\"E0\"]*t)+p[\"A1\"]*np.exp(-p[\"E1\"]*t)+p[\"A2\"]*np.exp(-p[\"E2\"]*t)\n",
      "/home/chris/Code/LQCD/a1_analysis/fitting.py:246: RuntimeWarning: overflow encountered in exp\n",
      "  return p[\"A0\"]*np.exp(-p[\"E0\"]*t)+p[\"A1\"]*np.exp(-p[\"E1\"]*t)+p[\"A2\"]*np.exp(-p[\"E2\"]*t)\n",
      "/home/chris/Code/LQCD/a1_analysis/fitting.py:246: RuntimeWarning: overflow encountered in exp\n",
      "  return p[\"A0\"]*np.exp(-p[\"E0\"]*t)+p[\"A1\"]*np.exp(-p[\"E1\"]*t)+p[\"A2\"]*np.exp(-p[\"E2\"]*t)\n",
      "/home/chris/Code/LQCD/a1_analysis/fitting.py:246: RuntimeWarning: overflow encountered in exp\n",
      "  return p[\"A0\"]*np.exp(-p[\"E0\"]*t)+p[\"A1\"]*np.exp(-p[\"E1\"]*t)+p[\"A2\"]*np.exp(-p[\"E2\"]*t)\n",
      "/home/chris/Code/LQCD/a1_analysis/fitting.py:242: RuntimeWarning: overflow encountered in exp\n",
      "  return p[\"A0\"]*np.exp(-p[\"E0\"]*t)\n",
      "/home/chris/Code/LQCD/a1_analysis/fitting.py:246: RuntimeWarning: overflow encountered in exp\n",
      "  return p[\"A0\"]*np.exp(-p[\"E0\"]*t)+p[\"A1\"]*np.exp(-p[\"E1\"]*t)+p[\"A2\"]*np.exp(-p[\"E2\"]*t)\n"
     ]
    },
    {
     "name": "stdout",
     "output_type": "stream",
     "text": [
      "done with op set 0\n"
     ]
    },
    {
     "name": "stderr",
     "output_type": "stream",
     "text": [
      "/home/chris/Code/LQCD/a1_analysis/fitting.py:242: RuntimeWarning: overflow encountered in exp\n",
      "  return p[\"A0\"]*np.exp(-p[\"E0\"]*t)\n",
      "/home/chris/Code/LQCD/a1_analysis/fitting.py:246: RuntimeWarning: overflow encountered in exp\n",
      "  return p[\"A0\"]*np.exp(-p[\"E0\"]*t)+p[\"A1\"]*np.exp(-p[\"E1\"]*t)+p[\"A2\"]*np.exp(-p[\"E2\"]*t)\n",
      "/home/chris/Code/LQCD/a1_analysis/stats.py:96: RuntimeWarning: invalid value encountered in sqrt\n",
      "  return gv.gvar(mean_avg, np.sqrt(var_avg))\n",
      "/home/chris/Code/LQCD/a1_analysis/fitting.py:246: RuntimeWarning: overflow encountered in exp\n",
      "  return p[\"A0\"]*np.exp(-p[\"E0\"]*t)+p[\"A1\"]*np.exp(-p[\"E1\"]*t)+p[\"A2\"]*np.exp(-p[\"E2\"]*t)\n",
      "/home/chris/Code/LQCD/a1_analysis/stats.py:96: RuntimeWarning: invalid value encountered in sqrt\n",
      "  return gv.gvar(mean_avg, np.sqrt(var_avg))\n",
      "/home/chris/Code/LQCD/a1_analysis/fitting.py:246: RuntimeWarning: overflow encountered in exp\n",
      "  return p[\"A0\"]*np.exp(-p[\"E0\"]*t)+p[\"A1\"]*np.exp(-p[\"E1\"]*t)+p[\"A2\"]*np.exp(-p[\"E2\"]*t)\n",
      "/home/chris/Code/LQCD/a1_analysis/fitting.py:246: RuntimeWarning: overflow encountered in exp\n",
      "  return p[\"A0\"]*np.exp(-p[\"E0\"]*t)+p[\"A1\"]*np.exp(-p[\"E1\"]*t)+p[\"A2\"]*np.exp(-p[\"E2\"]*t)\n",
      "/home/chris/Code/LQCD/a1_analysis/stats.py:96: RuntimeWarning: invalid value encountered in sqrt\n",
      "  return gv.gvar(mean_avg, np.sqrt(var_avg))\n",
      "/home/chris/Code/LQCD/a1_analysis/fitting.py:242: RuntimeWarning: overflow encountered in exp\n",
      "  return p[\"A0\"]*np.exp(-p[\"E0\"]*t)\n",
      "/home/chris/Code/LQCD/a1_analysis/fitting.py:246: RuntimeWarning: overflow encountered in exp\n",
      "  return p[\"A0\"]*np.exp(-p[\"E0\"]*t)+p[\"A1\"]*np.exp(-p[\"E1\"]*t)+p[\"A2\"]*np.exp(-p[\"E2\"]*t)\n"
     ]
    },
    {
     "name": "stdout",
     "output_type": "stream",
     "text": [
      "done with op set 1\n"
     ]
    },
    {
     "name": "stderr",
     "output_type": "stream",
     "text": [
      "/home/chris/anaconda3/envs/LQCD/lib/python3.10/site-packages/scipy/optimize/_lsq/common.py:115: RuntimeWarning: overflow encountered in power\n",
      "  phi_prime = -np.sum(suf ** 2 / denom**3) / p_norm\n",
      "/home/chris/Code/LQCD/a1_analysis/fitting.py:242: RuntimeWarning: overflow encountered in exp\n",
      "  return p[\"A0\"]*np.exp(-p[\"E0\"]*t)\n",
      "/home/chris/Code/LQCD/a1_analysis/fitting.py:246: RuntimeWarning: overflow encountered in exp\n",
      "  return p[\"A0\"]*np.exp(-p[\"E0\"]*t)+p[\"A1\"]*np.exp(-p[\"E1\"]*t)+p[\"A2\"]*np.exp(-p[\"E2\"]*t)\n",
      "/home/chris/Code/LQCD/a1_analysis/fitting.py:246: RuntimeWarning: overflow encountered in exp\n",
      "  return p[\"A0\"]*np.exp(-p[\"E0\"]*t)+p[\"A1\"]*np.exp(-p[\"E1\"]*t)+p[\"A2\"]*np.exp(-p[\"E2\"]*t)\n",
      "/home/chris/Code/LQCD/a1_analysis/fitting.py:246: RuntimeWarning: overflow encountered in exp\n",
      "  return p[\"A0\"]*np.exp(-p[\"E0\"]*t)+p[\"A1\"]*np.exp(-p[\"E1\"]*t)+p[\"A2\"]*np.exp(-p[\"E2\"]*t)\n",
      "/home/chris/Code/LQCD/a1_analysis/stats.py:96: RuntimeWarning: invalid value encountered in sqrt\n",
      "  return gv.gvar(mean_avg, np.sqrt(var_avg))\n",
      "/home/chris/Code/LQCD/a1_analysis/fitting.py:246: RuntimeWarning: overflow encountered in multiply\n",
      "  return p[\"A0\"]*np.exp(-p[\"E0\"]*t)+p[\"A1\"]*np.exp(-p[\"E1\"]*t)+p[\"A2\"]*np.exp(-p[\"E2\"]*t)\n",
      "/home/chris/Code/LQCD/a1_analysis/fitting.py:246: RuntimeWarning: overflow encountered in exp\n",
      "  return p[\"A0\"]*np.exp(-p[\"E0\"]*t)+p[\"A1\"]*np.exp(-p[\"E1\"]*t)+p[\"A2\"]*np.exp(-p[\"E2\"]*t)\n",
      "/home/chris/Code/LQCD/a1_analysis/stats.py:96: RuntimeWarning: invalid value encountered in sqrt\n",
      "  return gv.gvar(mean_avg, np.sqrt(var_avg))\n",
      "/home/chris/Code/LQCD/a1_analysis/fitting.py:246: RuntimeWarning: overflow encountered in exp\n",
      "  return p[\"A0\"]*np.exp(-p[\"E0\"]*t)+p[\"A1\"]*np.exp(-p[\"E1\"]*t)+p[\"A2\"]*np.exp(-p[\"E2\"]*t)\n",
      "/home/chris/Code/LQCD/a1_analysis/stats.py:96: RuntimeWarning: invalid value encountered in sqrt\n",
      "  return gv.gvar(mean_avg, np.sqrt(var_avg))\n",
      "/home/chris/Code/LQCD/a1_analysis/stats.py:96: RuntimeWarning: invalid value encountered in sqrt\n",
      "  return gv.gvar(mean_avg, np.sqrt(var_avg))\n",
      "/home/chris/anaconda3/envs/LQCD/lib/python3.10/site-packages/scipy/optimize/_lsq/common.py:115: RuntimeWarning: overflow encountered in power\n",
      "  phi_prime = -np.sum(suf ** 2 / denom**3) / p_norm\n",
      "/home/chris/Code/LQCD/a1_analysis/fitting.py:242: RuntimeWarning: overflow encountered in exp\n",
      "  return p[\"A0\"]*np.exp(-p[\"E0\"]*t)\n",
      "/home/chris/Code/LQCD/a1_analysis/fitting.py:246: RuntimeWarning: overflow encountered in exp\n",
      "  return p[\"A0\"]*np.exp(-p[\"E0\"]*t)+p[\"A1\"]*np.exp(-p[\"E1\"]*t)+p[\"A2\"]*np.exp(-p[\"E2\"]*t)\n",
      "/home/chris/Code/LQCD/a1_analysis/fitting.py:246: RuntimeWarning: overflow encountered in multiply\n",
      "  return p[\"A0\"]*np.exp(-p[\"E0\"]*t)+p[\"A1\"]*np.exp(-p[\"E1\"]*t)+p[\"A2\"]*np.exp(-p[\"E2\"]*t)\n"
     ]
    },
    {
     "name": "stdout",
     "output_type": "stream",
     "text": [
      "done with op set 2\n"
     ]
    },
    {
     "name": "stderr",
     "output_type": "stream",
     "text": [
      "/home/chris/anaconda3/envs/LQCD/lib/python3.10/site-packages/scipy/optimize/_lsq/common.py:115: RuntimeWarning: overflow encountered in power\n",
      "  phi_prime = -np.sum(suf ** 2 / denom**3) / p_norm\n",
      "/home/chris/Code/LQCD/a1_analysis/fitting.py:242: RuntimeWarning: overflow encountered in exp\n",
      "  return p[\"A0\"]*np.exp(-p[\"E0\"]*t)\n",
      "/home/chris/Code/LQCD/a1_analysis/fitting.py:246: RuntimeWarning: overflow encountered in exp\n",
      "  return p[\"A0\"]*np.exp(-p[\"E0\"]*t)+p[\"A1\"]*np.exp(-p[\"E1\"]*t)+p[\"A2\"]*np.exp(-p[\"E2\"]*t)\n",
      "/home/chris/Code/LQCD/a1_analysis/fitting.py:246: RuntimeWarning: overflow encountered in exp\n",
      "  return p[\"A0\"]*np.exp(-p[\"E0\"]*t)+p[\"A1\"]*np.exp(-p[\"E1\"]*t)+p[\"A2\"]*np.exp(-p[\"E2\"]*t)\n",
      "/home/chris/Code/LQCD/a1_analysis/fitting.py:246: RuntimeWarning: overflow encountered in exp\n",
      "  return p[\"A0\"]*np.exp(-p[\"E0\"]*t)+p[\"A1\"]*np.exp(-p[\"E1\"]*t)+p[\"A2\"]*np.exp(-p[\"E2\"]*t)\n",
      "/home/chris/Code/LQCD/a1_analysis/stats.py:96: RuntimeWarning: invalid value encountered in sqrt\n",
      "  return gv.gvar(mean_avg, np.sqrt(var_avg))\n",
      "/home/chris/Code/LQCD/a1_analysis/fitting.py:246: RuntimeWarning: overflow encountered in exp\n",
      "  return p[\"A0\"]*np.exp(-p[\"E0\"]*t)+p[\"A1\"]*np.exp(-p[\"E1\"]*t)+p[\"A2\"]*np.exp(-p[\"E2\"]*t)\n",
      "/home/chris/Code/LQCD/a1_analysis/fitting.py:246: RuntimeWarning: overflow encountered in multiply\n",
      "  return p[\"A0\"]*np.exp(-p[\"E0\"]*t)+p[\"A1\"]*np.exp(-p[\"E1\"]*t)+p[\"A2\"]*np.exp(-p[\"E2\"]*t)\n",
      "/home/chris/Code/LQCD/a1_analysis/stats.py:96: RuntimeWarning: invalid value encountered in sqrt\n",
      "  return gv.gvar(mean_avg, np.sqrt(var_avg))\n",
      "/home/chris/Code/LQCD/a1_analysis/fitting.py:246: RuntimeWarning: overflow encountered in exp\n",
      "  return p[\"A0\"]*np.exp(-p[\"E0\"]*t)+p[\"A1\"]*np.exp(-p[\"E1\"]*t)+p[\"A2\"]*np.exp(-p[\"E2\"]*t)\n",
      "/home/chris/Code/LQCD/a1_analysis/stats.py:96: RuntimeWarning: invalid value encountered in sqrt\n",
      "  return gv.gvar(mean_avg, np.sqrt(var_avg))\n",
      "/home/chris/Code/LQCD/a1_analysis/stats.py:96: RuntimeWarning: invalid value encountered in sqrt\n",
      "  return gv.gvar(mean_avg, np.sqrt(var_avg))\n",
      "/home/chris/Code/LQCD/a1_analysis/fitting.py:242: RuntimeWarning: overflow encountered in exp\n",
      "  return p[\"A0\"]*np.exp(-p[\"E0\"]*t)\n",
      "/home/chris/Code/LQCD/a1_analysis/fitting.py:246: RuntimeWarning: overflow encountered in exp\n",
      "  return p[\"A0\"]*np.exp(-p[\"E0\"]*t)+p[\"A1\"]*np.exp(-p[\"E1\"]*t)+p[\"A2\"]*np.exp(-p[\"E2\"]*t)\n"
     ]
    },
    {
     "name": "stdout",
     "output_type": "stream",
     "text": [
      "done with op set 3\n"
     ]
    },
    {
     "name": "stderr",
     "output_type": "stream",
     "text": [
      "/home/chris/anaconda3/envs/LQCD/lib/python3.10/site-packages/scipy/optimize/_lsq/common.py:115: RuntimeWarning: overflow encountered in power\n",
      "  phi_prime = -np.sum(suf ** 2 / denom**3) / p_norm\n",
      "/home/chris/Code/LQCD/a1_analysis/fitting.py:242: RuntimeWarning: overflow encountered in exp\n",
      "  return p[\"A0\"]*np.exp(-p[\"E0\"]*t)\n",
      "/home/chris/Code/LQCD/a1_analysis/fitting.py:246: RuntimeWarning: overflow encountered in exp\n",
      "  return p[\"A0\"]*np.exp(-p[\"E0\"]*t)+p[\"A1\"]*np.exp(-p[\"E1\"]*t)+p[\"A2\"]*np.exp(-p[\"E2\"]*t)\n",
      "/home/chris/Code/LQCD/a1_analysis/fitting.py:246: RuntimeWarning: overflow encountered in exp\n",
      "  return p[\"A0\"]*np.exp(-p[\"E0\"]*t)+p[\"A1\"]*np.exp(-p[\"E1\"]*t)+p[\"A2\"]*np.exp(-p[\"E2\"]*t)\n",
      "/home/chris/Code/LQCD/a1_analysis/fitting.py:246: RuntimeWarning: overflow encountered in exp\n",
      "  return p[\"A0\"]*np.exp(-p[\"E0\"]*t)+p[\"A1\"]*np.exp(-p[\"E1\"]*t)+p[\"A2\"]*np.exp(-p[\"E2\"]*t)\n",
      "/home/chris/Code/LQCD/a1_analysis/stats.py:96: RuntimeWarning: invalid value encountered in sqrt\n",
      "  return gv.gvar(mean_avg, np.sqrt(var_avg))\n",
      "/home/chris/Code/LQCD/a1_analysis/fitting.py:246: RuntimeWarning: overflow encountered in multiply\n",
      "  return p[\"A0\"]*np.exp(-p[\"E0\"]*t)+p[\"A1\"]*np.exp(-p[\"E1\"]*t)+p[\"A2\"]*np.exp(-p[\"E2\"]*t)\n",
      "/home/chris/Code/LQCD/a1_analysis/fitting.py:246: RuntimeWarning: overflow encountered in exp\n",
      "  return p[\"A0\"]*np.exp(-p[\"E0\"]*t)+p[\"A1\"]*np.exp(-p[\"E1\"]*t)+p[\"A2\"]*np.exp(-p[\"E2\"]*t)\n",
      "/home/chris/Code/LQCD/a1_analysis/fitting.py:246: RuntimeWarning: overflow encountered in exp\n",
      "  return p[\"A0\"]*np.exp(-p[\"E0\"]*t)+p[\"A1\"]*np.exp(-p[\"E1\"]*t)+p[\"A2\"]*np.exp(-p[\"E2\"]*t)\n",
      "/home/chris/Code/LQCD/a1_analysis/stats.py:96: RuntimeWarning: invalid value encountered in sqrt\n",
      "  return gv.gvar(mean_avg, np.sqrt(var_avg))\n",
      "/home/chris/Code/LQCD/a1_analysis/stats.py:96: RuntimeWarning: invalid value encountered in sqrt\n",
      "  return gv.gvar(mean_avg, np.sqrt(var_avg))\n",
      "/home/chris/Code/LQCD/a1_analysis/stats.py:96: RuntimeWarning: invalid value encountered in sqrt\n",
      "  return gv.gvar(mean_avg, np.sqrt(var_avg))\n",
      "/home/chris/anaconda3/envs/LQCD/lib/python3.10/site-packages/scipy/optimize/_lsq/common.py:115: RuntimeWarning: overflow encountered in power\n",
      "  phi_prime = -np.sum(suf ** 2 / denom**3) / p_norm\n",
      "/home/chris/Code/LQCD/a1_analysis/fitting.py:242: RuntimeWarning: overflow encountered in exp\n",
      "  return p[\"A0\"]*np.exp(-p[\"E0\"]*t)\n",
      "/home/chris/Code/LQCD/a1_analysis/fitting.py:246: RuntimeWarning: overflow encountered in exp\n",
      "  return p[\"A0\"]*np.exp(-p[\"E0\"]*t)+p[\"A1\"]*np.exp(-p[\"E1\"]*t)+p[\"A2\"]*np.exp(-p[\"E2\"]*t)\n",
      "/home/chris/Code/LQCD/a1_analysis/fitting.py:246: RuntimeWarning: overflow encountered in multiply\n",
      "  return p[\"A0\"]*np.exp(-p[\"E0\"]*t)+p[\"A1\"]*np.exp(-p[\"E1\"]*t)+p[\"A2\"]*np.exp(-p[\"E2\"]*t)\n"
     ]
    },
    {
     "name": "stdout",
     "output_type": "stream",
     "text": [
      "done with op set 4\n"
     ]
    },
    {
     "name": "stderr",
     "output_type": "stream",
     "text": [
      "/home/chris/anaconda3/envs/LQCD/lib/python3.10/site-packages/scipy/optimize/_lsq/common.py:115: RuntimeWarning: overflow encountered in power\n",
      "  phi_prime = -np.sum(suf ** 2 / denom**3) / p_norm\n",
      "/home/chris/Code/LQCD/a1_analysis/fitting.py:242: RuntimeWarning: overflow encountered in exp\n",
      "  return p[\"A0\"]*np.exp(-p[\"E0\"]*t)\n",
      "/home/chris/Code/LQCD/a1_analysis/fitting.py:246: RuntimeWarning: overflow encountered in exp\n",
      "  return p[\"A0\"]*np.exp(-p[\"E0\"]*t)+p[\"A1\"]*np.exp(-p[\"E1\"]*t)+p[\"A2\"]*np.exp(-p[\"E2\"]*t)\n",
      "/home/chris/Code/LQCD/a1_analysis/fitting.py:246: RuntimeWarning: overflow encountered in exp\n",
      "  return p[\"A0\"]*np.exp(-p[\"E0\"]*t)+p[\"A1\"]*np.exp(-p[\"E1\"]*t)+p[\"A2\"]*np.exp(-p[\"E2\"]*t)\n",
      "/home/chris/Code/LQCD/a1_analysis/fitting.py:246: RuntimeWarning: overflow encountered in exp\n",
      "  return p[\"A0\"]*np.exp(-p[\"E0\"]*t)+p[\"A1\"]*np.exp(-p[\"E1\"]*t)+p[\"A2\"]*np.exp(-p[\"E2\"]*t)\n",
      "/home/chris/Code/LQCD/a1_analysis/stats.py:96: RuntimeWarning: invalid value encountered in sqrt\n",
      "  return gv.gvar(mean_avg, np.sqrt(var_avg))\n",
      "/home/chris/Code/LQCD/a1_analysis/fitting.py:246: RuntimeWarning: overflow encountered in multiply\n",
      "  return p[\"A0\"]*np.exp(-p[\"E0\"]*t)+p[\"A1\"]*np.exp(-p[\"E1\"]*t)+p[\"A2\"]*np.exp(-p[\"E2\"]*t)\n",
      "/home/chris/Code/LQCD/a1_analysis/fitting.py:246: RuntimeWarning: overflow encountered in exp\n",
      "  return p[\"A0\"]*np.exp(-p[\"E0\"]*t)+p[\"A1\"]*np.exp(-p[\"E1\"]*t)+p[\"A2\"]*np.exp(-p[\"E2\"]*t)\n",
      "/home/chris/Code/LQCD/a1_analysis/fitting.py:246: RuntimeWarning: overflow encountered in exp\n",
      "  return p[\"A0\"]*np.exp(-p[\"E0\"]*t)+p[\"A1\"]*np.exp(-p[\"E1\"]*t)+p[\"A2\"]*np.exp(-p[\"E2\"]*t)\n",
      "/home/chris/Code/LQCD/a1_analysis/stats.py:96: RuntimeWarning: invalid value encountered in sqrt\n",
      "  return gv.gvar(mean_avg, np.sqrt(var_avg))\n",
      "/home/chris/Code/LQCD/a1_analysis/stats.py:96: RuntimeWarning: invalid value encountered in sqrt\n",
      "  return gv.gvar(mean_avg, np.sqrt(var_avg))\n",
      "/home/chris/Code/LQCD/a1_analysis/stats.py:96: RuntimeWarning: invalid value encountered in sqrt\n",
      "  return gv.gvar(mean_avg, np.sqrt(var_avg))\n",
      "/home/chris/anaconda3/envs/LQCD/lib/python3.10/site-packages/scipy/optimize/_lsq/common.py:115: RuntimeWarning: overflow encountered in power\n",
      "  phi_prime = -np.sum(suf ** 2 / denom**3) / p_norm\n",
      "/home/chris/Code/LQCD/a1_analysis/fitting.py:242: RuntimeWarning: overflow encountered in exp\n",
      "  return p[\"A0\"]*np.exp(-p[\"E0\"]*t)\n",
      "/home/chris/Code/LQCD/a1_analysis/fitting.py:246: RuntimeWarning: overflow encountered in exp\n",
      "  return p[\"A0\"]*np.exp(-p[\"E0\"]*t)+p[\"A1\"]*np.exp(-p[\"E1\"]*t)+p[\"A2\"]*np.exp(-p[\"E2\"]*t)\n",
      "/home/chris/Code/LQCD/a1_analysis/fitting.py:246: RuntimeWarning: overflow encountered in multiply\n",
      "  return p[\"A0\"]*np.exp(-p[\"E0\"]*t)+p[\"A1\"]*np.exp(-p[\"E1\"]*t)+p[\"A2\"]*np.exp(-p[\"E2\"]*t)\n"
     ]
    },
    {
     "name": "stdout",
     "output_type": "stream",
     "text": [
      "done with op set 5\n"
     ]
    },
    {
     "name": "stderr",
     "output_type": "stream",
     "text": [
      "/home/chris/anaconda3/envs/LQCD/lib/python3.10/site-packages/scipy/optimize/_lsq/common.py:115: RuntimeWarning: overflow encountered in power\n",
      "  phi_prime = -np.sum(suf ** 2 / denom**3) / p_norm\n",
      "/home/chris/Code/LQCD/a1_analysis/fitting.py:242: RuntimeWarning: overflow encountered in exp\n",
      "  return p[\"A0\"]*np.exp(-p[\"E0\"]*t)\n",
      "/home/chris/Code/LQCD/a1_analysis/fitting.py:246: RuntimeWarning: overflow encountered in exp\n",
      "  return p[\"A0\"]*np.exp(-p[\"E0\"]*t)+p[\"A1\"]*np.exp(-p[\"E1\"]*t)+p[\"A2\"]*np.exp(-p[\"E2\"]*t)\n",
      "/home/chris/Code/LQCD/a1_analysis/fitting.py:246: RuntimeWarning: overflow encountered in exp\n",
      "  return p[\"A0\"]*np.exp(-p[\"E0\"]*t)+p[\"A1\"]*np.exp(-p[\"E1\"]*t)+p[\"A2\"]*np.exp(-p[\"E2\"]*t)\n",
      "/home/chris/Code/LQCD/a1_analysis/fitting.py:246: RuntimeWarning: overflow encountered in exp\n",
      "  return p[\"A0\"]*np.exp(-p[\"E0\"]*t)+p[\"A1\"]*np.exp(-p[\"E1\"]*t)+p[\"A2\"]*np.exp(-p[\"E2\"]*t)\n",
      "/home/chris/Code/LQCD/a1_analysis/stats.py:96: RuntimeWarning: invalid value encountered in sqrt\n",
      "  return gv.gvar(mean_avg, np.sqrt(var_avg))\n",
      "/home/chris/Code/LQCD/a1_analysis/fitting.py:246: RuntimeWarning: overflow encountered in multiply\n",
      "  return p[\"A0\"]*np.exp(-p[\"E0\"]*t)+p[\"A1\"]*np.exp(-p[\"E1\"]*t)+p[\"A2\"]*np.exp(-p[\"E2\"]*t)\n",
      "/home/chris/Code/LQCD/a1_analysis/fitting.py:246: RuntimeWarning: overflow encountered in exp\n",
      "  return p[\"A0\"]*np.exp(-p[\"E0\"]*t)+p[\"A1\"]*np.exp(-p[\"E1\"]*t)+p[\"A2\"]*np.exp(-p[\"E2\"]*t)\n",
      "/home/chris/Code/LQCD/a1_analysis/stats.py:96: RuntimeWarning: invalid value encountered in sqrt\n",
      "  return gv.gvar(mean_avg, np.sqrt(var_avg))\n",
      "/home/chris/Code/LQCD/a1_analysis/fitting.py:246: RuntimeWarning: overflow encountered in exp\n",
      "  return p[\"A0\"]*np.exp(-p[\"E0\"]*t)+p[\"A1\"]*np.exp(-p[\"E1\"]*t)+p[\"A2\"]*np.exp(-p[\"E2\"]*t)\n",
      "/home/chris/Code/LQCD/a1_analysis/stats.py:96: RuntimeWarning: invalid value encountered in sqrt\n",
      "  return gv.gvar(mean_avg, np.sqrt(var_avg))\n",
      "/home/chris/Code/LQCD/a1_analysis/stats.py:96: RuntimeWarning: invalid value encountered in sqrt\n",
      "  return gv.gvar(mean_avg, np.sqrt(var_avg))\n",
      "/home/chris/Code/LQCD/a1_analysis/fitting.py:242: RuntimeWarning: overflow encountered in exp\n",
      "  return p[\"A0\"]*np.exp(-p[\"E0\"]*t)\n",
      "/home/chris/Code/LQCD/a1_analysis/fitting.py:246: RuntimeWarning: overflow encountered in exp\n",
      "  return p[\"A0\"]*np.exp(-p[\"E0\"]*t)+p[\"A1\"]*np.exp(-p[\"E1\"]*t)+p[\"A2\"]*np.exp(-p[\"E2\"]*t)\n"
     ]
    },
    {
     "name": "stdout",
     "output_type": "stream",
     "text": [
      "done with op set 6\n"
     ]
    },
    {
     "name": "stderr",
     "output_type": "stream",
     "text": [
      "/home/chris/anaconda3/envs/LQCD/lib/python3.10/site-packages/scipy/optimize/_lsq/common.py:115: RuntimeWarning: overflow encountered in power\n",
      "  phi_prime = -np.sum(suf ** 2 / denom**3) / p_norm\n",
      "/home/chris/Code/LQCD/a1_analysis/fitting.py:242: RuntimeWarning: overflow encountered in exp\n",
      "  return p[\"A0\"]*np.exp(-p[\"E0\"]*t)\n",
      "/home/chris/Code/LQCD/a1_analysis/fitting.py:246: RuntimeWarning: overflow encountered in exp\n",
      "  return p[\"A0\"]*np.exp(-p[\"E0\"]*t)+p[\"A1\"]*np.exp(-p[\"E1\"]*t)+p[\"A2\"]*np.exp(-p[\"E2\"]*t)\n",
      "/home/chris/Code/LQCD/a1_analysis/fitting.py:246: RuntimeWarning: overflow encountered in exp\n",
      "  return p[\"A0\"]*np.exp(-p[\"E0\"]*t)+p[\"A1\"]*np.exp(-p[\"E1\"]*t)+p[\"A2\"]*np.exp(-p[\"E2\"]*t)\n",
      "/home/chris/Code/LQCD/a1_analysis/stats.py:96: RuntimeWarning: invalid value encountered in sqrt\n",
      "  return gv.gvar(mean_avg, np.sqrt(var_avg))\n",
      "/home/chris/Code/LQCD/a1_analysis/fitting.py:246: RuntimeWarning: overflow encountered in exp\n",
      "  return p[\"A0\"]*np.exp(-p[\"E0\"]*t)+p[\"A1\"]*np.exp(-p[\"E1\"]*t)+p[\"A2\"]*np.exp(-p[\"E2\"]*t)\n",
      "/home/chris/Code/LQCD/a1_analysis/fitting.py:246: RuntimeWarning: overflow encountered in exp\n",
      "  return p[\"A0\"]*np.exp(-p[\"E0\"]*t)+p[\"A1\"]*np.exp(-p[\"E1\"]*t)+p[\"A2\"]*np.exp(-p[\"E2\"]*t)\n",
      "/home/chris/Code/LQCD/a1_analysis/fitting.py:246: RuntimeWarning: overflow encountered in multiply\n",
      "  return p[\"A0\"]*np.exp(-p[\"E0\"]*t)+p[\"A1\"]*np.exp(-p[\"E1\"]*t)+p[\"A2\"]*np.exp(-p[\"E2\"]*t)\n",
      "/home/chris/Code/LQCD/a1_analysis/stats.py:96: RuntimeWarning: invalid value encountered in sqrt\n",
      "  return gv.gvar(mean_avg, np.sqrt(var_avg))\n",
      "/home/chris/Code/LQCD/a1_analysis/fitting.py:246: RuntimeWarning: overflow encountered in exp\n",
      "  return p[\"A0\"]*np.exp(-p[\"E0\"]*t)+p[\"A1\"]*np.exp(-p[\"E1\"]*t)+p[\"A2\"]*np.exp(-p[\"E2\"]*t)\n",
      "/home/chris/Code/LQCD/a1_analysis/stats.py:96: RuntimeWarning: invalid value encountered in sqrt\n",
      "  return gv.gvar(mean_avg, np.sqrt(var_avg))\n",
      "/home/chris/Code/LQCD/a1_analysis/stats.py:96: RuntimeWarning: invalid value encountered in sqrt\n",
      "  return gv.gvar(mean_avg, np.sqrt(var_avg))\n",
      "/home/chris/Code/LQCD/a1_analysis/fitting.py:246: RuntimeWarning: overflow encountered in exp\n",
      "  return p[\"A0\"]*np.exp(-p[\"E0\"]*t)+p[\"A1\"]*np.exp(-p[\"E1\"]*t)+p[\"A2\"]*np.exp(-p[\"E2\"]*t)\n"
     ]
    },
    {
     "name": "stdout",
     "output_type": "stream",
     "text": [
      "done with op set 7\n"
     ]
    },
    {
     "name": "stderr",
     "output_type": "stream",
     "text": [
      "/home/chris/anaconda3/envs/LQCD/lib/python3.10/site-packages/scipy/optimize/_lsq/common.py:115: RuntimeWarning: overflow encountered in power\n",
      "  phi_prime = -np.sum(suf ** 2 / denom**3) / p_norm\n",
      "/home/chris/Code/LQCD/a1_analysis/fitting.py:242: RuntimeWarning: overflow encountered in exp\n",
      "  return p[\"A0\"]*np.exp(-p[\"E0\"]*t)\n",
      "/home/chris/Code/LQCD/a1_analysis/fitting.py:246: RuntimeWarning: overflow encountered in exp\n",
      "  return p[\"A0\"]*np.exp(-p[\"E0\"]*t)+p[\"A1\"]*np.exp(-p[\"E1\"]*t)+p[\"A2\"]*np.exp(-p[\"E2\"]*t)\n",
      "/home/chris/Code/LQCD/a1_analysis/fitting.py:246: RuntimeWarning: overflow encountered in exp\n",
      "  return p[\"A0\"]*np.exp(-p[\"E0\"]*t)+p[\"A1\"]*np.exp(-p[\"E1\"]*t)+p[\"A2\"]*np.exp(-p[\"E2\"]*t)\n",
      "/home/chris/Code/LQCD/a1_analysis/fitting.py:246: RuntimeWarning: overflow encountered in exp\n",
      "  return p[\"A0\"]*np.exp(-p[\"E0\"]*t)+p[\"A1\"]*np.exp(-p[\"E1\"]*t)+p[\"A2\"]*np.exp(-p[\"E2\"]*t)\n",
      "/home/chris/Code/LQCD/a1_analysis/stats.py:96: RuntimeWarning: invalid value encountered in sqrt\n",
      "  return gv.gvar(mean_avg, np.sqrt(var_avg))\n",
      "/home/chris/Code/LQCD/a1_analysis/fitting.py:246: RuntimeWarning: overflow encountered in multiply\n",
      "  return p[\"A0\"]*np.exp(-p[\"E0\"]*t)+p[\"A1\"]*np.exp(-p[\"E1\"]*t)+p[\"A2\"]*np.exp(-p[\"E2\"]*t)\n",
      "/home/chris/Code/LQCD/a1_analysis/fitting.py:246: RuntimeWarning: overflow encountered in exp\n",
      "  return p[\"A0\"]*np.exp(-p[\"E0\"]*t)+p[\"A1\"]*np.exp(-p[\"E1\"]*t)+p[\"A2\"]*np.exp(-p[\"E2\"]*t)\n",
      "/home/chris/Code/LQCD/a1_analysis/fitting.py:246: RuntimeWarning: overflow encountered in exp\n",
      "  return p[\"A0\"]*np.exp(-p[\"E0\"]*t)+p[\"A1\"]*np.exp(-p[\"E1\"]*t)+p[\"A2\"]*np.exp(-p[\"E2\"]*t)\n",
      "/home/chris/Code/LQCD/a1_analysis/stats.py:96: RuntimeWarning: invalid value encountered in sqrt\n",
      "  return gv.gvar(mean_avg, np.sqrt(var_avg))\n",
      "/home/chris/Code/LQCD/a1_analysis/stats.py:96: RuntimeWarning: invalid value encountered in sqrt\n",
      "  return gv.gvar(mean_avg, np.sqrt(var_avg))\n",
      "/home/chris/Code/LQCD/a1_analysis/stats.py:96: RuntimeWarning: invalid value encountered in sqrt\n",
      "  return gv.gvar(mean_avg, np.sqrt(var_avg))\n",
      "/home/chris/anaconda3/envs/LQCD/lib/python3.10/site-packages/scipy/optimize/_lsq/common.py:115: RuntimeWarning: overflow encountered in power\n",
      "  phi_prime = -np.sum(suf ** 2 / denom**3) / p_norm\n",
      "/home/chris/Code/LQCD/a1_analysis/fitting.py:246: RuntimeWarning: overflow encountered in exp\n",
      "  return p[\"A0\"]*np.exp(-p[\"E0\"]*t)+p[\"A1\"]*np.exp(-p[\"E1\"]*t)+p[\"A2\"]*np.exp(-p[\"E2\"]*t)\n",
      "/home/chris/Code/LQCD/a1_analysis/fitting.py:246: RuntimeWarning: overflow encountered in multiply\n",
      "  return p[\"A0\"]*np.exp(-p[\"E0\"]*t)+p[\"A1\"]*np.exp(-p[\"E1\"]*t)+p[\"A2\"]*np.exp(-p[\"E2\"]*t)\n"
     ]
    },
    {
     "name": "stdout",
     "output_type": "stream",
     "text": [
      "done with op set 8\n"
     ]
    },
    {
     "name": "stderr",
     "output_type": "stream",
     "text": [
      "/home/chris/anaconda3/envs/LQCD/lib/python3.10/site-packages/scipy/optimize/_lsq/common.py:115: RuntimeWarning: overflow encountered in power\n",
      "  phi_prime = -np.sum(suf ** 2 / denom**3) / p_norm\n",
      "/home/chris/Code/LQCD/a1_analysis/fitting.py:242: RuntimeWarning: overflow encountered in exp\n",
      "  return p[\"A0\"]*np.exp(-p[\"E0\"]*t)\n",
      "/home/chris/Code/LQCD/a1_analysis/fitting.py:246: RuntimeWarning: overflow encountered in exp\n",
      "  return p[\"A0\"]*np.exp(-p[\"E0\"]*t)+p[\"A1\"]*np.exp(-p[\"E1\"]*t)+p[\"A2\"]*np.exp(-p[\"E2\"]*t)\n",
      "/home/chris/Code/LQCD/a1_analysis/fitting.py:246: RuntimeWarning: overflow encountered in exp\n",
      "  return p[\"A0\"]*np.exp(-p[\"E0\"]*t)+p[\"A1\"]*np.exp(-p[\"E1\"]*t)+p[\"A2\"]*np.exp(-p[\"E2\"]*t)\n",
      "/home/chris/Code/LQCD/a1_analysis/fitting.py:246: RuntimeWarning: overflow encountered in exp\n",
      "  return p[\"A0\"]*np.exp(-p[\"E0\"]*t)+p[\"A1\"]*np.exp(-p[\"E1\"]*t)+p[\"A2\"]*np.exp(-p[\"E2\"]*t)\n",
      "/home/chris/Code/LQCD/a1_analysis/stats.py:96: RuntimeWarning: invalid value encountered in sqrt\n",
      "  return gv.gvar(mean_avg, np.sqrt(var_avg))\n",
      "/home/chris/Code/LQCD/a1_analysis/fitting.py:246: RuntimeWarning: overflow encountered in exp\n",
      "  return p[\"A0\"]*np.exp(-p[\"E0\"]*t)+p[\"A1\"]*np.exp(-p[\"E1\"]*t)+p[\"A2\"]*np.exp(-p[\"E2\"]*t)\n",
      "/home/chris/Code/LQCD/a1_analysis/fitting.py:246: RuntimeWarning: overflow encountered in multiply\n",
      "  return p[\"A0\"]*np.exp(-p[\"E0\"]*t)+p[\"A1\"]*np.exp(-p[\"E1\"]*t)+p[\"A2\"]*np.exp(-p[\"E2\"]*t)\n",
      "/home/chris/Code/LQCD/a1_analysis/stats.py:96: RuntimeWarning: invalid value encountered in sqrt\n",
      "  return gv.gvar(mean_avg, np.sqrt(var_avg))\n",
      "/home/chris/Code/LQCD/a1_analysis/fitting.py:246: RuntimeWarning: overflow encountered in exp\n",
      "  return p[\"A0\"]*np.exp(-p[\"E0\"]*t)+p[\"A1\"]*np.exp(-p[\"E1\"]*t)+p[\"A2\"]*np.exp(-p[\"E2\"]*t)\n",
      "/home/chris/Code/LQCD/a1_analysis/stats.py:96: RuntimeWarning: invalid value encountered in sqrt\n",
      "  return gv.gvar(mean_avg, np.sqrt(var_avg))\n",
      "/home/chris/Code/LQCD/a1_analysis/stats.py:96: RuntimeWarning: invalid value encountered in sqrt\n",
      "  return gv.gvar(mean_avg, np.sqrt(var_avg))\n",
      "/home/chris/Code/LQCD/a1_analysis/fitting.py:246: RuntimeWarning: overflow encountered in exp\n",
      "  return p[\"A0\"]*np.exp(-p[\"E0\"]*t)+p[\"A1\"]*np.exp(-p[\"E1\"]*t)+p[\"A2\"]*np.exp(-p[\"E2\"]*t)\n"
     ]
    },
    {
     "name": "stdout",
     "output_type": "stream",
     "text": [
      "done with op set 9\n"
     ]
    },
    {
     "name": "stderr",
     "output_type": "stream",
     "text": [
      "/home/chris/anaconda3/envs/LQCD/lib/python3.10/site-packages/scipy/optimize/_lsq/common.py:115: RuntimeWarning: overflow encountered in power\n",
      "  phi_prime = -np.sum(suf ** 2 / denom**3) / p_norm\n",
      "/home/chris/Code/LQCD/a1_analysis/fitting.py:242: RuntimeWarning: overflow encountered in exp\n",
      "  return p[\"A0\"]*np.exp(-p[\"E0\"]*t)\n",
      "/home/chris/Code/LQCD/a1_analysis/fitting.py:246: RuntimeWarning: overflow encountered in exp\n",
      "  return p[\"A0\"]*np.exp(-p[\"E0\"]*t)+p[\"A1\"]*np.exp(-p[\"E1\"]*t)+p[\"A2\"]*np.exp(-p[\"E2\"]*t)\n",
      "/home/chris/Code/LQCD/a1_analysis/fitting.py:246: RuntimeWarning: overflow encountered in exp\n",
      "  return p[\"A0\"]*np.exp(-p[\"E0\"]*t)+p[\"A1\"]*np.exp(-p[\"E1\"]*t)+p[\"A2\"]*np.exp(-p[\"E2\"]*t)\n",
      "/home/chris/Code/LQCD/a1_analysis/stats.py:96: RuntimeWarning: invalid value encountered in sqrt\n",
      "  return gv.gvar(mean_avg, np.sqrt(var_avg))\n",
      "/home/chris/Code/LQCD/a1_analysis/fitting.py:246: RuntimeWarning: overflow encountered in exp\n",
      "  return p[\"A0\"]*np.exp(-p[\"E0\"]*t)+p[\"A1\"]*np.exp(-p[\"E1\"]*t)+p[\"A2\"]*np.exp(-p[\"E2\"]*t)\n",
      "/home/chris/Code/LQCD/a1_analysis/fitting.py:246: RuntimeWarning: overflow encountered in multiply\n",
      "  return p[\"A0\"]*np.exp(-p[\"E0\"]*t)+p[\"A1\"]*np.exp(-p[\"E1\"]*t)+p[\"A2\"]*np.exp(-p[\"E2\"]*t)\n",
      "/home/chris/Code/LQCD/a1_analysis/fitting.py:246: RuntimeWarning: overflow encountered in exp\n",
      "  return p[\"A0\"]*np.exp(-p[\"E0\"]*t)+p[\"A1\"]*np.exp(-p[\"E1\"]*t)+p[\"A2\"]*np.exp(-p[\"E2\"]*t)\n",
      "/home/chris/Code/LQCD/a1_analysis/stats.py:96: RuntimeWarning: invalid value encountered in sqrt\n",
      "  return gv.gvar(mean_avg, np.sqrt(var_avg))\n",
      "/home/chris/Code/LQCD/a1_analysis/fitting.py:246: RuntimeWarning: overflow encountered in exp\n",
      "  return p[\"A0\"]*np.exp(-p[\"E0\"]*t)+p[\"A1\"]*np.exp(-p[\"E1\"]*t)+p[\"A2\"]*np.exp(-p[\"E2\"]*t)\n",
      "/home/chris/Code/LQCD/a1_analysis/stats.py:96: RuntimeWarning: invalid value encountered in sqrt\n",
      "  return gv.gvar(mean_avg, np.sqrt(var_avg))\n",
      "/home/chris/Code/LQCD/a1_analysis/stats.py:96: RuntimeWarning: invalid value encountered in sqrt\n",
      "  return gv.gvar(mean_avg, np.sqrt(var_avg))\n",
      "/home/chris/anaconda3/envs/LQCD/lib/python3.10/site-packages/scipy/optimize/_lsq/common.py:115: RuntimeWarning: overflow encountered in power\n",
      "  phi_prime = -np.sum(suf ** 2 / denom**3) / p_norm\n",
      "/home/chris/Code/LQCD/a1_analysis/fitting.py:246: RuntimeWarning: overflow encountered in exp\n",
      "  return p[\"A0\"]*np.exp(-p[\"E0\"]*t)+p[\"A1\"]*np.exp(-p[\"E1\"]*t)+p[\"A2\"]*np.exp(-p[\"E2\"]*t)\n",
      "/home/chris/Code/LQCD/a1_analysis/fitting.py:246: RuntimeWarning: overflow encountered in multiply\n",
      "  return p[\"A0\"]*np.exp(-p[\"E0\"]*t)+p[\"A1\"]*np.exp(-p[\"E1\"]*t)+p[\"A2\"]*np.exp(-p[\"E2\"]*t)\n"
     ]
    },
    {
     "name": "stdout",
     "output_type": "stream",
     "text": [
      "done with op set 10\n"
     ]
    },
    {
     "name": "stderr",
     "output_type": "stream",
     "text": [
      "/home/chris/anaconda3/envs/LQCD/lib/python3.10/site-packages/scipy/optimize/_lsq/common.py:115: RuntimeWarning: overflow encountered in power\n",
      "  phi_prime = -np.sum(suf ** 2 / denom**3) / p_norm\n",
      "/home/chris/Code/LQCD/a1_analysis/fitting.py:242: RuntimeWarning: overflow encountered in exp\n",
      "  return p[\"A0\"]*np.exp(-p[\"E0\"]*t)\n",
      "/home/chris/Code/LQCD/a1_analysis/fitting.py:246: RuntimeWarning: overflow encountered in exp\n",
      "  return p[\"A0\"]*np.exp(-p[\"E0\"]*t)+p[\"A1\"]*np.exp(-p[\"E1\"]*t)+p[\"A2\"]*np.exp(-p[\"E2\"]*t)\n",
      "/home/chris/Code/LQCD/a1_analysis/fitting.py:246: RuntimeWarning: overflow encountered in exp\n",
      "  return p[\"A0\"]*np.exp(-p[\"E0\"]*t)+p[\"A1\"]*np.exp(-p[\"E1\"]*t)+p[\"A2\"]*np.exp(-p[\"E2\"]*t)\n",
      "/home/chris/Code/LQCD/a1_analysis/stats.py:96: RuntimeWarning: invalid value encountered in sqrt\n",
      "  return gv.gvar(mean_avg, np.sqrt(var_avg))\n",
      "/home/chris/Code/LQCD/a1_analysis/fitting.py:246: RuntimeWarning: overflow encountered in exp\n",
      "  return p[\"A0\"]*np.exp(-p[\"E0\"]*t)+p[\"A1\"]*np.exp(-p[\"E1\"]*t)+p[\"A2\"]*np.exp(-p[\"E2\"]*t)\n",
      "/home/chris/Code/LQCD/a1_analysis/fitting.py:246: RuntimeWarning: overflow encountered in multiply\n",
      "  return p[\"A0\"]*np.exp(-p[\"E0\"]*t)+p[\"A1\"]*np.exp(-p[\"E1\"]*t)+p[\"A2\"]*np.exp(-p[\"E2\"]*t)\n",
      "/home/chris/Code/LQCD/a1_analysis/fitting.py:246: RuntimeWarning: overflow encountered in exp\n",
      "  return p[\"A0\"]*np.exp(-p[\"E0\"]*t)+p[\"A1\"]*np.exp(-p[\"E1\"]*t)+p[\"A2\"]*np.exp(-p[\"E2\"]*t)\n",
      "/home/chris/Code/LQCD/a1_analysis/stats.py:96: RuntimeWarning: invalid value encountered in sqrt\n",
      "  return gv.gvar(mean_avg, np.sqrt(var_avg))\n",
      "/home/chris/Code/LQCD/a1_analysis/fitting.py:246: RuntimeWarning: overflow encountered in exp\n",
      "  return p[\"A0\"]*np.exp(-p[\"E0\"]*t)+p[\"A1\"]*np.exp(-p[\"E1\"]*t)+p[\"A2\"]*np.exp(-p[\"E2\"]*t)\n",
      "/home/chris/Code/LQCD/a1_analysis/stats.py:96: RuntimeWarning: invalid value encountered in sqrt\n",
      "  return gv.gvar(mean_avg, np.sqrt(var_avg))\n",
      "/home/chris/Code/LQCD/a1_analysis/stats.py:96: RuntimeWarning: invalid value encountered in sqrt\n",
      "  return gv.gvar(mean_avg, np.sqrt(var_avg))\n",
      "/home/chris/anaconda3/envs/LQCD/lib/python3.10/site-packages/scipy/optimize/_lsq/common.py:115: RuntimeWarning: overflow encountered in power\n",
      "  phi_prime = -np.sum(suf ** 2 / denom**3) / p_norm\n",
      "/home/chris/Code/LQCD/a1_analysis/fitting.py:242: RuntimeWarning: overflow encountered in exp\n",
      "  return p[\"A0\"]*np.exp(-p[\"E0\"]*t)\n",
      "/home/chris/Code/LQCD/a1_analysis/fitting.py:246: RuntimeWarning: overflow encountered in exp\n",
      "  return p[\"A0\"]*np.exp(-p[\"E0\"]*t)+p[\"A1\"]*np.exp(-p[\"E1\"]*t)+p[\"A2\"]*np.exp(-p[\"E2\"]*t)\n",
      "/home/chris/Code/LQCD/a1_analysis/fitting.py:246: RuntimeWarning: overflow encountered in multiply\n",
      "  return p[\"A0\"]*np.exp(-p[\"E0\"]*t)+p[\"A1\"]*np.exp(-p[\"E1\"]*t)+p[\"A2\"]*np.exp(-p[\"E2\"]*t)\n"
     ]
    },
    {
     "name": "stdout",
     "output_type": "stream",
     "text": [
      "done with op set 11\n"
     ]
    },
    {
     "name": "stderr",
     "output_type": "stream",
     "text": [
      "/home/chris/anaconda3/envs/LQCD/lib/python3.10/site-packages/scipy/optimize/_lsq/common.py:115: RuntimeWarning: overflow encountered in power\n",
      "  phi_prime = -np.sum(suf ** 2 / denom**3) / p_norm\n",
      "/home/chris/Code/LQCD/a1_analysis/fitting.py:242: RuntimeWarning: overflow encountered in exp\n",
      "  return p[\"A0\"]*np.exp(-p[\"E0\"]*t)\n",
      "/home/chris/Code/LQCD/a1_analysis/fitting.py:246: RuntimeWarning: overflow encountered in exp\n",
      "  return p[\"A0\"]*np.exp(-p[\"E0\"]*t)+p[\"A1\"]*np.exp(-p[\"E1\"]*t)+p[\"A2\"]*np.exp(-p[\"E2\"]*t)\n",
      "/home/chris/Code/LQCD/a1_analysis/fitting.py:246: RuntimeWarning: overflow encountered in exp\n",
      "  return p[\"A0\"]*np.exp(-p[\"E0\"]*t)+p[\"A1\"]*np.exp(-p[\"E1\"]*t)+p[\"A2\"]*np.exp(-p[\"E2\"]*t)\n",
      "/home/chris/Code/LQCD/a1_analysis/stats.py:96: RuntimeWarning: invalid value encountered in sqrt\n",
      "  return gv.gvar(mean_avg, np.sqrt(var_avg))\n",
      "/home/chris/Code/LQCD/a1_analysis/fitting.py:246: RuntimeWarning: overflow encountered in exp\n",
      "  return p[\"A0\"]*np.exp(-p[\"E0\"]*t)+p[\"A1\"]*np.exp(-p[\"E1\"]*t)+p[\"A2\"]*np.exp(-p[\"E2\"]*t)\n",
      "/home/chris/Code/LQCD/a1_analysis/fitting.py:246: RuntimeWarning: overflow encountered in multiply\n",
      "  return p[\"A0\"]*np.exp(-p[\"E0\"]*t)+p[\"A1\"]*np.exp(-p[\"E1\"]*t)+p[\"A2\"]*np.exp(-p[\"E2\"]*t)\n",
      "/home/chris/Code/LQCD/a1_analysis/fitting.py:246: RuntimeWarning: overflow encountered in exp\n",
      "  return p[\"A0\"]*np.exp(-p[\"E0\"]*t)+p[\"A1\"]*np.exp(-p[\"E1\"]*t)+p[\"A2\"]*np.exp(-p[\"E2\"]*t)\n",
      "/home/chris/Code/LQCD/a1_analysis/fitting.py:246: RuntimeWarning: overflow encountered in exp\n",
      "  return p[\"A0\"]*np.exp(-p[\"E0\"]*t)+p[\"A1\"]*np.exp(-p[\"E1\"]*t)+p[\"A2\"]*np.exp(-p[\"E2\"]*t)\n",
      "/home/chris/Code/LQCD/a1_analysis/stats.py:96: RuntimeWarning: invalid value encountered in sqrt\n",
      "  return gv.gvar(mean_avg, np.sqrt(var_avg))\n",
      "/home/chris/Code/LQCD/a1_analysis/stats.py:96: RuntimeWarning: invalid value encountered in sqrt\n",
      "  return gv.gvar(mean_avg, np.sqrt(var_avg))\n",
      "/home/chris/Code/LQCD/a1_analysis/stats.py:96: RuntimeWarning: invalid value encountered in sqrt\n",
      "  return gv.gvar(mean_avg, np.sqrt(var_avg))\n",
      "/home/chris/anaconda3/envs/LQCD/lib/python3.10/site-packages/scipy/optimize/_lsq/common.py:115: RuntimeWarning: overflow encountered in power\n",
      "  phi_prime = -np.sum(suf ** 2 / denom**3) / p_norm\n",
      "/home/chris/Code/LQCD/a1_analysis/fitting.py:242: RuntimeWarning: overflow encountered in exp\n",
      "  return p[\"A0\"]*np.exp(-p[\"E0\"]*t)\n",
      "/home/chris/Code/LQCD/a1_analysis/fitting.py:246: RuntimeWarning: overflow encountered in exp\n",
      "  return p[\"A0\"]*np.exp(-p[\"E0\"]*t)+p[\"A1\"]*np.exp(-p[\"E1\"]*t)+p[\"A2\"]*np.exp(-p[\"E2\"]*t)\n",
      "/home/chris/Code/LQCD/a1_analysis/fitting.py:246: RuntimeWarning: overflow encountered in multiply\n",
      "  return p[\"A0\"]*np.exp(-p[\"E0\"]*t)+p[\"A1\"]*np.exp(-p[\"E1\"]*t)+p[\"A2\"]*np.exp(-p[\"E2\"]*t)\n"
     ]
    },
    {
     "name": "stdout",
     "output_type": "stream",
     "text": [
      "done with op set 12\n"
     ]
    },
    {
     "name": "stderr",
     "output_type": "stream",
     "text": [
      "/home/chris/anaconda3/envs/LQCD/lib/python3.10/site-packages/scipy/optimize/_lsq/common.py:115: RuntimeWarning: overflow encountered in power\n",
      "  phi_prime = -np.sum(suf ** 2 / denom**3) / p_norm\n",
      "/home/chris/Code/LQCD/a1_analysis/fitting.py:242: RuntimeWarning: overflow encountered in exp\n",
      "  return p[\"A0\"]*np.exp(-p[\"E0\"]*t)\n",
      "/home/chris/Code/LQCD/a1_analysis/fitting.py:246: RuntimeWarning: overflow encountered in exp\n",
      "  return p[\"A0\"]*np.exp(-p[\"E0\"]*t)+p[\"A1\"]*np.exp(-p[\"E1\"]*t)+p[\"A2\"]*np.exp(-p[\"E2\"]*t)\n",
      "/home/chris/Code/LQCD/a1_analysis/fitting.py:246: RuntimeWarning: overflow encountered in exp\n",
      "  return p[\"A0\"]*np.exp(-p[\"E0\"]*t)+p[\"A1\"]*np.exp(-p[\"E1\"]*t)+p[\"A2\"]*np.exp(-p[\"E2\"]*t)\n",
      "/home/chris/Code/LQCD/a1_analysis/fitting.py:246: RuntimeWarning: overflow encountered in exp\n",
      "  return p[\"A0\"]*np.exp(-p[\"E0\"]*t)+p[\"A1\"]*np.exp(-p[\"E1\"]*t)+p[\"A2\"]*np.exp(-p[\"E2\"]*t)\n",
      "/home/chris/Code/LQCD/a1_analysis/stats.py:96: RuntimeWarning: invalid value encountered in sqrt\n",
      "  return gv.gvar(mean_avg, np.sqrt(var_avg))\n",
      "/home/chris/Code/LQCD/a1_analysis/fitting.py:246: RuntimeWarning: overflow encountered in multiply\n",
      "  return p[\"A0\"]*np.exp(-p[\"E0\"]*t)+p[\"A1\"]*np.exp(-p[\"E1\"]*t)+p[\"A2\"]*np.exp(-p[\"E2\"]*t)\n",
      "/home/chris/Code/LQCD/a1_analysis/fitting.py:246: RuntimeWarning: overflow encountered in exp\n",
      "  return p[\"A0\"]*np.exp(-p[\"E0\"]*t)+p[\"A1\"]*np.exp(-p[\"E1\"]*t)+p[\"A2\"]*np.exp(-p[\"E2\"]*t)\n",
      "/home/chris/Code/LQCD/a1_analysis/stats.py:96: RuntimeWarning: invalid value encountered in sqrt\n",
      "  return gv.gvar(mean_avg, np.sqrt(var_avg))\n",
      "/home/chris/Code/LQCD/a1_analysis/fitting.py:246: RuntimeWarning: overflow encountered in exp\n",
      "  return p[\"A0\"]*np.exp(-p[\"E0\"]*t)+p[\"A1\"]*np.exp(-p[\"E1\"]*t)+p[\"A2\"]*np.exp(-p[\"E2\"]*t)\n",
      "/home/chris/Code/LQCD/a1_analysis/stats.py:96: RuntimeWarning: invalid value encountered in sqrt\n",
      "  return gv.gvar(mean_avg, np.sqrt(var_avg))\n",
      "/home/chris/Code/LQCD/a1_analysis/stats.py:96: RuntimeWarning: invalid value encountered in sqrt\n",
      "  return gv.gvar(mean_avg, np.sqrt(var_avg))\n",
      "/home/chris/Code/LQCD/a1_analysis/fitting.py:242: RuntimeWarning: overflow encountered in exp\n",
      "  return p[\"A0\"]*np.exp(-p[\"E0\"]*t)\n",
      "/home/chris/Code/LQCD/a1_analysis/fitting.py:246: RuntimeWarning: overflow encountered in exp\n",
      "  return p[\"A0\"]*np.exp(-p[\"E0\"]*t)+p[\"A1\"]*np.exp(-p[\"E1\"]*t)+p[\"A2\"]*np.exp(-p[\"E2\"]*t)\n"
     ]
    },
    {
     "name": "stdout",
     "output_type": "stream",
     "text": [
      "done with op set 13\n"
     ]
    }
   ],
   "source": [
    "### t0=3, td=5\n",
    "\n",
    "t0=5\n",
    "td=7\n",
    "corrMatrix=corrMatrix.astype(np.complex64)\n",
    "allEnergies=get_allEnergies(t0=t0,td=td)"
   ]
  },
  {
   "cell_type": "code",
   "execution_count": 12,
   "metadata": {},
   "outputs": [
    {
     "data": {
      "image/png": "[encoded data removed]",
      "text/plain": [
       "<Figure size 1200x800 with 1 Axes>"
      ]
     },
     "metadata": {},
     "output_type": "display_data"
    }
   ],
   "source": [
    "plt.figure(figsize=(12,8))\n",
    "plot_fit_results(allEnergies,'best',mpi)\n",
    "plt.xlim(-0.5,15.5)\n",
    "plt.ylim(3.5,6)\n",
    "# plot ni levels after to get correct ylim\n",
    "#plot_ni_levels(niData)\n",
    "plt.title('Min $\\chi^2$, $t_0={}, t_d={}$'.format(t0,td))\n",
    "plt.show()"
   ]
  },
  {
   "cell_type": "code",
   "execution_count": 13,
   "metadata": {},
   "outputs": [
    {
     "data": {
      "image/png": "[encoded data removed]",
      "text/plain": [
       "<Figure size 1200x800 with 1 Axes>"
      ]
     },
     "metadata": {},
     "output_type": "display_data"
    }
   ],
   "source": [
    "plt.figure(figsize=(12,8))\n",
    "plot_fit_results(allEnergies,'mavg',mpi)\n",
    "plt.xlim(-0.5,15.5)\n",
    "plt.ylim(3.5,6)\n",
    "# plot ni levels after to get correct ylim\n",
    "#plot_ni_levels(niData)\n",
    "plt.title('Min $\\chi^2$, $t_0={}, t_d={}$'.format(t0,td))\n",
    "plt.show()"
   ]
  },
  {
   "attachments": {},
   "cell_type": "markdown",
   "metadata": {},
   "source": [
    "## All ops t0,td"
   ]
  },
  {
   "cell_type": "code",
   "execution_count": 14,
   "metadata": {},
   "outputs": [
    {
     "name": "stderr",
     "output_type": "stream",
     "text": [
      "/home/chris/Code/LQCD/a1_analysis/fitting.py:242: RuntimeWarning: overflow encountered in exp\n",
      "  return p[\"A0\"]*np.exp(-p[\"E0\"]*t)\n",
      "/home/chris/Code/LQCD/a1_analysis/fitting.py:242: RuntimeWarning: overflow encountered in exp\n",
      "  return p[\"A0\"]*np.exp(-p[\"E0\"]*t)\n",
      "/home/chris/Code/LQCD/a1_analysis/fitting.py:246: RuntimeWarning: overflow encountered in exp\n",
      "  return p[\"A0\"]*np.exp(-p[\"E0\"]*t)+p[\"A1\"]*np.exp(-p[\"E1\"]*t)+p[\"A2\"]*np.exp(-p[\"E2\"]*t)\n",
      "/home/chris/Code/LQCD/a1_analysis/fitting.py:246: RuntimeWarning: invalid value encountered in add\n",
      "  return p[\"A0\"]*np.exp(-p[\"E0\"]*t)+p[\"A1\"]*np.exp(-p[\"E1\"]*t)+p[\"A2\"]*np.exp(-p[\"E2\"]*t)\n",
      "/home/chris/Code/LQCD/a1_analysis/fitting.py:246: RuntimeWarning: overflow encountered in exp\n",
      "  return p[\"A0\"]*np.exp(-p[\"E0\"]*t)+p[\"A1\"]*np.exp(-p[\"E1\"]*t)+p[\"A2\"]*np.exp(-p[\"E2\"]*t)\n",
      "/home/chris/Code/LQCD/a1_analysis/stats.py:96: RuntimeWarning: invalid value encountered in sqrt\n",
      "  return gv.gvar(mean_avg, np.sqrt(var_avg))\n",
      "/home/chris/Code/LQCD/a1_analysis/fitting.py:246: RuntimeWarning: overflow encountered in exp\n",
      "  return p[\"A0\"]*np.exp(-p[\"E0\"]*t)+p[\"A1\"]*np.exp(-p[\"E1\"]*t)+p[\"A2\"]*np.exp(-p[\"E2\"]*t)\n",
      "/home/chris/Code/LQCD/a1_analysis/stats.py:96: RuntimeWarning: invalid value encountered in sqrt\n",
      "  return gv.gvar(mean_avg, np.sqrt(var_avg))\n",
      "/home/chris/Code/LQCD/a1_analysis/fitting.py:246: RuntimeWarning: overflow encountered in exp\n",
      "  return p[\"A0\"]*np.exp(-p[\"E0\"]*t)+p[\"A1\"]*np.exp(-p[\"E1\"]*t)+p[\"A2\"]*np.exp(-p[\"E2\"]*t)\n",
      "/home/chris/Code/LQCD/a1_analysis/fitting.py:246: RuntimeWarning: overflow encountered in exp\n",
      "  return p[\"A0\"]*np.exp(-p[\"E0\"]*t)+p[\"A1\"]*np.exp(-p[\"E1\"]*t)+p[\"A2\"]*np.exp(-p[\"E2\"]*t)\n",
      "/home/chris/Code/LQCD/a1_analysis/stats.py:96: RuntimeWarning: invalid value encountered in sqrt\n",
      "  return gv.gvar(mean_avg, np.sqrt(var_avg))\n",
      "/home/chris/Code/LQCD/a1_analysis/fitting.py:242: RuntimeWarning: overflow encountered in exp\n",
      "  return p[\"A0\"]*np.exp(-p[\"E0\"]*t)\n",
      "/home/chris/Code/LQCD/a1_analysis/fitting.py:246: RuntimeWarning: overflow encountered in exp\n",
      "  return p[\"A0\"]*np.exp(-p[\"E0\"]*t)+p[\"A1\"]*np.exp(-p[\"E1\"]*t)+p[\"A2\"]*np.exp(-p[\"E2\"]*t)\n",
      "/home/chris/Code/LQCD/a1_analysis/fitting.py:246: RuntimeWarning: invalid value encountered in add\n",
      "  return p[\"A0\"]*np.exp(-p[\"E0\"]*t)+p[\"A1\"]*np.exp(-p[\"E1\"]*t)+p[\"A2\"]*np.exp(-p[\"E2\"]*t)\n"
     ]
    },
    {
     "name": "stdout",
     "output_type": "stream",
     "text": [
      "Done fitting for t0=2, td=3\n"
     ]
    },
    {
     "name": "stderr",
     "output_type": "stream",
     "text": [
      "/home/chris/Code/LQCD/a1_analysis/fitting.py:242: RuntimeWarning: overflow encountered in exp\n",
      "  return p[\"A0\"]*np.exp(-p[\"E0\"]*t)\n",
      "/home/chris/Code/LQCD/a1_analysis/fitting.py:246: RuntimeWarning: overflow encountered in exp\n",
      "  return p[\"A0\"]*np.exp(-p[\"E0\"]*t)+p[\"A1\"]*np.exp(-p[\"E1\"]*t)+p[\"A2\"]*np.exp(-p[\"E2\"]*t)\n",
      "/home/chris/Code/LQCD/a1_analysis/stats.py:96: RuntimeWarning: invalid value encountered in sqrt\n",
      "  return gv.gvar(mean_avg, np.sqrt(var_avg))\n",
      "/home/chris/Code/LQCD/a1_analysis/fitting.py:246: RuntimeWarning: overflow encountered in exp\n",
      "  return p[\"A0\"]*np.exp(-p[\"E0\"]*t)+p[\"A1\"]*np.exp(-p[\"E1\"]*t)+p[\"A2\"]*np.exp(-p[\"E2\"]*t)\n",
      "/home/chris/Code/LQCD/a1_analysis/fitting.py:246: RuntimeWarning: overflow encountered in exp\n",
      "  return p[\"A0\"]*np.exp(-p[\"E0\"]*t)+p[\"A1\"]*np.exp(-p[\"E1\"]*t)+p[\"A2\"]*np.exp(-p[\"E2\"]*t)\n",
      "/home/chris/Code/LQCD/a1_analysis/fitting.py:246: RuntimeWarning: overflow encountered in exp\n",
      "  return p[\"A0\"]*np.exp(-p[\"E0\"]*t)+p[\"A1\"]*np.exp(-p[\"E1\"]*t)+p[\"A2\"]*np.exp(-p[\"E2\"]*t)\n",
      "/home/chris/Code/LQCD/a1_analysis/fitting.py:246: RuntimeWarning: overflow encountered in exp\n",
      "  return p[\"A0\"]*np.exp(-p[\"E0\"]*t)+p[\"A1\"]*np.exp(-p[\"E1\"]*t)+p[\"A2\"]*np.exp(-p[\"E2\"]*t)\n",
      "/home/chris/Code/LQCD/a1_analysis/fitting.py:242: RuntimeWarning: overflow encountered in exp\n",
      "  return p[\"A0\"]*np.exp(-p[\"E0\"]*t)\n",
      "/home/chris/Code/LQCD/a1_analysis/fitting.py:246: RuntimeWarning: overflow encountered in exp\n",
      "  return p[\"A0\"]*np.exp(-p[\"E0\"]*t)+p[\"A1\"]*np.exp(-p[\"E1\"]*t)+p[\"A2\"]*np.exp(-p[\"E2\"]*t)\n"
     ]
    },
    {
     "name": "stdout",
     "output_type": "stream",
     "text": [
      "Done fitting for t0=2, td=4\n"
     ]
    },
    {
     "name": "stderr",
     "output_type": "stream",
     "text": [
      "/home/chris/Code/LQCD/a1_analysis/fitting.py:242: RuntimeWarning: overflow encountered in exp\n",
      "  return p[\"A0\"]*np.exp(-p[\"E0\"]*t)\n",
      "/home/chris/Code/LQCD/a1_analysis/fitting.py:246: RuntimeWarning: overflow encountered in exp\n",
      "  return p[\"A0\"]*np.exp(-p[\"E0\"]*t)+p[\"A1\"]*np.exp(-p[\"E1\"]*t)+p[\"A2\"]*np.exp(-p[\"E2\"]*t)\n",
      "/home/chris/Code/LQCD/a1_analysis/fitting.py:246: RuntimeWarning: invalid value encountered in add\n",
      "  return p[\"A0\"]*np.exp(-p[\"E0\"]*t)+p[\"A1\"]*np.exp(-p[\"E1\"]*t)+p[\"A2\"]*np.exp(-p[\"E2\"]*t)\n",
      "/home/chris/Code/LQCD/a1_analysis/fitting.py:246: RuntimeWarning: overflow encountered in exp\n",
      "  return p[\"A0\"]*np.exp(-p[\"E0\"]*t)+p[\"A1\"]*np.exp(-p[\"E1\"]*t)+p[\"A2\"]*np.exp(-p[\"E2\"]*t)\n",
      "/home/chris/Code/LQCD/a1_analysis/fitting.py:246: RuntimeWarning: overflow encountered in exp\n",
      "  return p[\"A0\"]*np.exp(-p[\"E0\"]*t)+p[\"A1\"]*np.exp(-p[\"E1\"]*t)+p[\"A2\"]*np.exp(-p[\"E2\"]*t)\n",
      "/home/chris/Code/LQCD/a1_analysis/fitting.py:246: RuntimeWarning: overflow encountered in exp\n",
      "  return p[\"A0\"]*np.exp(-p[\"E0\"]*t)+p[\"A1\"]*np.exp(-p[\"E1\"]*t)+p[\"A2\"]*np.exp(-p[\"E2\"]*t)\n",
      "/home/chris/Code/LQCD/a1_analysis/stats.py:96: RuntimeWarning: invalid value encountered in sqrt\n",
      "  return gv.gvar(mean_avg, np.sqrt(var_avg))\n",
      "/home/chris/Code/LQCD/a1_analysis/stats.py:96: RuntimeWarning: invalid value encountered in sqrt\n",
      "  return gv.gvar(mean_avg, np.sqrt(var_avg))\n",
      "/home/chris/Code/LQCD/a1_analysis/fitting.py:242: RuntimeWarning: overflow encountered in exp\n",
      "  return p[\"A0\"]*np.exp(-p[\"E0\"]*t)\n",
      "/home/chris/Code/LQCD/a1_analysis/fitting.py:246: RuntimeWarning: invalid value encountered in add\n",
      "  return p[\"A0\"]*np.exp(-p[\"E0\"]*t)+p[\"A1\"]*np.exp(-p[\"E1\"]*t)+p[\"A2\"]*np.exp(-p[\"E2\"]*t)\n",
      "/home/chris/Code/LQCD/a1_analysis/fitting.py:246: RuntimeWarning: overflow encountered in exp\n",
      "  return p[\"A0\"]*np.exp(-p[\"E0\"]*t)+p[\"A1\"]*np.exp(-p[\"E1\"]*t)+p[\"A2\"]*np.exp(-p[\"E2\"]*t)\n",
      "/home/chris/Code/LQCD/a1_analysis/fitting.py:246: RuntimeWarning: overflow encountered in exp\n",
      "  return p[\"A0\"]*np.exp(-p[\"E0\"]*t)+p[\"A1\"]*np.exp(-p[\"E1\"]*t)+p[\"A2\"]*np.exp(-p[\"E2\"]*t)\n"
     ]
    },
    {
     "name": "stdout",
     "output_type": "stream",
     "text": [
      "Done fitting for t0=3, td=4\n"
     ]
    },
    {
     "name": "stderr",
     "output_type": "stream",
     "text": [
      "/home/chris/Code/LQCD/a1_analysis/fitting.py:246: RuntimeWarning: overflow encountered in exp\n",
      "  return p[\"A0\"]*np.exp(-p[\"E0\"]*t)+p[\"A1\"]*np.exp(-p[\"E1\"]*t)+p[\"A2\"]*np.exp(-p[\"E2\"]*t)\n",
      "/home/chris/Code/LQCD/a1_analysis/fitting.py:246: RuntimeWarning: invalid value encountered in add\n",
      "  return p[\"A0\"]*np.exp(-p[\"E0\"]*t)+p[\"A1\"]*np.exp(-p[\"E1\"]*t)+p[\"A2\"]*np.exp(-p[\"E2\"]*t)\n",
      "/home/chris/Code/LQCD/a1_analysis/fitting.py:246: RuntimeWarning: overflow encountered in exp\n",
      "  return p[\"A0\"]*np.exp(-p[\"E0\"]*t)+p[\"A1\"]*np.exp(-p[\"E1\"]*t)+p[\"A2\"]*np.exp(-p[\"E2\"]*t)\n",
      "/home/chris/Code/LQCD/a1_analysis/fitting.py:246: RuntimeWarning: overflow encountered in exp\n",
      "  return p[\"A0\"]*np.exp(-p[\"E0\"]*t)+p[\"A1\"]*np.exp(-p[\"E1\"]*t)+p[\"A2\"]*np.exp(-p[\"E2\"]*t)\n",
      "/home/chris/Code/LQCD/a1_analysis/fitting.py:246: RuntimeWarning: overflow encountered in multiply\n",
      "  return p[\"A0\"]*np.exp(-p[\"E0\"]*t)+p[\"A1\"]*np.exp(-p[\"E1\"]*t)+p[\"A2\"]*np.exp(-p[\"E2\"]*t)\n",
      "/home/chris/Code/LQCD/a1_analysis/stats.py:96: RuntimeWarning: invalid value encountered in sqrt\n",
      "  return gv.gvar(mean_avg, np.sqrt(var_avg))\n",
      "/home/chris/Code/LQCD/a1_analysis/stats.py:96: RuntimeWarning: invalid value encountered in sqrt\n",
      "  return gv.gvar(mean_avg, np.sqrt(var_avg))\n",
      "/home/chris/Code/LQCD/a1_analysis/fitting.py:246: RuntimeWarning: overflow encountered in exp\n",
      "  return p[\"A0\"]*np.exp(-p[\"E0\"]*t)+p[\"A1\"]*np.exp(-p[\"E1\"]*t)+p[\"A2\"]*np.exp(-p[\"E2\"]*t)\n",
      "/home/chris/Code/LQCD/a1_analysis/fitting.py:246: RuntimeWarning: invalid value encountered in add\n",
      "  return p[\"A0\"]*np.exp(-p[\"E0\"]*t)+p[\"A1\"]*np.exp(-p[\"E1\"]*t)+p[\"A2\"]*np.exp(-p[\"E2\"]*t)\n",
      "/home/chris/Code/LQCD/a1_analysis/fitting.py:246: RuntimeWarning: overflow encountered in exp\n",
      "  return p[\"A0\"]*np.exp(-p[\"E0\"]*t)+p[\"A1\"]*np.exp(-p[\"E1\"]*t)+p[\"A2\"]*np.exp(-p[\"E2\"]*t)\n",
      "/home/chris/Code/LQCD/a1_analysis/fitting.py:246: RuntimeWarning: overflow encountered in multiply\n",
      "  return p[\"A0\"]*np.exp(-p[\"E0\"]*t)+p[\"A1\"]*np.exp(-p[\"E1\"]*t)+p[\"A2\"]*np.exp(-p[\"E2\"]*t)\n"
     ]
    },
    {
     "name": "stdout",
     "output_type": "stream",
     "text": [
      "Done fitting for t0=3, td=5\n"
     ]
    },
    {
     "name": "stderr",
     "output_type": "stream",
     "text": [
      "/home/chris/Code/LQCD/a1_analysis/fitting.py:242: RuntimeWarning: overflow encountered in exp\n",
      "  return p[\"A0\"]*np.exp(-p[\"E0\"]*t)\n",
      "/home/chris/Code/LQCD/a1_analysis/fitting.py:246: RuntimeWarning: overflow encountered in exp\n",
      "  return p[\"A0\"]*np.exp(-p[\"E0\"]*t)+p[\"A1\"]*np.exp(-p[\"E1\"]*t)+p[\"A2\"]*np.exp(-p[\"E2\"]*t)\n",
      "/home/chris/Code/LQCD/a1_analysis/fitting.py:246: RuntimeWarning: overflow encountered in multiply\n",
      "  return p[\"A0\"]*np.exp(-p[\"E0\"]*t)+p[\"A1\"]*np.exp(-p[\"E1\"]*t)+p[\"A2\"]*np.exp(-p[\"E2\"]*t)\n",
      "/home/chris/Code/LQCD/a1_analysis/fitting.py:246: RuntimeWarning: overflow encountered in exp\n",
      "  return p[\"A0\"]*np.exp(-p[\"E0\"]*t)+p[\"A1\"]*np.exp(-p[\"E1\"]*t)+p[\"A2\"]*np.exp(-p[\"E2\"]*t)\n",
      "/home/chris/Code/LQCD/a1_analysis/fitting.py:246: RuntimeWarning: invalid value encountered in add\n",
      "  return p[\"A0\"]*np.exp(-p[\"E0\"]*t)+p[\"A1\"]*np.exp(-p[\"E1\"]*t)+p[\"A2\"]*np.exp(-p[\"E2\"]*t)\n",
      "/home/chris/Code/LQCD/a1_analysis/fitting.py:246: RuntimeWarning: overflow encountered in exp\n",
      "  return p[\"A0\"]*np.exp(-p[\"E0\"]*t)+p[\"A1\"]*np.exp(-p[\"E1\"]*t)+p[\"A2\"]*np.exp(-p[\"E2\"]*t)\n",
      "/home/chris/Code/LQCD/a1_analysis/fitting.py:246: RuntimeWarning: overflow encountered in multiply\n",
      "  return p[\"A0\"]*np.exp(-p[\"E0\"]*t)+p[\"A1\"]*np.exp(-p[\"E1\"]*t)+p[\"A2\"]*np.exp(-p[\"E2\"]*t)\n",
      "/home/chris/anaconda3/envs/LQCD/lib/python3.10/site-packages/scipy/optimize/_lsq/common.py:234: RuntimeWarning: overflow encountered in double_scalars\n",
      "  ratio = actual_reduction / predicted_reduction\n",
      "/home/chris/Code/LQCD/a1_analysis/stats.py:96: RuntimeWarning: invalid value encountered in sqrt\n",
      "  return gv.gvar(mean_avg, np.sqrt(var_avg))\n",
      "/home/chris/Code/LQCD/a1_analysis/fitting.py:246: RuntimeWarning: overflow encountered in exp\n",
      "  return p[\"A0\"]*np.exp(-p[\"E0\"]*t)+p[\"A1\"]*np.exp(-p[\"E1\"]*t)+p[\"A2\"]*np.exp(-p[\"E2\"]*t)\n",
      "/home/chris/Code/LQCD/a1_analysis/fitting.py:246: RuntimeWarning: overflow encountered in exp\n",
      "  return p[\"A0\"]*np.exp(-p[\"E0\"]*t)+p[\"A1\"]*np.exp(-p[\"E1\"]*t)+p[\"A2\"]*np.exp(-p[\"E2\"]*t)\n",
      "/home/chris/Code/LQCD/a1_analysis/fitting.py:242: RuntimeWarning: overflow encountered in exp\n",
      "  return p[\"A0\"]*np.exp(-p[\"E0\"]*t)\n",
      "/home/chris/Code/LQCD/a1_analysis/fitting.py:246: RuntimeWarning: overflow encountered in exp\n",
      "  return p[\"A0\"]*np.exp(-p[\"E0\"]*t)+p[\"A1\"]*np.exp(-p[\"E1\"]*t)+p[\"A2\"]*np.exp(-p[\"E2\"]*t)\n",
      "/home/chris/Code/LQCD/a1_analysis/fitting.py:246: RuntimeWarning: invalid value encountered in add\n",
      "  return p[\"A0\"]*np.exp(-p[\"E0\"]*t)+p[\"A1\"]*np.exp(-p[\"E1\"]*t)+p[\"A2\"]*np.exp(-p[\"E2\"]*t)\n",
      "/home/chris/anaconda3/envs/LQCD/lib/python3.10/site-packages/scipy/optimize/_lsq/common.py:234: RuntimeWarning: overflow encountered in double_scalars\n",
      "  ratio = actual_reduction / predicted_reduction\n"
     ]
    },
    {
     "name": "stdout",
     "output_type": "stream",
     "text": [
      "Done fitting for t0=3, td=6\n"
     ]
    },
    {
     "name": "stderr",
     "output_type": "stream",
     "text": [
      "/home/chris/Code/LQCD/a1_analysis/fitting.py:246: RuntimeWarning: overflow encountered in exp\n",
      "  return p[\"A0\"]*np.exp(-p[\"E0\"]*t)+p[\"A1\"]*np.exp(-p[\"E1\"]*t)+p[\"A2\"]*np.exp(-p[\"E2\"]*t)\n",
      "/home/chris/Code/LQCD/a1_analysis/fitting.py:246: RuntimeWarning: invalid value encountered in add\n",
      "  return p[\"A0\"]*np.exp(-p[\"E0\"]*t)+p[\"A1\"]*np.exp(-p[\"E1\"]*t)+p[\"A2\"]*np.exp(-p[\"E2\"]*t)\n",
      "/home/chris/Code/LQCD/a1_analysis/fitting.py:246: RuntimeWarning: overflow encountered in multiply\n",
      "  return p[\"A0\"]*np.exp(-p[\"E0\"]*t)+p[\"A1\"]*np.exp(-p[\"E1\"]*t)+p[\"A2\"]*np.exp(-p[\"E2\"]*t)\n",
      "/home/chris/Code/LQCD/a1_analysis/fitting.py:246: RuntimeWarning: overflow encountered in exp\n",
      "  return p[\"A0\"]*np.exp(-p[\"E0\"]*t)+p[\"A1\"]*np.exp(-p[\"E1\"]*t)+p[\"A2\"]*np.exp(-p[\"E2\"]*t)\n",
      "/home/chris/Code/LQCD/a1_analysis/fitting.py:246: RuntimeWarning: invalid value encountered in add\n",
      "  return p[\"A0\"]*np.exp(-p[\"E0\"]*t)+p[\"A1\"]*np.exp(-p[\"E1\"]*t)+p[\"A2\"]*np.exp(-p[\"E2\"]*t)\n",
      "/home/chris/Code/LQCD/a1_analysis/stats.py:96: RuntimeWarning: invalid value encountered in sqrt\n",
      "  return gv.gvar(mean_avg, np.sqrt(var_avg))\n",
      "/home/chris/Code/LQCD/a1_analysis/stats.py:96: RuntimeWarning: invalid value encountered in sqrt\n",
      "  return gv.gvar(mean_avg, np.sqrt(var_avg))\n",
      "/home/chris/Code/LQCD/a1_analysis/fitting.py:246: RuntimeWarning: overflow encountered in exp\n",
      "  return p[\"A0\"]*np.exp(-p[\"E0\"]*t)+p[\"A1\"]*np.exp(-p[\"E1\"]*t)+p[\"A2\"]*np.exp(-p[\"E2\"]*t)\n",
      "/home/chris/Code/LQCD/a1_analysis/fitting.py:246: RuntimeWarning: overflow encountered in exp\n",
      "  return p[\"A0\"]*np.exp(-p[\"E0\"]*t)+p[\"A1\"]*np.exp(-p[\"E1\"]*t)+p[\"A2\"]*np.exp(-p[\"E2\"]*t)\n",
      "/home/chris/Code/LQCD/a1_analysis/fitting.py:246: RuntimeWarning: overflow encountered in multiply\n",
      "  return p[\"A0\"]*np.exp(-p[\"E0\"]*t)+p[\"A1\"]*np.exp(-p[\"E1\"]*t)+p[\"A2\"]*np.exp(-p[\"E2\"]*t)\n",
      "/home/chris/Code/LQCD/a1_analysis/stats.py:96: RuntimeWarning: invalid value encountered in sqrt\n",
      "  return gv.gvar(mean_avg, np.sqrt(var_avg))\n",
      "/home/chris/Code/LQCD/a1_analysis/stats.py:96: RuntimeWarning: invalid value encountered in sqrt\n",
      "  return gv.gvar(mean_avg, np.sqrt(var_avg))\n",
      "/home/chris/anaconda3/envs/LQCD/lib/python3.10/site-packages/scipy/optimize/_lsq/common.py:234: RuntimeWarning: overflow encountered in double_scalars\n",
      "  ratio = actual_reduction / predicted_reduction\n",
      "/home/chris/Code/LQCD/a1_analysis/fitting.py:246: RuntimeWarning: overflow encountered in exp\n",
      "  return p[\"A0\"]*np.exp(-p[\"E0\"]*t)+p[\"A1\"]*np.exp(-p[\"E1\"]*t)+p[\"A2\"]*np.exp(-p[\"E2\"]*t)\n",
      "/home/chris/Code/LQCD/a1_analysis/fitting.py:246: RuntimeWarning: overflow encountered in exp\n",
      "  return p[\"A0\"]*np.exp(-p[\"E0\"]*t)+p[\"A1\"]*np.exp(-p[\"E1\"]*t)+p[\"A2\"]*np.exp(-p[\"E2\"]*t)\n",
      "/home/chris/Code/LQCD/a1_analysis/fitting.py:246: RuntimeWarning: invalid value encountered in add\n",
      "  return p[\"A0\"]*np.exp(-p[\"E0\"]*t)+p[\"A1\"]*np.exp(-p[\"E1\"]*t)+p[\"A2\"]*np.exp(-p[\"E2\"]*t)\n",
      "/home/chris/Code/LQCD/a1_analysis/fitting.py:246: RuntimeWarning: overflow encountered in multiply\n",
      "  return p[\"A0\"]*np.exp(-p[\"E0\"]*t)+p[\"A1\"]*np.exp(-p[\"E1\"]*t)+p[\"A2\"]*np.exp(-p[\"E2\"]*t)\n",
      "/home/chris/anaconda3/envs/LQCD/lib/python3.10/site-packages/scipy/optimize/_lsq/common.py:234: RuntimeWarning: overflow encountered in double_scalars\n",
      "  ratio = actual_reduction / predicted_reduction\n"
     ]
    },
    {
     "name": "stdout",
     "output_type": "stream",
     "text": [
      "Done fitting for t0=4, td=5\n"
     ]
    },
    {
     "name": "stderr",
     "output_type": "stream",
     "text": [
      "/home/chris/Code/LQCD/a1_analysis/fitting.py:246: RuntimeWarning: overflow encountered in exp\n",
      "  return p[\"A0\"]*np.exp(-p[\"E0\"]*t)+p[\"A1\"]*np.exp(-p[\"E1\"]*t)+p[\"A2\"]*np.exp(-p[\"E2\"]*t)\n",
      "/home/chris/Code/LQCD/a1_analysis/stats.py:96: RuntimeWarning: invalid value encountered in sqrt\n",
      "  return gv.gvar(mean_avg, np.sqrt(var_avg))\n",
      "/home/chris/Code/LQCD/a1_analysis/stats.py:96: RuntimeWarning: invalid value encountered in sqrt\n",
      "  return gv.gvar(mean_avg, np.sqrt(var_avg))\n",
      "/home/chris/Code/LQCD/a1_analysis/fitting.py:246: RuntimeWarning: overflow encountered in exp\n",
      "  return p[\"A0\"]*np.exp(-p[\"E0\"]*t)+p[\"A1\"]*np.exp(-p[\"E1\"]*t)+p[\"A2\"]*np.exp(-p[\"E2\"]*t)\n",
      "/home/chris/Code/LQCD/a1_analysis/fitting.py:246: RuntimeWarning: overflow encountered in exp\n",
      "  return p[\"A0\"]*np.exp(-p[\"E0\"]*t)+p[\"A1\"]*np.exp(-p[\"E1\"]*t)+p[\"A2\"]*np.exp(-p[\"E2\"]*t)\n",
      "/home/chris/anaconda3/envs/LQCD/lib/python3.10/site-packages/scipy/optimize/_lsq/common.py:234: RuntimeWarning: overflow encountered in double_scalars\n",
      "  ratio = actual_reduction / predicted_reduction\n",
      "/home/chris/Code/LQCD/a1_analysis/fitting.py:246: RuntimeWarning: overflow encountered in exp\n",
      "  return p[\"A0\"]*np.exp(-p[\"E0\"]*t)+p[\"A1\"]*np.exp(-p[\"E1\"]*t)+p[\"A2\"]*np.exp(-p[\"E2\"]*t)\n",
      "/home/chris/Code/LQCD/a1_analysis/stats.py:96: RuntimeWarning: invalid value encountered in sqrt\n",
      "  return gv.gvar(mean_avg, np.sqrt(var_avg))\n",
      "/home/chris/Code/LQCD/a1_analysis/stats.py:96: RuntimeWarning: invalid value encountered in sqrt\n",
      "  return gv.gvar(mean_avg, np.sqrt(var_avg))\n",
      "/home/chris/Code/LQCD/a1_analysis/fitting.py:246: RuntimeWarning: overflow encountered in exp\n",
      "  return p[\"A0\"]*np.exp(-p[\"E0\"]*t)+p[\"A1\"]*np.exp(-p[\"E1\"]*t)+p[\"A2\"]*np.exp(-p[\"E2\"]*t)\n",
      "/home/chris/anaconda3/envs/LQCD/lib/python3.10/site-packages/scipy/optimize/_lsq/common.py:234: RuntimeWarning: overflow encountered in double_scalars\n",
      "  ratio = actual_reduction / predicted_reduction\n"
     ]
    },
    {
     "name": "stdout",
     "output_type": "stream",
     "text": [
      "Done fitting for t0=4, td=6\n"
     ]
    },
    {
     "name": "stderr",
     "output_type": "stream",
     "text": [
      "/home/chris/Code/LQCD/a1_analysis/fitting.py:242: RuntimeWarning: overflow encountered in exp\n",
      "  return p[\"A0\"]*np.exp(-p[\"E0\"]*t)\n",
      "/home/chris/Code/LQCD/a1_analysis/fitting.py:246: RuntimeWarning: overflow encountered in exp\n",
      "  return p[\"A0\"]*np.exp(-p[\"E0\"]*t)+p[\"A1\"]*np.exp(-p[\"E1\"]*t)+p[\"A2\"]*np.exp(-p[\"E2\"]*t)\n",
      "/home/chris/Code/LQCD/a1_analysis/fitting.py:246: RuntimeWarning: overflow encountered in exp\n",
      "  return p[\"A0\"]*np.exp(-p[\"E0\"]*t)+p[\"A1\"]*np.exp(-p[\"E1\"]*t)+p[\"A2\"]*np.exp(-p[\"E2\"]*t)\n",
      "/home/chris/Code/LQCD/a1_analysis/fitting.py:246: RuntimeWarning: overflow encountered in multiply\n",
      "  return p[\"A0\"]*np.exp(-p[\"E0\"]*t)+p[\"A1\"]*np.exp(-p[\"E1\"]*t)+p[\"A2\"]*np.exp(-p[\"E2\"]*t)\n",
      "/home/chris/Code/LQCD/a1_analysis/stats.py:96: RuntimeWarning: invalid value encountered in sqrt\n",
      "  return gv.gvar(mean_avg, np.sqrt(var_avg))\n",
      "/home/chris/Code/LQCD/a1_analysis/stats.py:96: RuntimeWarning: invalid value encountered in sqrt\n",
      "  return gv.gvar(mean_avg, np.sqrt(var_avg))\n",
      "/home/chris/Code/LQCD/a1_analysis/fitting.py:246: RuntimeWarning: overflow encountered in exp\n",
      "  return p[\"A0\"]*np.exp(-p[\"E0\"]*t)+p[\"A1\"]*np.exp(-p[\"E1\"]*t)+p[\"A2\"]*np.exp(-p[\"E2\"]*t)\n",
      "/home/chris/Code/LQCD/a1_analysis/fitting.py:242: RuntimeWarning: overflow encountered in exp\n",
      "  return p[\"A0\"]*np.exp(-p[\"E0\"]*t)\n",
      "/home/chris/Code/LQCD/a1_analysis/fitting.py:246: RuntimeWarning: overflow encountered in multiply\n",
      "  return p[\"A0\"]*np.exp(-p[\"E0\"]*t)+p[\"A1\"]*np.exp(-p[\"E1\"]*t)+p[\"A2\"]*np.exp(-p[\"E2\"]*t)\n",
      "/home/chris/Code/LQCD/a1_analysis/fitting.py:246: RuntimeWarning: overflow encountered in exp\n",
      "  return p[\"A0\"]*np.exp(-p[\"E0\"]*t)+p[\"A1\"]*np.exp(-p[\"E1\"]*t)+p[\"A2\"]*np.exp(-p[\"E2\"]*t)\n"
     ]
    },
    {
     "name": "stdout",
     "output_type": "stream",
     "text": [
      "Done fitting for t0=4, td=7\n"
     ]
    },
    {
     "name": "stderr",
     "output_type": "stream",
     "text": [
      "/home/chris/Code/LQCD/a1_analysis/fitting.py:242: RuntimeWarning: overflow encountered in exp\n",
      "  return p[\"A0\"]*np.exp(-p[\"E0\"]*t)\n",
      "/home/chris/Code/LQCD/a1_analysis/fitting.py:246: RuntimeWarning: overflow encountered in exp\n",
      "  return p[\"A0\"]*np.exp(-p[\"E0\"]*t)+p[\"A1\"]*np.exp(-p[\"E1\"]*t)+p[\"A2\"]*np.exp(-p[\"E2\"]*t)\n",
      "/home/chris/Code/LQCD/a1_analysis/fitting.py:246: RuntimeWarning: overflow encountered in exp\n",
      "  return p[\"A0\"]*np.exp(-p[\"E0\"]*t)+p[\"A1\"]*np.exp(-p[\"E1\"]*t)+p[\"A2\"]*np.exp(-p[\"E2\"]*t)\n",
      "/home/chris/Code/LQCD/a1_analysis/stats.py:96: RuntimeWarning: invalid value encountered in sqrt\n",
      "  return gv.gvar(mean_avg, np.sqrt(var_avg))\n",
      "/home/chris/Code/LQCD/a1_analysis/fitting.py:242: RuntimeWarning: overflow encountered in exp\n",
      "  return p[\"A0\"]*np.exp(-p[\"E0\"]*t)\n",
      "/home/chris/Code/LQCD/a1_analysis/fitting.py:246: RuntimeWarning: overflow encountered in exp\n",
      "  return p[\"A0\"]*np.exp(-p[\"E0\"]*t)+p[\"A1\"]*np.exp(-p[\"E1\"]*t)+p[\"A2\"]*np.exp(-p[\"E2\"]*t)\n",
      "/home/chris/Code/LQCD/a1_analysis/fitting.py:246: RuntimeWarning: overflow encountered in exp\n",
      "  return p[\"A0\"]*np.exp(-p[\"E0\"]*t)+p[\"A1\"]*np.exp(-p[\"E1\"]*t)+p[\"A2\"]*np.exp(-p[\"E2\"]*t)\n"
     ]
    },
    {
     "name": "stdout",
     "output_type": "stream",
     "text": [
      "Done fitting for t0=4, td=8\n"
     ]
    },
    {
     "name": "stderr",
     "output_type": "stream",
     "text": [
      "/home/chris/Code/LQCD/a1_analysis/fitting.py:246: RuntimeWarning: overflow encountered in exp\n",
      "  return p[\"A0\"]*np.exp(-p[\"E0\"]*t)+p[\"A1\"]*np.exp(-p[\"E1\"]*t)+p[\"A2\"]*np.exp(-p[\"E2\"]*t)\n",
      "/home/chris/Code/LQCD/a1_analysis/fitting.py:246: RuntimeWarning: invalid value encountered in add\n",
      "  return p[\"A0\"]*np.exp(-p[\"E0\"]*t)+p[\"A1\"]*np.exp(-p[\"E1\"]*t)+p[\"A2\"]*np.exp(-p[\"E2\"]*t)\n",
      "/home/chris/Code/LQCD/a1_analysis/fitting.py:242: RuntimeWarning: overflow encountered in exp\n",
      "  return p[\"A0\"]*np.exp(-p[\"E0\"]*t)\n",
      "/home/chris/Code/LQCD/a1_analysis/fitting.py:246: RuntimeWarning: overflow encountered in exp\n",
      "  return p[\"A0\"]*np.exp(-p[\"E0\"]*t)+p[\"A1\"]*np.exp(-p[\"E1\"]*t)+p[\"A2\"]*np.exp(-p[\"E2\"]*t)\n",
      "/home/chris/Code/LQCD/a1_analysis/stats.py:96: RuntimeWarning: invalid value encountered in sqrt\n",
      "  return gv.gvar(mean_avg, np.sqrt(var_avg))\n",
      "/home/chris/Code/LQCD/a1_analysis/fitting.py:246: RuntimeWarning: overflow encountered in exp\n",
      "  return p[\"A0\"]*np.exp(-p[\"E0\"]*t)+p[\"A1\"]*np.exp(-p[\"E1\"]*t)+p[\"A2\"]*np.exp(-p[\"E2\"]*t)\n",
      "/home/chris/Code/LQCD/a1_analysis/stats.py:96: RuntimeWarning: invalid value encountered in sqrt\n",
      "  return gv.gvar(mean_avg, np.sqrt(var_avg))\n",
      "/home/chris/Code/LQCD/a1_analysis/fitting.py:246: RuntimeWarning: overflow encountered in exp\n",
      "  return p[\"A0\"]*np.exp(-p[\"E0\"]*t)+p[\"A1\"]*np.exp(-p[\"E1\"]*t)+p[\"A2\"]*np.exp(-p[\"E2\"]*t)\n",
      "/home/chris/Code/LQCD/a1_analysis/fitting.py:246: RuntimeWarning: overflow encountered in exp\n",
      "  return p[\"A0\"]*np.exp(-p[\"E0\"]*t)+p[\"A1\"]*np.exp(-p[\"E1\"]*t)+p[\"A2\"]*np.exp(-p[\"E2\"]*t)\n",
      "/home/chris/Code/LQCD/a1_analysis/stats.py:96: RuntimeWarning: invalid value encountered in sqrt\n",
      "  return gv.gvar(mean_avg, np.sqrt(var_avg))\n",
      "/home/chris/Code/LQCD/a1_analysis/stats.py:96: RuntimeWarning: invalid value encountered in sqrt\n",
      "  return gv.gvar(mean_avg, np.sqrt(var_avg))\n",
      "/home/chris/Code/LQCD/a1_analysis/fitting.py:246: RuntimeWarning: overflow encountered in exp\n",
      "  return p[\"A0\"]*np.exp(-p[\"E0\"]*t)+p[\"A1\"]*np.exp(-p[\"E1\"]*t)+p[\"A2\"]*np.exp(-p[\"E2\"]*t)\n",
      "/home/chris/Code/LQCD/a1_analysis/fitting.py:246: RuntimeWarning: invalid value encountered in add\n",
      "  return p[\"A0\"]*np.exp(-p[\"E0\"]*t)+p[\"A1\"]*np.exp(-p[\"E1\"]*t)+p[\"A2\"]*np.exp(-p[\"E2\"]*t)\n",
      "/home/chris/Code/LQCD/a1_analysis/fitting.py:242: RuntimeWarning: overflow encountered in exp\n",
      "  return p[\"A0\"]*np.exp(-p[\"E0\"]*t)\n"
     ]
    },
    {
     "name": "stdout",
     "output_type": "stream",
     "text": [
      "Done fitting for t0=5, td=6\n"
     ]
    },
    {
     "name": "stderr",
     "output_type": "stream",
     "text": [
      "/home/chris/anaconda3/envs/LQCD/lib/python3.10/site-packages/scipy/optimize/_lsq/common.py:115: RuntimeWarning: overflow encountered in power\n",
      "  phi_prime = -np.sum(suf ** 2 / denom**3) / p_norm\n",
      "/home/chris/Code/LQCD/a1_analysis/fitting.py:242: RuntimeWarning: overflow encountered in exp\n",
      "  return p[\"A0\"]*np.exp(-p[\"E0\"]*t)\n",
      "/home/chris/Code/LQCD/a1_analysis/fitting.py:246: RuntimeWarning: overflow encountered in exp\n",
      "  return p[\"A0\"]*np.exp(-p[\"E0\"]*t)+p[\"A1\"]*np.exp(-p[\"E1\"]*t)+p[\"A2\"]*np.exp(-p[\"E2\"]*t)\n",
      "/home/chris/Code/LQCD/a1_analysis/fitting.py:246: RuntimeWarning: overflow encountered in exp\n",
      "  return p[\"A0\"]*np.exp(-p[\"E0\"]*t)+p[\"A1\"]*np.exp(-p[\"E1\"]*t)+p[\"A2\"]*np.exp(-p[\"E2\"]*t)\n",
      "/home/chris/Code/LQCD/a1_analysis/stats.py:96: RuntimeWarning: invalid value encountered in sqrt\n",
      "  return gv.gvar(mean_avg, np.sqrt(var_avg))\n",
      "/home/chris/Code/LQCD/a1_analysis/fitting.py:246: RuntimeWarning: overflow encountered in exp\n",
      "  return p[\"A0\"]*np.exp(-p[\"E0\"]*t)+p[\"A1\"]*np.exp(-p[\"E1\"]*t)+p[\"A2\"]*np.exp(-p[\"E2\"]*t)\n",
      "/home/chris/Code/LQCD/a1_analysis/fitting.py:246: RuntimeWarning: overflow encountered in exp\n",
      "  return p[\"A0\"]*np.exp(-p[\"E0\"]*t)+p[\"A1\"]*np.exp(-p[\"E1\"]*t)+p[\"A2\"]*np.exp(-p[\"E2\"]*t)\n",
      "/home/chris/Code/LQCD/a1_analysis/fitting.py:246: RuntimeWarning: overflow encountered in multiply\n",
      "  return p[\"A0\"]*np.exp(-p[\"E0\"]*t)+p[\"A1\"]*np.exp(-p[\"E1\"]*t)+p[\"A2\"]*np.exp(-p[\"E2\"]*t)\n",
      "/home/chris/Code/LQCD/a1_analysis/stats.py:96: RuntimeWarning: invalid value encountered in sqrt\n",
      "  return gv.gvar(mean_avg, np.sqrt(var_avg))\n",
      "/home/chris/Code/LQCD/a1_analysis/fitting.py:246: RuntimeWarning: overflow encountered in exp\n",
      "  return p[\"A0\"]*np.exp(-p[\"E0\"]*t)+p[\"A1\"]*np.exp(-p[\"E1\"]*t)+p[\"A2\"]*np.exp(-p[\"E2\"]*t)\n",
      "/home/chris/Code/LQCD/a1_analysis/stats.py:96: RuntimeWarning: invalid value encountered in sqrt\n",
      "  return gv.gvar(mean_avg, np.sqrt(var_avg))\n",
      "/home/chris/Code/LQCD/a1_analysis/stats.py:96: RuntimeWarning: invalid value encountered in sqrt\n",
      "  return gv.gvar(mean_avg, np.sqrt(var_avg))\n",
      "/home/chris/Code/LQCD/a1_analysis/fitting.py:242: RuntimeWarning: overflow encountered in exp\n",
      "  return p[\"A0\"]*np.exp(-p[\"E0\"]*t)\n",
      "/home/chris/Code/LQCD/a1_analysis/fitting.py:246: RuntimeWarning: overflow encountered in exp\n",
      "  return p[\"A0\"]*np.exp(-p[\"E0\"]*t)+p[\"A1\"]*np.exp(-p[\"E1\"]*t)+p[\"A2\"]*np.exp(-p[\"E2\"]*t)\n"
     ]
    },
    {
     "name": "stdout",
     "output_type": "stream",
     "text": [
      "Done fitting for t0=5, td=7\n"
     ]
    },
    {
     "name": "stderr",
     "output_type": "stream",
     "text": [
      "/home/chris/Code/LQCD/a1_analysis/fitting.py:242: RuntimeWarning: overflow encountered in exp\n",
      "  return p[\"A0\"]*np.exp(-p[\"E0\"]*t)\n",
      "/home/chris/Code/LQCD/a1_analysis/fitting.py:242: RuntimeWarning: overflow encountered in exp\n",
      "  return p[\"A0\"]*np.exp(-p[\"E0\"]*t)\n",
      "/home/chris/Code/LQCD/a1_analysis/stats.py:96: RuntimeWarning: invalid value encountered in sqrt\n",
      "  return gv.gvar(mean_avg, np.sqrt(var_avg))\n",
      "/home/chris/Code/LQCD/a1_analysis/fitting.py:246: RuntimeWarning: overflow encountered in exp\n",
      "  return p[\"A0\"]*np.exp(-p[\"E0\"]*t)+p[\"A1\"]*np.exp(-p[\"E1\"]*t)+p[\"A2\"]*np.exp(-p[\"E2\"]*t)\n",
      "/home/chris/Code/LQCD/a1_analysis/fitting.py:246: RuntimeWarning: overflow encountered in exp\n",
      "  return p[\"A0\"]*np.exp(-p[\"E0\"]*t)+p[\"A1\"]*np.exp(-p[\"E1\"]*t)+p[\"A2\"]*np.exp(-p[\"E2\"]*t)\n",
      "/home/chris/Code/LQCD/a1_analysis/fitting.py:246: RuntimeWarning: overflow encountered in exp\n",
      "  return p[\"A0\"]*np.exp(-p[\"E0\"]*t)+p[\"A1\"]*np.exp(-p[\"E1\"]*t)+p[\"A2\"]*np.exp(-p[\"E2\"]*t)\n",
      "/home/chris/Code/LQCD/a1_analysis/fitting.py:246: RuntimeWarning: overflow encountered in exp\n",
      "  return p[\"A0\"]*np.exp(-p[\"E0\"]*t)+p[\"A1\"]*np.exp(-p[\"E1\"]*t)+p[\"A2\"]*np.exp(-p[\"E2\"]*t)\n",
      "/home/chris/Code/LQCD/a1_analysis/stats.py:96: RuntimeWarning: invalid value encountered in sqrt\n",
      "  return gv.gvar(mean_avg, np.sqrt(var_avg))\n",
      "/home/chris/Code/LQCD/a1_analysis/stats.py:96: RuntimeWarning: invalid value encountered in sqrt\n",
      "  return gv.gvar(mean_avg, np.sqrt(var_avg))\n",
      "/home/chris/Code/LQCD/a1_analysis/fitting.py:242: RuntimeWarning: overflow encountered in exp\n",
      "  return p[\"A0\"]*np.exp(-p[\"E0\"]*t)\n",
      "/home/chris/Code/LQCD/a1_analysis/fitting.py:242: RuntimeWarning: overflow encountered in exp\n",
      "  return p[\"A0\"]*np.exp(-p[\"E0\"]*t)\n",
      "/home/chris/Code/LQCD/a1_analysis/fitting.py:246: RuntimeWarning: overflow encountered in exp\n",
      "  return p[\"A0\"]*np.exp(-p[\"E0\"]*t)+p[\"A1\"]*np.exp(-p[\"E1\"]*t)+p[\"A2\"]*np.exp(-p[\"E2\"]*t)\n"
     ]
    },
    {
     "name": "stdout",
     "output_type": "stream",
     "text": [
      "Done fitting for t0=5, td=8\n"
     ]
    },
    {
     "name": "stderr",
     "output_type": "stream",
     "text": [
      "/home/chris/anaconda3/envs/LQCD/lib/python3.10/site-packages/scipy/optimize/_lsq/common.py:115: RuntimeWarning: overflow encountered in power\n",
      "  phi_prime = -np.sum(suf ** 2 / denom**3) / p_norm\n",
      "/home/chris/Code/LQCD/a1_analysis/stats.py:96: RuntimeWarning: invalid value encountered in sqrt\n",
      "  return gv.gvar(mean_avg, np.sqrt(var_avg))\n",
      "/home/chris/Code/LQCD/a1_analysis/fitting.py:246: RuntimeWarning: overflow encountered in exp\n",
      "  return p[\"A0\"]*np.exp(-p[\"E0\"]*t)+p[\"A1\"]*np.exp(-p[\"E1\"]*t)+p[\"A2\"]*np.exp(-p[\"E2\"]*t)\n",
      "/home/chris/Code/LQCD/a1_analysis/stats.py:96: RuntimeWarning: invalid value encountered in sqrt\n",
      "  return gv.gvar(mean_avg, np.sqrt(var_avg))\n",
      "/home/chris/Code/LQCD/a1_analysis/fitting.py:246: RuntimeWarning: overflow encountered in exp\n",
      "  return p[\"A0\"]*np.exp(-p[\"E0\"]*t)+p[\"A1\"]*np.exp(-p[\"E1\"]*t)+p[\"A2\"]*np.exp(-p[\"E2\"]*t)\n",
      "/home/chris/Code/LQCD/a1_analysis/stats.py:96: RuntimeWarning: invalid value encountered in sqrt\n",
      "  return gv.gvar(mean_avg, np.sqrt(var_avg))\n",
      "/home/chris/Code/LQCD/a1_analysis/stats.py:96: RuntimeWarning: invalid value encountered in sqrt\n",
      "  return gv.gvar(mean_avg, np.sqrt(var_avg))\n",
      "/home/chris/anaconda3/envs/LQCD/lib/python3.10/site-packages/scipy/optimize/_lsq/common.py:115: RuntimeWarning: overflow encountered in power\n",
      "  phi_prime = -np.sum(suf ** 2 / denom**3) / p_norm\n",
      "/home/chris/Code/LQCD/a1_analysis/fitting.py:246: RuntimeWarning: overflow encountered in exp\n",
      "  return p[\"A0\"]*np.exp(-p[\"E0\"]*t)+p[\"A1\"]*np.exp(-p[\"E1\"]*t)+p[\"A2\"]*np.exp(-p[\"E2\"]*t)\n"
     ]
    },
    {
     "name": "stdout",
     "output_type": "stream",
     "text": [
      "Done fitting for t0=5, td=9\n"
     ]
    },
    {
     "name": "stderr",
     "output_type": "stream",
     "text": [
      "/home/chris/Code/LQCD/a1_analysis/fitting.py:242: RuntimeWarning: overflow encountered in exp\n",
      "  return p[\"A0\"]*np.exp(-p[\"E0\"]*t)\n",
      "/home/chris/Code/LQCD/a1_analysis/stats.py:96: RuntimeWarning: invalid value encountered in sqrt\n",
      "  return gv.gvar(mean_avg, np.sqrt(var_avg))\n",
      "/home/chris/Code/LQCD/a1_analysis/fitting.py:246: RuntimeWarning: overflow encountered in exp\n",
      "  return p[\"A0\"]*np.exp(-p[\"E0\"]*t)+p[\"A1\"]*np.exp(-p[\"E1\"]*t)+p[\"A2\"]*np.exp(-p[\"E2\"]*t)\n",
      "/home/chris/Code/LQCD/a1_analysis/stats.py:96: RuntimeWarning: invalid value encountered in sqrt\n",
      "  return gv.gvar(mean_avg, np.sqrt(var_avg))\n",
      "/home/chris/Code/LQCD/a1_analysis/fitting.py:246: RuntimeWarning: overflow encountered in exp\n",
      "  return p[\"A0\"]*np.exp(-p[\"E0\"]*t)+p[\"A1\"]*np.exp(-p[\"E1\"]*t)+p[\"A2\"]*np.exp(-p[\"E2\"]*t)\n",
      "/home/chris/Code/LQCD/a1_analysis/fitting.py:246: RuntimeWarning: overflow encountered in exp\n",
      "  return p[\"A0\"]*np.exp(-p[\"E0\"]*t)+p[\"A1\"]*np.exp(-p[\"E1\"]*t)+p[\"A2\"]*np.exp(-p[\"E2\"]*t)\n",
      "/home/chris/Code/LQCD/a1_analysis/fitting.py:246: RuntimeWarning: overflow encountered in multiply\n",
      "  return p[\"A0\"]*np.exp(-p[\"E0\"]*t)+p[\"A1\"]*np.exp(-p[\"E1\"]*t)+p[\"A2\"]*np.exp(-p[\"E2\"]*t)\n",
      "/home/chris/Code/LQCD/a1_analysis/stats.py:96: RuntimeWarning: invalid value encountered in sqrt\n",
      "  return gv.gvar(mean_avg, np.sqrt(var_avg))\n",
      "/home/chris/anaconda3/envs/LQCD/lib/python3.10/site-packages/scipy/optimize/_lsq/common.py:234: RuntimeWarning: overflow encountered in double_scalars\n",
      "  ratio = actual_reduction / predicted_reduction\n",
      "/home/chris/Code/LQCD/a1_analysis/stats.py:96: RuntimeWarning: invalid value encountered in sqrt\n",
      "  return gv.gvar(mean_avg, np.sqrt(var_avg))\n",
      "/home/chris/Code/LQCD/a1_analysis/fitting.py:246: RuntimeWarning: overflow encountered in exp\n",
      "  return p[\"A0\"]*np.exp(-p[\"E0\"]*t)+p[\"A1\"]*np.exp(-p[\"E1\"]*t)+p[\"A2\"]*np.exp(-p[\"E2\"]*t)\n",
      "/home/chris/Code/LQCD/a1_analysis/fitting.py:246: RuntimeWarning: overflow encountered in multiply\n",
      "  return p[\"A0\"]*np.exp(-p[\"E0\"]*t)+p[\"A1\"]*np.exp(-p[\"E1\"]*t)+p[\"A2\"]*np.exp(-p[\"E2\"]*t)\n",
      "/home/chris/anaconda3/envs/LQCD/lib/python3.10/site-packages/scipy/optimize/_lsq/common.py:234: RuntimeWarning: overflow encountered in double_scalars\n",
      "  ratio = actual_reduction / predicted_reduction\n"
     ]
    },
    {
     "name": "stdout",
     "output_type": "stream",
     "text": [
      "Done fitting for t0=5, td=10\n"
     ]
    },
    {
     "name": "stderr",
     "output_type": "stream",
     "text": [
      "/home/chris/Code/LQCD/a1_analysis/fitting.py:242: RuntimeWarning: overflow encountered in exp\n",
      "  return p[\"A0\"]*np.exp(-p[\"E0\"]*t)\n",
      "/home/chris/Code/LQCD/a1_analysis/fitting.py:242: RuntimeWarning: overflow encountered in exp\n",
      "  return p[\"A0\"]*np.exp(-p[\"E0\"]*t)\n",
      "/home/chris/Code/LQCD/a1_analysis/fitting.py:246: RuntimeWarning: overflow encountered in exp\n",
      "  return p[\"A0\"]*np.exp(-p[\"E0\"]*t)+p[\"A1\"]*np.exp(-p[\"E1\"]*t)+p[\"A2\"]*np.exp(-p[\"E2\"]*t)\n",
      "/home/chris/Code/LQCD/a1_analysis/fitting.py:246: RuntimeWarning: overflow encountered in exp\n",
      "  return p[\"A0\"]*np.exp(-p[\"E0\"]*t)+p[\"A1\"]*np.exp(-p[\"E1\"]*t)+p[\"A2\"]*np.exp(-p[\"E2\"]*t)\n",
      "/home/chris/Code/LQCD/a1_analysis/fitting.py:246: RuntimeWarning: overflow encountered in exp\n",
      "  return p[\"A0\"]*np.exp(-p[\"E0\"]*t)+p[\"A1\"]*np.exp(-p[\"E1\"]*t)+p[\"A2\"]*np.exp(-p[\"E2\"]*t)\n",
      "/home/chris/Code/LQCD/a1_analysis/fitting.py:246: RuntimeWarning: overflow encountered in exp\n",
      "  return p[\"A0\"]*np.exp(-p[\"E0\"]*t)+p[\"A1\"]*np.exp(-p[\"E1\"]*t)+p[\"A2\"]*np.exp(-p[\"E2\"]*t)\n",
      "/home/chris/Code/LQCD/a1_analysis/stats.py:96: RuntimeWarning: invalid value encountered in sqrt\n",
      "  return gv.gvar(mean_avg, np.sqrt(var_avg))\n",
      "/home/chris/Code/LQCD/a1_analysis/stats.py:96: RuntimeWarning: invalid value encountered in sqrt\n",
      "  return gv.gvar(mean_avg, np.sqrt(var_avg))\n",
      "/home/chris/Code/LQCD/a1_analysis/stats.py:96: RuntimeWarning: invalid value encountered in sqrt\n",
      "  return gv.gvar(mean_avg, np.sqrt(var_avg))\n",
      "/home/chris/Code/LQCD/a1_analysis/fitting.py:242: RuntimeWarning: overflow encountered in exp\n",
      "  return p[\"A0\"]*np.exp(-p[\"E0\"]*t)\n",
      "/home/chris/Code/LQCD/a1_analysis/fitting.py:246: RuntimeWarning: overflow encountered in exp\n",
      "  return p[\"A0\"]*np.exp(-p[\"E0\"]*t)+p[\"A1\"]*np.exp(-p[\"E1\"]*t)+p[\"A2\"]*np.exp(-p[\"E2\"]*t)\n"
     ]
    },
    {
     "name": "stdout",
     "output_type": "stream",
     "text": [
      "Done fitting for t0=6, td=7\n"
     ]
    },
    {
     "name": "stderr",
     "output_type": "stream",
     "text": [
      "/home/chris/Code/LQCD/a1_analysis/fitting.py:242: RuntimeWarning: overflow encountered in exp\n",
      "  return p[\"A0\"]*np.exp(-p[\"E0\"]*t)\n",
      "/home/chris/Code/LQCD/a1_analysis/fitting.py:242: RuntimeWarning: overflow encountered in exp\n",
      "  return p[\"A0\"]*np.exp(-p[\"E0\"]*t)\n",
      "/home/chris/anaconda3/envs/LQCD/lib/python3.10/site-packages/scipy/optimize/_lsq/common.py:115: RuntimeWarning: overflow encountered in power\n",
      "  phi_prime = -np.sum(suf ** 2 / denom**3) / p_norm\n",
      "/home/chris/Code/LQCD/a1_analysis/fitting.py:246: RuntimeWarning: overflow encountered in exp\n",
      "  return p[\"A0\"]*np.exp(-p[\"E0\"]*t)+p[\"A1\"]*np.exp(-p[\"E1\"]*t)+p[\"A2\"]*np.exp(-p[\"E2\"]*t)\n",
      "/home/chris/Code/LQCD/a1_analysis/fitting.py:246: RuntimeWarning: overflow encountered in exp\n",
      "  return p[\"A0\"]*np.exp(-p[\"E0\"]*t)+p[\"A1\"]*np.exp(-p[\"E1\"]*t)+p[\"A2\"]*np.exp(-p[\"E2\"]*t)\n",
      "/home/chris/Code/LQCD/a1_analysis/fitting.py:246: RuntimeWarning: overflow encountered in multiply\n",
      "  return p[\"A0\"]*np.exp(-p[\"E0\"]*t)+p[\"A1\"]*np.exp(-p[\"E1\"]*t)+p[\"A2\"]*np.exp(-p[\"E2\"]*t)\n",
      "/home/chris/anaconda3/envs/LQCD/lib/python3.10/site-packages/scipy/optimize/_lsq/common.py:234: RuntimeWarning: overflow encountered in double_scalars\n",
      "  ratio = actual_reduction / predicted_reduction\n",
      "/home/chris/Code/LQCD/a1_analysis/fitting.py:246: RuntimeWarning: overflow encountered in exp\n",
      "  return p[\"A0\"]*np.exp(-p[\"E0\"]*t)+p[\"A1\"]*np.exp(-p[\"E1\"]*t)+p[\"A2\"]*np.exp(-p[\"E2\"]*t)\n",
      "/home/chris/Code/LQCD/a1_analysis/stats.py:96: RuntimeWarning: invalid value encountered in sqrt\n",
      "  return gv.gvar(mean_avg, np.sqrt(var_avg))\n",
      "/home/chris/Code/LQCD/a1_analysis/stats.py:96: RuntimeWarning: invalid value encountered in sqrt\n",
      "  return gv.gvar(mean_avg, np.sqrt(var_avg))\n",
      "/home/chris/Code/LQCD/a1_analysis/fitting.py:242: RuntimeWarning: overflow encountered in exp\n",
      "  return p[\"A0\"]*np.exp(-p[\"E0\"]*t)\n",
      "/home/chris/anaconda3/envs/LQCD/lib/python3.10/site-packages/scipy/optimize/_lsq/common.py:115: RuntimeWarning: overflow encountered in power\n",
      "  phi_prime = -np.sum(suf ** 2 / denom**3) / p_norm\n",
      "/home/chris/Code/LQCD/a1_analysis/fitting.py:246: RuntimeWarning: overflow encountered in multiply\n",
      "  return p[\"A0\"]*np.exp(-p[\"E0\"]*t)+p[\"A1\"]*np.exp(-p[\"E1\"]*t)+p[\"A2\"]*np.exp(-p[\"E2\"]*t)\n",
      "/home/chris/anaconda3/envs/LQCD/lib/python3.10/site-packages/scipy/optimize/_lsq/common.py:234: RuntimeWarning: overflow encountered in double_scalars\n",
      "  ratio = actual_reduction / predicted_reduction\n",
      "/home/chris/Code/LQCD/a1_analysis/fitting.py:246: RuntimeWarning: overflow encountered in exp\n",
      "  return p[\"A0\"]*np.exp(-p[\"E0\"]*t)+p[\"A1\"]*np.exp(-p[\"E1\"]*t)+p[\"A2\"]*np.exp(-p[\"E2\"]*t)\n"
     ]
    },
    {
     "name": "stdout",
     "output_type": "stream",
     "text": [
      "Done fitting for t0=6, td=8\n"
     ]
    },
    {
     "name": "stderr",
     "output_type": "stream",
     "text": [
      "/home/chris/Code/LQCD/a1_analysis/fitting.py:246: RuntimeWarning: overflow encountered in exp\n",
      "  return p[\"A0\"]*np.exp(-p[\"E0\"]*t)+p[\"A1\"]*np.exp(-p[\"E1\"]*t)+p[\"A2\"]*np.exp(-p[\"E2\"]*t)\n",
      "/home/chris/Code/LQCD/a1_analysis/fitting.py:246: RuntimeWarning: invalid value encountered in add\n",
      "  return p[\"A0\"]*np.exp(-p[\"E0\"]*t)+p[\"A1\"]*np.exp(-p[\"E1\"]*t)+p[\"A2\"]*np.exp(-p[\"E2\"]*t)\n",
      "/home/chris/Code/LQCD/a1_analysis/fitting.py:246: RuntimeWarning: overflow encountered in multiply\n",
      "  return p[\"A0\"]*np.exp(-p[\"E0\"]*t)+p[\"A1\"]*np.exp(-p[\"E1\"]*t)+p[\"A2\"]*np.exp(-p[\"E2\"]*t)\n",
      "/home/chris/Code/LQCD/a1_analysis/stats.py:96: RuntimeWarning: invalid value encountered in sqrt\n",
      "  return gv.gvar(mean_avg, np.sqrt(var_avg))\n",
      "/home/chris/Code/LQCD/a1_analysis/stats.py:96: RuntimeWarning: invalid value encountered in sqrt\n",
      "  return gv.gvar(mean_avg, np.sqrt(var_avg))\n",
      "/home/chris/Code/LQCD/a1_analysis/fitting.py:246: RuntimeWarning: overflow encountered in exp\n",
      "  return p[\"A0\"]*np.exp(-p[\"E0\"]*t)+p[\"A1\"]*np.exp(-p[\"E1\"]*t)+p[\"A2\"]*np.exp(-p[\"E2\"]*t)\n",
      "/home/chris/anaconda3/envs/LQCD/lib/python3.10/site-packages/scipy/optimize/_lsq/common.py:234: RuntimeWarning: overflow encountered in double_scalars\n",
      "  ratio = actual_reduction / predicted_reduction\n",
      "/home/chris/Code/LQCD/a1_analysis/fitting.py:246: RuntimeWarning: overflow encountered in exp\n",
      "  return p[\"A0\"]*np.exp(-p[\"E0\"]*t)+p[\"A1\"]*np.exp(-p[\"E1\"]*t)+p[\"A2\"]*np.exp(-p[\"E2\"]*t)\n",
      "/home/chris/Code/LQCD/a1_analysis/fitting.py:246: RuntimeWarning: overflow encountered in multiply\n",
      "  return p[\"A0\"]*np.exp(-p[\"E0\"]*t)+p[\"A1\"]*np.exp(-p[\"E1\"]*t)+p[\"A2\"]*np.exp(-p[\"E2\"]*t)\n",
      "/home/chris/Code/LQCD/a1_analysis/stats.py:96: RuntimeWarning: invalid value encountered in sqrt\n",
      "  return gv.gvar(mean_avg, np.sqrt(var_avg))\n",
      "/home/chris/Code/LQCD/a1_analysis/stats.py:96: RuntimeWarning: invalid value encountered in sqrt\n",
      "  return gv.gvar(mean_avg, np.sqrt(var_avg))\n",
      "/home/chris/Code/LQCD/a1_analysis/fitting.py:246: RuntimeWarning: overflow encountered in exp\n",
      "  return p[\"A0\"]*np.exp(-p[\"E0\"]*t)+p[\"A1\"]*np.exp(-p[\"E1\"]*t)+p[\"A2\"]*np.exp(-p[\"E2\"]*t)\n",
      "/home/chris/Code/LQCD/a1_analysis/fitting.py:246: RuntimeWarning: invalid value encountered in add\n",
      "  return p[\"A0\"]*np.exp(-p[\"E0\"]*t)+p[\"A1\"]*np.exp(-p[\"E1\"]*t)+p[\"A2\"]*np.exp(-p[\"E2\"]*t)\n",
      "/home/chris/Code/LQCD/a1_analysis/fitting.py:246: RuntimeWarning: overflow encountered in multiply\n",
      "  return p[\"A0\"]*np.exp(-p[\"E0\"]*t)+p[\"A1\"]*np.exp(-p[\"E1\"]*t)+p[\"A2\"]*np.exp(-p[\"E2\"]*t)\n",
      "/home/chris/anaconda3/envs/LQCD/lib/python3.10/site-packages/scipy/optimize/_lsq/common.py:234: RuntimeWarning: overflow encountered in double_scalars\n",
      "  ratio = actual_reduction / predicted_reduction\n",
      "/home/chris/Code/LQCD/a1_analysis/fitting.py:246: RuntimeWarning: overflow encountered in multiply\n",
      "  return p[\"A0\"]*np.exp(-p[\"E0\"]*t)+p[\"A1\"]*np.exp(-p[\"E1\"]*t)+p[\"A2\"]*np.exp(-p[\"E2\"]*t)\n"
     ]
    },
    {
     "name": "stdout",
     "output_type": "stream",
     "text": [
      "Done fitting for t0=6, td=9\n"
     ]
    },
    {
     "name": "stderr",
     "output_type": "stream",
     "text": [
      "/home/chris/anaconda3/envs/LQCD/lib/python3.10/site-packages/scipy/optimize/_lsq/common.py:115: RuntimeWarning: divide by zero encountered in divide\n",
      "  phi_prime = -np.sum(suf ** 2 / denom**3) / p_norm\n",
      "/home/chris/Code/LQCD/a1_analysis/fitting.py:242: RuntimeWarning: overflow encountered in exp\n",
      "  return p[\"A0\"]*np.exp(-p[\"E0\"]*t)\n",
      "/home/chris/Code/LQCD/a1_analysis/fitting.py:246: RuntimeWarning: overflow encountered in exp\n",
      "  return p[\"A0\"]*np.exp(-p[\"E0\"]*t)+p[\"A1\"]*np.exp(-p[\"E1\"]*t)+p[\"A2\"]*np.exp(-p[\"E2\"]*t)\n",
      "/home/chris/Code/LQCD/a1_analysis/fitting.py:246: RuntimeWarning: overflow encountered in exp\n",
      "  return p[\"A0\"]*np.exp(-p[\"E0\"]*t)+p[\"A1\"]*np.exp(-p[\"E1\"]*t)+p[\"A2\"]*np.exp(-p[\"E2\"]*t)\n",
      "/home/chris/Code/LQCD/a1_analysis/stats.py:96: RuntimeWarning: invalid value encountered in sqrt\n",
      "  return gv.gvar(mean_avg, np.sqrt(var_avg))\n",
      "/home/chris/Code/LQCD/a1_analysis/stats.py:96: RuntimeWarning: invalid value encountered in sqrt\n",
      "  return gv.gvar(mean_avg, np.sqrt(var_avg))\n",
      "/home/chris/Code/LQCD/a1_analysis/stats.py:96: RuntimeWarning: invalid value encountered in sqrt\n",
      "  return gv.gvar(mean_avg, np.sqrt(var_avg))\n",
      "/home/chris/Code/LQCD/a1_analysis/fitting.py:246: RuntimeWarning: overflow encountered in exp\n",
      "  return p[\"A0\"]*np.exp(-p[\"E0\"]*t)+p[\"A1\"]*np.exp(-p[\"E1\"]*t)+p[\"A2\"]*np.exp(-p[\"E2\"]*t)\n",
      "/home/chris/Code/LQCD/a1_analysis/fitting.py:246: RuntimeWarning: overflow encountered in exp\n",
      "  return p[\"A0\"]*np.exp(-p[\"E0\"]*t)+p[\"A1\"]*np.exp(-p[\"E1\"]*t)+p[\"A2\"]*np.exp(-p[\"E2\"]*t)\n",
      "/home/chris/Code/LQCD/a1_analysis/stats.py:96: RuntimeWarning: invalid value encountered in sqrt\n",
      "  return gv.gvar(mean_avg, np.sqrt(var_avg))\n",
      "/home/chris/Code/LQCD/a1_analysis/stats.py:96: RuntimeWarning: invalid value encountered in sqrt\n",
      "  return gv.gvar(mean_avg, np.sqrt(var_avg))\n",
      "/home/chris/anaconda3/envs/LQCD/lib/python3.10/site-packages/scipy/optimize/_lsq/common.py:115: RuntimeWarning: divide by zero encountered in divide\n",
      "  phi_prime = -np.sum(suf ** 2 / denom**3) / p_norm\n",
      "/home/chris/Code/LQCD/a1_analysis/fitting.py:242: RuntimeWarning: overflow encountered in exp\n",
      "  return p[\"A0\"]*np.exp(-p[\"E0\"]*t)\n",
      "/home/chris/Code/LQCD/a1_analysis/fitting.py:246: RuntimeWarning: overflow encountered in exp\n",
      "  return p[\"A0\"]*np.exp(-p[\"E0\"]*t)+p[\"A1\"]*np.exp(-p[\"E1\"]*t)+p[\"A2\"]*np.exp(-p[\"E2\"]*t)\n"
     ]
    },
    {
     "name": "stdout",
     "output_type": "stream",
     "text": [
      "Done fitting for t0=6, td=10\n"
     ]
    },
    {
     "name": "stderr",
     "output_type": "stream",
     "text": [
      "/home/chris/Code/LQCD/a1_analysis/fitting.py:242: RuntimeWarning: overflow encountered in exp\n",
      "  return p[\"A0\"]*np.exp(-p[\"E0\"]*t)\n",
      "/home/chris/Code/LQCD/a1_analysis/fitting.py:246: RuntimeWarning: overflow encountered in exp\n",
      "  return p[\"A0\"]*np.exp(-p[\"E0\"]*t)+p[\"A1\"]*np.exp(-p[\"E1\"]*t)+p[\"A2\"]*np.exp(-p[\"E2\"]*t)\n",
      "/home/chris/Code/LQCD/a1_analysis/fitting.py:246: RuntimeWarning: invalid value encountered in add\n",
      "  return p[\"A0\"]*np.exp(-p[\"E0\"]*t)+p[\"A1\"]*np.exp(-p[\"E1\"]*t)+p[\"A2\"]*np.exp(-p[\"E2\"]*t)\n",
      "/home/chris/Code/LQCD/a1_analysis/fitting.py:246: RuntimeWarning: overflow encountered in exp\n",
      "  return p[\"A0\"]*np.exp(-p[\"E0\"]*t)+p[\"A1\"]*np.exp(-p[\"E1\"]*t)+p[\"A2\"]*np.exp(-p[\"E2\"]*t)\n",
      "/home/chris/Code/LQCD/a1_analysis/stats.py:96: RuntimeWarning: invalid value encountered in sqrt\n",
      "  return gv.gvar(mean_avg, np.sqrt(var_avg))\n",
      "/home/chris/Code/LQCD/a1_analysis/stats.py:96: RuntimeWarning: invalid value encountered in sqrt\n",
      "  return gv.gvar(mean_avg, np.sqrt(var_avg))\n",
      "/home/chris/Code/LQCD/a1_analysis/fitting.py:246: RuntimeWarning: overflow encountered in exp\n",
      "  return p[\"A0\"]*np.exp(-p[\"E0\"]*t)+p[\"A1\"]*np.exp(-p[\"E1\"]*t)+p[\"A2\"]*np.exp(-p[\"E2\"]*t)\n",
      "/home/chris/Code/LQCD/a1_analysis/stats.py:96: RuntimeWarning: invalid value encountered in sqrt\n",
      "  return gv.gvar(mean_avg, np.sqrt(var_avg))\n",
      "/home/chris/Code/LQCD/a1_analysis/fitting.py:246: RuntimeWarning: overflow encountered in exp\n",
      "  return p[\"A0\"]*np.exp(-p[\"E0\"]*t)+p[\"A1\"]*np.exp(-p[\"E1\"]*t)+p[\"A2\"]*np.exp(-p[\"E2\"]*t)\n",
      "/home/chris/Code/LQCD/a1_analysis/fitting.py:246: RuntimeWarning: invalid value encountered in add\n",
      "  return p[\"A0\"]*np.exp(-p[\"E0\"]*t)+p[\"A1\"]*np.exp(-p[\"E1\"]*t)+p[\"A2\"]*np.exp(-p[\"E2\"]*t)\n"
     ]
    },
    {
     "name": "stdout",
     "output_type": "stream",
     "text": [
      "Done fitting for t0=6, td=11\n"
     ]
    },
    {
     "name": "stderr",
     "output_type": "stream",
     "text": [
      "/home/chris/Code/LQCD/a1_analysis/fitting.py:242: RuntimeWarning: overflow encountered in exp\n",
      "  return p[\"A0\"]*np.exp(-p[\"E0\"]*t)\n",
      "/home/chris/Code/LQCD/a1_analysis/fitting.py:242: RuntimeWarning: overflow encountered in exp\n",
      "  return p[\"A0\"]*np.exp(-p[\"E0\"]*t)\n",
      "/home/chris/Code/LQCD/a1_analysis/fitting.py:246: RuntimeWarning: overflow encountered in exp\n",
      "  return p[\"A0\"]*np.exp(-p[\"E0\"]*t)+p[\"A1\"]*np.exp(-p[\"E1\"]*t)+p[\"A2\"]*np.exp(-p[\"E2\"]*t)\n",
      "/home/chris/anaconda3/envs/LQCD/lib/python3.10/site-packages/scipy/optimize/_lsq/common.py:234: RuntimeWarning: overflow encountered in double_scalars\n",
      "  ratio = actual_reduction / predicted_reduction\n",
      "/home/chris/Code/LQCD/a1_analysis/stats.py:96: RuntimeWarning: invalid value encountered in sqrt\n",
      "  return gv.gvar(mean_avg, np.sqrt(var_avg))\n",
      "/home/chris/Code/LQCD/a1_analysis/stats.py:96: RuntimeWarning: invalid value encountered in sqrt\n",
      "  return gv.gvar(mean_avg, np.sqrt(var_avg))\n",
      "/home/chris/Code/LQCD/a1_analysis/stats.py:96: RuntimeWarning: invalid value encountered in sqrt\n",
      "  return gv.gvar(mean_avg, np.sqrt(var_avg))\n",
      "/home/chris/Code/LQCD/a1_analysis/fitting.py:246: RuntimeWarning: overflow encountered in exp\n",
      "  return p[\"A0\"]*np.exp(-p[\"E0\"]*t)+p[\"A1\"]*np.exp(-p[\"E1\"]*t)+p[\"A2\"]*np.exp(-p[\"E2\"]*t)\n",
      "/home/chris/Code/LQCD/a1_analysis/fitting.py:246: RuntimeWarning: overflow encountered in multiply\n",
      "  return p[\"A0\"]*np.exp(-p[\"E0\"]*t)+p[\"A1\"]*np.exp(-p[\"E1\"]*t)+p[\"A2\"]*np.exp(-p[\"E2\"]*t)\n",
      "/home/chris/Code/LQCD/a1_analysis/fitting.py:246: RuntimeWarning: overflow encountered in exp\n",
      "  return p[\"A0\"]*np.exp(-p[\"E0\"]*t)+p[\"A1\"]*np.exp(-p[\"E1\"]*t)+p[\"A2\"]*np.exp(-p[\"E2\"]*t)\n",
      "/home/chris/Code/LQCD/a1_analysis/fitting.py:246: RuntimeWarning: overflow encountered in multiply\n",
      "  return p[\"A0\"]*np.exp(-p[\"E0\"]*t)+p[\"A1\"]*np.exp(-p[\"E1\"]*t)+p[\"A2\"]*np.exp(-p[\"E2\"]*t)\n",
      "/home/chris/Code/LQCD/a1_analysis/stats.py:96: RuntimeWarning: invalid value encountered in sqrt\n",
      "  return gv.gvar(mean_avg, np.sqrt(var_avg))\n",
      "/home/chris/Code/LQCD/a1_analysis/fitting.py:242: RuntimeWarning: overflow encountered in exp\n",
      "  return p[\"A0\"]*np.exp(-p[\"E0\"]*t)\n",
      "/home/chris/Code/LQCD/a1_analysis/fitting.py:242: RuntimeWarning: overflow encountered in exp\n",
      "  return p[\"A0\"]*np.exp(-p[\"E0\"]*t)\n",
      "/home/chris/Code/LQCD/a1_analysis/fitting.py:246: RuntimeWarning: overflow encountered in exp\n",
      "  return p[\"A0\"]*np.exp(-p[\"E0\"]*t)+p[\"A1\"]*np.exp(-p[\"E1\"]*t)+p[\"A2\"]*np.exp(-p[\"E2\"]*t)\n",
      "/home/chris/Code/LQCD/a1_analysis/fitting.py:246: RuntimeWarning: overflow encountered in multiply\n",
      "  return p[\"A0\"]*np.exp(-p[\"E0\"]*t)+p[\"A1\"]*np.exp(-p[\"E1\"]*t)+p[\"A2\"]*np.exp(-p[\"E2\"]*t)\n"
     ]
    },
    {
     "name": "stdout",
     "output_type": "stream",
     "text": [
      "Done fitting for t0=6, td=12\n"
     ]
    },
    {
     "name": "stderr",
     "output_type": "stream",
     "text": [
      "/home/chris/Code/LQCD/a1_analysis/fitting.py:246: RuntimeWarning: overflow encountered in exp\n",
      "  return p[\"A0\"]*np.exp(-p[\"E0\"]*t)+p[\"A1\"]*np.exp(-p[\"E1\"]*t)+p[\"A2\"]*np.exp(-p[\"E2\"]*t)\n",
      "/home/chris/Code/LQCD/a1_analysis/fitting.py:246: RuntimeWarning: overflow encountered in exp\n",
      "  return p[\"A0\"]*np.exp(-p[\"E0\"]*t)+p[\"A1\"]*np.exp(-p[\"E1\"]*t)+p[\"A2\"]*np.exp(-p[\"E2\"]*t)\n",
      "/home/chris/Code/LQCD/a1_analysis/stats.py:96: RuntimeWarning: invalid value encountered in sqrt\n",
      "  return gv.gvar(mean_avg, np.sqrt(var_avg))\n",
      "/home/chris/Code/LQCD/a1_analysis/fitting.py:246: RuntimeWarning: overflow encountered in exp\n",
      "  return p[\"A0\"]*np.exp(-p[\"E0\"]*t)+p[\"A1\"]*np.exp(-p[\"E1\"]*t)+p[\"A2\"]*np.exp(-p[\"E2\"]*t)\n",
      "/home/chris/Code/LQCD/a1_analysis/fitting.py:246: RuntimeWarning: overflow encountered in exp\n",
      "  return p[\"A0\"]*np.exp(-p[\"E0\"]*t)+p[\"A1\"]*np.exp(-p[\"E1\"]*t)+p[\"A2\"]*np.exp(-p[\"E2\"]*t)\n",
      "/home/chris/Code/LQCD/a1_analysis/fitting.py:246: RuntimeWarning: overflow encountered in exp\n",
      "  return p[\"A0\"]*np.exp(-p[\"E0\"]*t)+p[\"A1\"]*np.exp(-p[\"E1\"]*t)+p[\"A2\"]*np.exp(-p[\"E2\"]*t)\n",
      "/home/chris/Code/LQCD/a1_analysis/fitting.py:246: RuntimeWarning: invalid value encountered in add\n",
      "  return p[\"A0\"]*np.exp(-p[\"E0\"]*t)+p[\"A1\"]*np.exp(-p[\"E1\"]*t)+p[\"A2\"]*np.exp(-p[\"E2\"]*t)\n",
      "/home/chris/Code/LQCD/a1_analysis/fitting.py:246: RuntimeWarning: overflow encountered in multiply\n",
      "  return p[\"A0\"]*np.exp(-p[\"E0\"]*t)+p[\"A1\"]*np.exp(-p[\"E1\"]*t)+p[\"A2\"]*np.exp(-p[\"E2\"]*t)\n",
      "/home/chris/Code/LQCD/a1_analysis/stats.py:96: RuntimeWarning: invalid value encountered in sqrt\n",
      "  return gv.gvar(mean_avg, np.sqrt(var_avg))\n",
      "/home/chris/Code/LQCD/a1_analysis/stats.py:96: RuntimeWarning: invalid value encountered in sqrt\n",
      "  return gv.gvar(mean_avg, np.sqrt(var_avg))\n",
      "/home/chris/Code/LQCD/a1_analysis/fitting.py:246: RuntimeWarning: overflow encountered in exp\n",
      "  return p[\"A0\"]*np.exp(-p[\"E0\"]*t)+p[\"A1\"]*np.exp(-p[\"E1\"]*t)+p[\"A2\"]*np.exp(-p[\"E2\"]*t)\n",
      "/home/chris/Code/LQCD/a1_analysis/fitting.py:246: RuntimeWarning: invalid value encountered in add\n",
      "  return p[\"A0\"]*np.exp(-p[\"E0\"]*t)+p[\"A1\"]*np.exp(-p[\"E1\"]*t)+p[\"A2\"]*np.exp(-p[\"E2\"]*t)\n",
      "/home/chris/Code/LQCD/a1_analysis/fitting.py:246: RuntimeWarning: overflow encountered in multiply\n",
      "  return p[\"A0\"]*np.exp(-p[\"E0\"]*t)+p[\"A1\"]*np.exp(-p[\"E1\"]*t)+p[\"A2\"]*np.exp(-p[\"E2\"]*t)\n"
     ]
    },
    {
     "name": "stdout",
     "output_type": "stream",
     "text": [
      "Done fitting for t0=7, td=8\n"
     ]
    },
    {
     "name": "stderr",
     "output_type": "stream",
     "text": [
      "/home/chris/Code/LQCD/a1_analysis/fitting.py:246: RuntimeWarning: overflow encountered in exp\n",
      "  return p[\"A0\"]*np.exp(-p[\"E0\"]*t)+p[\"A1\"]*np.exp(-p[\"E1\"]*t)+p[\"A2\"]*np.exp(-p[\"E2\"]*t)\n",
      "/home/chris/Code/LQCD/a1_analysis/fitting.py:242: RuntimeWarning: overflow encountered in exp\n",
      "  return p[\"A0\"]*np.exp(-p[\"E0\"]*t)\n",
      "/home/chris/Code/LQCD/a1_analysis/fitting.py:242: RuntimeWarning: overflow encountered in exp\n",
      "  return p[\"A0\"]*np.exp(-p[\"E0\"]*t)\n",
      "/home/chris/Code/LQCD/a1_analysis/fitting.py:246: RuntimeWarning: overflow encountered in exp\n",
      "  return p[\"A0\"]*np.exp(-p[\"E0\"]*t)+p[\"A1\"]*np.exp(-p[\"E1\"]*t)+p[\"A2\"]*np.exp(-p[\"E2\"]*t)\n",
      "/home/chris/anaconda3/envs/LQCD/lib/python3.10/site-packages/scipy/optimize/_lsq/common.py:234: RuntimeWarning: overflow encountered in double_scalars\n",
      "  ratio = actual_reduction / predicted_reduction\n",
      "/home/chris/Code/LQCD/a1_analysis/fitting.py:246: RuntimeWarning: overflow encountered in exp\n",
      "  return p[\"A0\"]*np.exp(-p[\"E0\"]*t)+p[\"A1\"]*np.exp(-p[\"E1\"]*t)+p[\"A2\"]*np.exp(-p[\"E2\"]*t)\n",
      "/home/chris/Code/LQCD/a1_analysis/stats.py:96: RuntimeWarning: invalid value encountered in sqrt\n",
      "  return gv.gvar(mean_avg, np.sqrt(var_avg))\n",
      "/home/chris/Code/LQCD/a1_analysis/fitting.py:246: RuntimeWarning: overflow encountered in exp\n",
      "  return p[\"A0\"]*np.exp(-p[\"E0\"]*t)+p[\"A1\"]*np.exp(-p[\"E1\"]*t)+p[\"A2\"]*np.exp(-p[\"E2\"]*t)\n",
      "/home/chris/Code/LQCD/a1_analysis/stats.py:96: RuntimeWarning: invalid value encountered in sqrt\n",
      "  return gv.gvar(mean_avg, np.sqrt(var_avg))\n",
      "/home/chris/Code/LQCD/a1_analysis/fitting.py:242: RuntimeWarning: overflow encountered in exp\n",
      "  return p[\"A0\"]*np.exp(-p[\"E0\"]*t)\n",
      "/home/chris/Code/LQCD/a1_analysis/fitting.py:246: RuntimeWarning: overflow encountered in exp\n",
      "  return p[\"A0\"]*np.exp(-p[\"E0\"]*t)+p[\"A1\"]*np.exp(-p[\"E1\"]*t)+p[\"A2\"]*np.exp(-p[\"E2\"]*t)\n",
      "/home/chris/anaconda3/envs/LQCD/lib/python3.10/site-packages/scipy/optimize/_lsq/common.py:234: RuntimeWarning: overflow encountered in double_scalars\n",
      "  ratio = actual_reduction / predicted_reduction\n"
     ]
    },
    {
     "name": "stdout",
     "output_type": "stream",
     "text": [
      "Done fitting for t0=7, td=9\n"
     ]
    },
    {
     "name": "stderr",
     "output_type": "stream",
     "text": [
      "/home/chris/Code/LQCD/a1_analysis/fitting.py:242: RuntimeWarning: overflow encountered in exp\n",
      "  return p[\"A0\"]*np.exp(-p[\"E0\"]*t)\n",
      "/home/chris/anaconda3/envs/LQCD/lib/python3.10/site-packages/scipy/optimize/_lsq/common.py:115: RuntimeWarning: overflow encountered in power\n",
      "  phi_prime = -np.sum(suf ** 2 / denom**3) / p_norm\n",
      "/home/chris/Code/LQCD/a1_analysis/fitting.py:246: RuntimeWarning: overflow encountered in exp\n",
      "  return p[\"A0\"]*np.exp(-p[\"E0\"]*t)+p[\"A1\"]*np.exp(-p[\"E1\"]*t)+p[\"A2\"]*np.exp(-p[\"E2\"]*t)\n",
      "/home/chris/Code/LQCD/a1_analysis/fitting.py:246: RuntimeWarning: overflow encountered in exp\n",
      "  return p[\"A0\"]*np.exp(-p[\"E0\"]*t)+p[\"A1\"]*np.exp(-p[\"E1\"]*t)+p[\"A2\"]*np.exp(-p[\"E2\"]*t)\n",
      "/home/chris/Code/LQCD/a1_analysis/fitting.py:246: RuntimeWarning: overflow encountered in exp\n",
      "  return p[\"A0\"]*np.exp(-p[\"E0\"]*t)+p[\"A1\"]*np.exp(-p[\"E1\"]*t)+p[\"A2\"]*np.exp(-p[\"E2\"]*t)\n",
      "/home/chris/Code/LQCD/a1_analysis/stats.py:96: RuntimeWarning: invalid value encountered in sqrt\n",
      "  return gv.gvar(mean_avg, np.sqrt(var_avg))\n",
      "/home/chris/Code/LQCD/a1_analysis/fitting.py:246: RuntimeWarning: overflow encountered in exp\n",
      "  return p[\"A0\"]*np.exp(-p[\"E0\"]*t)+p[\"A1\"]*np.exp(-p[\"E1\"]*t)+p[\"A2\"]*np.exp(-p[\"E2\"]*t)\n",
      "/home/chris/Code/LQCD/a1_analysis/stats.py:96: RuntimeWarning: invalid value encountered in sqrt\n",
      "  return gv.gvar(mean_avg, np.sqrt(var_avg))\n",
      "/home/chris/Code/LQCD/a1_analysis/fitting.py:246: RuntimeWarning: overflow encountered in exp\n",
      "  return p[\"A0\"]*np.exp(-p[\"E0\"]*t)+p[\"A1\"]*np.exp(-p[\"E1\"]*t)+p[\"A2\"]*np.exp(-p[\"E2\"]*t)\n",
      "/home/chris/Code/LQCD/a1_analysis/stats.py:96: RuntimeWarning: invalid value encountered in sqrt\n",
      "  return gv.gvar(mean_avg, np.sqrt(var_avg))\n",
      "/home/chris/Code/LQCD/a1_analysis/stats.py:96: RuntimeWarning: invalid value encountered in sqrt\n",
      "  return gv.gvar(mean_avg, np.sqrt(var_avg))\n",
      "/home/chris/Code/LQCD/a1_analysis/fitting.py:246: RuntimeWarning: overflow encountered in exp\n",
      "  return p[\"A0\"]*np.exp(-p[\"E0\"]*t)+p[\"A1\"]*np.exp(-p[\"E1\"]*t)+p[\"A2\"]*np.exp(-p[\"E2\"]*t)\n"
     ]
    },
    {
     "name": "stdout",
     "output_type": "stream",
     "text": [
      "Done fitting for t0=7, td=10\n"
     ]
    },
    {
     "name": "stderr",
     "output_type": "stream",
     "text": [
      "/home/chris/anaconda3/envs/LQCD/lib/python3.10/site-packages/scipy/optimize/_lsq/common.py:115: RuntimeWarning: overflow encountered in power\n",
      "  phi_prime = -np.sum(suf ** 2 / denom**3) / p_norm\n",
      "/home/chris/Code/LQCD/a1_analysis/fitting.py:246: RuntimeWarning: overflow encountered in exp\n",
      "  return p[\"A0\"]*np.exp(-p[\"E0\"]*t)+p[\"A1\"]*np.exp(-p[\"E1\"]*t)+p[\"A2\"]*np.exp(-p[\"E2\"]*t)\n",
      "/home/chris/anaconda3/envs/LQCD/lib/python3.10/site-packages/scipy/optimize/_lsq/common.py:234: RuntimeWarning: overflow encountered in double_scalars\n",
      "  ratio = actual_reduction / predicted_reduction\n",
      "/home/chris/Code/LQCD/a1_analysis/fitting.py:246: RuntimeWarning: overflow encountered in exp\n",
      "  return p[\"A0\"]*np.exp(-p[\"E0\"]*t)+p[\"A1\"]*np.exp(-p[\"E1\"]*t)+p[\"A2\"]*np.exp(-p[\"E2\"]*t)\n",
      "/home/chris/Code/LQCD/a1_analysis/stats.py:96: RuntimeWarning: invalid value encountered in sqrt\n",
      "  return gv.gvar(mean_avg, np.sqrt(var_avg))\n",
      "/home/chris/Code/LQCD/a1_analysis/fitting.py:242: RuntimeWarning: overflow encountered in exp\n",
      "  return p[\"A0\"]*np.exp(-p[\"E0\"]*t)\n",
      "/home/chris/Code/LQCD/a1_analysis/fitting.py:246: RuntimeWarning: overflow encountered in exp\n",
      "  return p[\"A0\"]*np.exp(-p[\"E0\"]*t)+p[\"A1\"]*np.exp(-p[\"E1\"]*t)+p[\"A2\"]*np.exp(-p[\"E2\"]*t)\n",
      "/home/chris/anaconda3/envs/LQCD/lib/python3.10/site-packages/scipy/optimize/_lsq/common.py:234: RuntimeWarning: overflow encountered in double_scalars\n",
      "  ratio = actual_reduction / predicted_reduction\n",
      "/home/chris/Code/LQCD/a1_analysis/stats.py:96: RuntimeWarning: invalid value encountered in sqrt\n",
      "  return gv.gvar(mean_avg, np.sqrt(var_avg))\n",
      "/home/chris/Code/LQCD/a1_analysis/fitting.py:246: RuntimeWarning: overflow encountered in exp\n",
      "  return p[\"A0\"]*np.exp(-p[\"E0\"]*t)+p[\"A1\"]*np.exp(-p[\"E1\"]*t)+p[\"A2\"]*np.exp(-p[\"E2\"]*t)\n",
      "/home/chris/Code/LQCD/a1_analysis/stats.py:96: RuntimeWarning: invalid value encountered in sqrt\n",
      "  return gv.gvar(mean_avg, np.sqrt(var_avg))\n",
      "/home/chris/Code/LQCD/a1_analysis/fitting.py:246: RuntimeWarning: overflow encountered in exp\n",
      "  return p[\"A0\"]*np.exp(-p[\"E0\"]*t)+p[\"A1\"]*np.exp(-p[\"E1\"]*t)+p[\"A2\"]*np.exp(-p[\"E2\"]*t)\n",
      "/home/chris/Code/LQCD/a1_analysis/fitting.py:246: RuntimeWarning: overflow encountered in multiply\n",
      "  return p[\"A0\"]*np.exp(-p[\"E0\"]*t)+p[\"A1\"]*np.exp(-p[\"E1\"]*t)+p[\"A2\"]*np.exp(-p[\"E2\"]*t)\n",
      "/home/chris/Code/LQCD/a1_analysis/stats.py:96: RuntimeWarning: invalid value encountered in sqrt\n",
      "  return gv.gvar(mean_avg, np.sqrt(var_avg))\n",
      "/home/chris/Code/LQCD/a1_analysis/stats.py:96: RuntimeWarning: invalid value encountered in sqrt\n",
      "  return gv.gvar(mean_avg, np.sqrt(var_avg))\n",
      "/home/chris/anaconda3/envs/LQCD/lib/python3.10/site-packages/scipy/optimize/_lsq/common.py:115: RuntimeWarning: overflow encountered in power\n",
      "  phi_prime = -np.sum(suf ** 2 / denom**3) / p_norm\n",
      "/home/chris/Code/LQCD/a1_analysis/fitting.py:246: RuntimeWarning: overflow encountered in exp\n",
      "  return p[\"A0\"]*np.exp(-p[\"E0\"]*t)+p[\"A1\"]*np.exp(-p[\"E1\"]*t)+p[\"A2\"]*np.exp(-p[\"E2\"]*t)\n",
      "/home/chris/anaconda3/envs/LQCD/lib/python3.10/site-packages/scipy/optimize/_lsq/common.py:234: RuntimeWarning: overflow encountered in double_scalars\n",
      "  ratio = actual_reduction / predicted_reduction\n",
      "/home/chris/Code/LQCD/a1_analysis/fitting.py:242: RuntimeWarning: overflow encountered in exp\n",
      "  return p[\"A0\"]*np.exp(-p[\"E0\"]*t)\n",
      "/home/chris/Code/LQCD/a1_analysis/fitting.py:246: RuntimeWarning: overflow encountered in multiply\n",
      "  return p[\"A0\"]*np.exp(-p[\"E0\"]*t)+p[\"A1\"]*np.exp(-p[\"E1\"]*t)+p[\"A2\"]*np.exp(-p[\"E2\"]*t)\n"
     ]
    },
    {
     "name": "stdout",
     "output_type": "stream",
     "text": [
      "Done fitting for t0=7, td=11\n"
     ]
    },
    {
     "name": "stderr",
     "output_type": "stream",
     "text": [
      "/home/chris/Code/LQCD/a1_analysis/fitting.py:246: RuntimeWarning: overflow encountered in exp\n",
      "  return p[\"A0\"]*np.exp(-p[\"E0\"]*t)+p[\"A1\"]*np.exp(-p[\"E1\"]*t)+p[\"A2\"]*np.exp(-p[\"E2\"]*t)\n",
      "/home/chris/Code/LQCD/a1_analysis/fitting.py:242: RuntimeWarning: overflow encountered in exp\n",
      "  return p[\"A0\"]*np.exp(-p[\"E0\"]*t)\n",
      "/home/chris/Code/LQCD/a1_analysis/fitting.py:242: RuntimeWarning: overflow encountered in exp\n",
      "  return p[\"A0\"]*np.exp(-p[\"E0\"]*t)\n",
      "/home/chris/Code/LQCD/a1_analysis/fitting.py:246: RuntimeWarning: overflow encountered in exp\n",
      "  return p[\"A0\"]*np.exp(-p[\"E0\"]*t)+p[\"A1\"]*np.exp(-p[\"E1\"]*t)+p[\"A2\"]*np.exp(-p[\"E2\"]*t)\n",
      "/home/chris/Code/LQCD/a1_analysis/stats.py:96: RuntimeWarning: invalid value encountered in sqrt\n",
      "  return gv.gvar(mean_avg, np.sqrt(var_avg))\n",
      "/home/chris/Code/LQCD/a1_analysis/fitting.py:246: RuntimeWarning: overflow encountered in exp\n",
      "  return p[\"A0\"]*np.exp(-p[\"E0\"]*t)+p[\"A1\"]*np.exp(-p[\"E1\"]*t)+p[\"A2\"]*np.exp(-p[\"E2\"]*t)\n",
      "/home/chris/Code/LQCD/a1_analysis/stats.py:96: RuntimeWarning: invalid value encountered in sqrt\n",
      "  return gv.gvar(mean_avg, np.sqrt(var_avg))\n",
      "/home/chris/Code/LQCD/a1_analysis/fitting.py:246: RuntimeWarning: overflow encountered in exp\n",
      "  return p[\"A0\"]*np.exp(-p[\"E0\"]*t)+p[\"A1\"]*np.exp(-p[\"E1\"]*t)+p[\"A2\"]*np.exp(-p[\"E2\"]*t)\n",
      "/home/chris/Code/LQCD/a1_analysis/stats.py:96: RuntimeWarning: invalid value encountered in sqrt\n",
      "  return gv.gvar(mean_avg, np.sqrt(var_avg))\n",
      "/home/chris/Code/LQCD/a1_analysis/stats.py:96: RuntimeWarning: invalid value encountered in sqrt\n",
      "  return gv.gvar(mean_avg, np.sqrt(var_avg))\n",
      "/home/chris/Code/LQCD/a1_analysis/fitting.py:242: RuntimeWarning: overflow encountered in exp\n",
      "  return p[\"A0\"]*np.exp(-p[\"E0\"]*t)\n",
      "/home/chris/Code/LQCD/a1_analysis/fitting.py:246: RuntimeWarning: overflow encountered in exp\n",
      "  return p[\"A0\"]*np.exp(-p[\"E0\"]*t)+p[\"A1\"]*np.exp(-p[\"E1\"]*t)+p[\"A2\"]*np.exp(-p[\"E2\"]*t)\n"
     ]
    },
    {
     "name": "stdout",
     "output_type": "stream",
     "text": [
      "Done fitting for t0=7, td=12\n"
     ]
    },
    {
     "name": "stderr",
     "output_type": "stream",
     "text": [
      "/home/chris/anaconda3/envs/LQCD/lib/python3.10/site-packages/scipy/optimize/_lsq/common.py:115: RuntimeWarning: divide by zero encountered in divide\n",
      "  phi_prime = -np.sum(suf ** 2 / denom**3) / p_norm\n",
      "/home/chris/Code/LQCD/a1_analysis/fitting.py:242: RuntimeWarning: overflow encountered in exp\n",
      "  return p[\"A0\"]*np.exp(-p[\"E0\"]*t)\n",
      "/home/chris/anaconda3/envs/LQCD/lib/python3.10/site-packages/scipy/optimize/_lsq/common.py:234: RuntimeWarning: overflow encountered in double_scalars\n",
      "  ratio = actual_reduction / predicted_reduction\n",
      "/home/chris/Code/LQCD/a1_analysis/fitting.py:246: RuntimeWarning: overflow encountered in exp\n",
      "  return p[\"A0\"]*np.exp(-p[\"E0\"]*t)+p[\"A1\"]*np.exp(-p[\"E1\"]*t)+p[\"A2\"]*np.exp(-p[\"E2\"]*t)\n",
      "/home/chris/Code/LQCD/a1_analysis/fitting.py:246: RuntimeWarning: overflow encountered in multiply\n",
      "  return p[\"A0\"]*np.exp(-p[\"E0\"]*t)+p[\"A1\"]*np.exp(-p[\"E1\"]*t)+p[\"A2\"]*np.exp(-p[\"E2\"]*t)\n",
      "/home/chris/Code/LQCD/a1_analysis/stats.py:96: RuntimeWarning: invalid value encountered in sqrt\n",
      "  return gv.gvar(mean_avg, np.sqrt(var_avg))\n",
      "/home/chris/Code/LQCD/a1_analysis/fitting.py:246: RuntimeWarning: overflow encountered in exp\n",
      "  return p[\"A0\"]*np.exp(-p[\"E0\"]*t)+p[\"A1\"]*np.exp(-p[\"E1\"]*t)+p[\"A2\"]*np.exp(-p[\"E2\"]*t)\n",
      "/home/chris/Code/LQCD/a1_analysis/stats.py:96: RuntimeWarning: invalid value encountered in sqrt\n",
      "  return gv.gvar(mean_avg, np.sqrt(var_avg))\n",
      "/home/chris/Code/LQCD/a1_analysis/fitting.py:246: RuntimeWarning: overflow encountered in exp\n",
      "  return p[\"A0\"]*np.exp(-p[\"E0\"]*t)+p[\"A1\"]*np.exp(-p[\"E1\"]*t)+p[\"A2\"]*np.exp(-p[\"E2\"]*t)\n",
      "/home/chris/Code/LQCD/a1_analysis/stats.py:96: RuntimeWarning: invalid value encountered in sqrt\n",
      "  return gv.gvar(mean_avg, np.sqrt(var_avg))\n",
      "/home/chris/Code/LQCD/a1_analysis/fitting.py:246: RuntimeWarning: overflow encountered in exp\n",
      "  return p[\"A0\"]*np.exp(-p[\"E0\"]*t)+p[\"A1\"]*np.exp(-p[\"E1\"]*t)+p[\"A2\"]*np.exp(-p[\"E2\"]*t)\n",
      "/home/chris/Code/LQCD/a1_analysis/fitting.py:246: RuntimeWarning: overflow encountered in exp\n",
      "  return p[\"A0\"]*np.exp(-p[\"E0\"]*t)+p[\"A1\"]*np.exp(-p[\"E1\"]*t)+p[\"A2\"]*np.exp(-p[\"E2\"]*t)\n",
      "/home/chris/Code/LQCD/a1_analysis/stats.py:96: RuntimeWarning: invalid value encountered in sqrt\n",
      "  return gv.gvar(mean_avg, np.sqrt(var_avg))\n",
      "/home/chris/Code/LQCD/a1_analysis/stats.py:96: RuntimeWarning: invalid value encountered in sqrt\n",
      "  return gv.gvar(mean_avg, np.sqrt(var_avg))\n",
      "/home/chris/anaconda3/envs/LQCD/lib/python3.10/site-packages/scipy/optimize/_lsq/common.py:115: RuntimeWarning: divide by zero encountered in divide\n",
      "  phi_prime = -np.sum(suf ** 2 / denom**3) / p_norm\n",
      "/home/chris/Code/LQCD/a1_analysis/fitting.py:242: RuntimeWarning: overflow encountered in exp\n",
      "  return p[\"A0\"]*np.exp(-p[\"E0\"]*t)\n",
      "/home/chris/anaconda3/envs/LQCD/lib/python3.10/site-packages/scipy/optimize/_lsq/common.py:234: RuntimeWarning: overflow encountered in double_scalars\n",
      "  ratio = actual_reduction / predicted_reduction\n",
      "/home/chris/Code/LQCD/a1_analysis/fitting.py:246: RuntimeWarning: overflow encountered in exp\n",
      "  return p[\"A0\"]*np.exp(-p[\"E0\"]*t)+p[\"A1\"]*np.exp(-p[\"E1\"]*t)+p[\"A2\"]*np.exp(-p[\"E2\"]*t)\n",
      "/home/chris/Code/LQCD/a1_analysis/fitting.py:246: RuntimeWarning: overflow encountered in multiply\n",
      "  return p[\"A0\"]*np.exp(-p[\"E0\"]*t)+p[\"A1\"]*np.exp(-p[\"E1\"]*t)+p[\"A2\"]*np.exp(-p[\"E2\"]*t)\n"
     ]
    },
    {
     "name": "stdout",
     "output_type": "stream",
     "text": [
      "Done fitting for t0=7, td=13\n"
     ]
    },
    {
     "name": "stderr",
     "output_type": "stream",
     "text": [
      "/home/chris/anaconda3/envs/LQCD/lib/python3.10/site-packages/scipy/optimize/_lsq/common.py:115: RuntimeWarning: overflow encountered in power\n",
      "  phi_prime = -np.sum(suf ** 2 / denom**3) / p_norm\n",
      "/home/chris/Code/LQCD/a1_analysis/fitting.py:242: RuntimeWarning: overflow encountered in exp\n",
      "  return p[\"A0\"]*np.exp(-p[\"E0\"]*t)\n",
      "/home/chris/Code/LQCD/a1_analysis/fitting.py:246: RuntimeWarning: overflow encountered in exp\n",
      "  return p[\"A0\"]*np.exp(-p[\"E0\"]*t)+p[\"A1\"]*np.exp(-p[\"E1\"]*t)+p[\"A2\"]*np.exp(-p[\"E2\"]*t)\n",
      "/home/chris/Code/LQCD/a1_analysis/fitting.py:246: RuntimeWarning: overflow encountered in exp\n",
      "  return p[\"A0\"]*np.exp(-p[\"E0\"]*t)+p[\"A1\"]*np.exp(-p[\"E1\"]*t)+p[\"A2\"]*np.exp(-p[\"E2\"]*t)\n",
      "/home/chris/Code/LQCD/a1_analysis/stats.py:96: RuntimeWarning: invalid value encountered in sqrt\n",
      "  return gv.gvar(mean_avg, np.sqrt(var_avg))\n",
      "/home/chris/Code/LQCD/a1_analysis/stats.py:96: RuntimeWarning: invalid value encountered in sqrt\n",
      "  return gv.gvar(mean_avg, np.sqrt(var_avg))\n",
      "/home/chris/Code/LQCD/a1_analysis/fitting.py:246: RuntimeWarning: overflow encountered in exp\n",
      "  return p[\"A0\"]*np.exp(-p[\"E0\"]*t)+p[\"A1\"]*np.exp(-p[\"E1\"]*t)+p[\"A2\"]*np.exp(-p[\"E2\"]*t)\n",
      "/home/chris/Code/LQCD/a1_analysis/fitting.py:246: RuntimeWarning: overflow encountered in exp\n",
      "  return p[\"A0\"]*np.exp(-p[\"E0\"]*t)+p[\"A1\"]*np.exp(-p[\"E1\"]*t)+p[\"A2\"]*np.exp(-p[\"E2\"]*t)\n",
      "/home/chris/Code/LQCD/a1_analysis/fitting.py:246: RuntimeWarning: overflow encountered in exp\n",
      "  return p[\"A0\"]*np.exp(-p[\"E0\"]*t)+p[\"A1\"]*np.exp(-p[\"E1\"]*t)+p[\"A2\"]*np.exp(-p[\"E2\"]*t)\n",
      "/home/chris/Code/LQCD/a1_analysis/stats.py:96: RuntimeWarning: invalid value encountered in sqrt\n",
      "  return gv.gvar(mean_avg, np.sqrt(var_avg))\n",
      "/home/chris/Code/LQCD/a1_analysis/stats.py:96: RuntimeWarning: invalid value encountered in sqrt\n",
      "  return gv.gvar(mean_avg, np.sqrt(var_avg))\n",
      "/home/chris/anaconda3/envs/LQCD/lib/python3.10/site-packages/scipy/optimize/_lsq/common.py:115: RuntimeWarning: overflow encountered in power\n",
      "  phi_prime = -np.sum(suf ** 2 / denom**3) / p_norm\n",
      "/home/chris/Code/LQCD/a1_analysis/fitting.py:242: RuntimeWarning: overflow encountered in exp\n",
      "  return p[\"A0\"]*np.exp(-p[\"E0\"]*t)\n",
      "/home/chris/Code/LQCD/a1_analysis/fitting.py:246: RuntimeWarning: overflow encountered in exp\n",
      "  return p[\"A0\"]*np.exp(-p[\"E0\"]*t)+p[\"A1\"]*np.exp(-p[\"E1\"]*t)+p[\"A2\"]*np.exp(-p[\"E2\"]*t)\n"
     ]
    },
    {
     "name": "stdout",
     "output_type": "stream",
     "text": [
      "Done fitting for t0=7, td=14\n"
     ]
    },
    {
     "name": "stderr",
     "output_type": "stream",
     "text": [
      "/home/chris/Code/LQCD/a1_analysis/fitting.py:242: RuntimeWarning: overflow encountered in exp\n",
      "  return p[\"A0\"]*np.exp(-p[\"E0\"]*t)\n",
      "/home/chris/Code/LQCD/a1_analysis/fitting.py:246: RuntimeWarning: overflow encountered in exp\n",
      "  return p[\"A0\"]*np.exp(-p[\"E0\"]*t)+p[\"A1\"]*np.exp(-p[\"E1\"]*t)+p[\"A2\"]*np.exp(-p[\"E2\"]*t)\n",
      "/home/chris/Code/LQCD/a1_analysis/fitting.py:246: RuntimeWarning: overflow encountered in exp\n",
      "  return p[\"A0\"]*np.exp(-p[\"E0\"]*t)+p[\"A1\"]*np.exp(-p[\"E1\"]*t)+p[\"A2\"]*np.exp(-p[\"E2\"]*t)\n",
      "/home/chris/Code/LQCD/a1_analysis/stats.py:96: RuntimeWarning: invalid value encountered in sqrt\n",
      "  return gv.gvar(mean_avg, np.sqrt(var_avg))\n",
      "/home/chris/Code/LQCD/a1_analysis/stats.py:96: RuntimeWarning: invalid value encountered in sqrt\n",
      "  return gv.gvar(mean_avg, np.sqrt(var_avg))\n",
      "/home/chris/Code/LQCD/a1_analysis/stats.py:96: RuntimeWarning: invalid value encountered in sqrt\n",
      "  return gv.gvar(mean_avg, np.sqrt(var_avg))\n",
      "/home/chris/Code/LQCD/a1_analysis/fitting.py:246: RuntimeWarning: overflow encountered in exp\n",
      "  return p[\"A0\"]*np.exp(-p[\"E0\"]*t)+p[\"A1\"]*np.exp(-p[\"E1\"]*t)+p[\"A2\"]*np.exp(-p[\"E2\"]*t)\n",
      "/home/chris/Code/LQCD/a1_analysis/stats.py:96: RuntimeWarning: invalid value encountered in sqrt\n",
      "  return gv.gvar(mean_avg, np.sqrt(var_avg))\n",
      "/home/chris/Code/LQCD/a1_analysis/fitting.py:246: RuntimeWarning: overflow encountered in exp\n",
      "  return p[\"A0\"]*np.exp(-p[\"E0\"]*t)+p[\"A1\"]*np.exp(-p[\"E1\"]*t)+p[\"A2\"]*np.exp(-p[\"E2\"]*t)\n",
      "/home/chris/Code/LQCD/a1_analysis/fitting.py:246: RuntimeWarning: overflow encountered in exp\n",
      "  return p[\"A0\"]*np.exp(-p[\"E0\"]*t)+p[\"A1\"]*np.exp(-p[\"E1\"]*t)+p[\"A2\"]*np.exp(-p[\"E2\"]*t)\n"
     ]
    },
    {
     "name": "stdout",
     "output_type": "stream",
     "text": [
      "Done fitting for t0=8, td=9\n"
     ]
    },
    {
     "name": "stderr",
     "output_type": "stream",
     "text": [
      "/home/chris/Code/LQCD/a1_analysis/fitting.py:246: RuntimeWarning: overflow encountered in exp\n",
      "  return p[\"A0\"]*np.exp(-p[\"E0\"]*t)+p[\"A1\"]*np.exp(-p[\"E1\"]*t)+p[\"A2\"]*np.exp(-p[\"E2\"]*t)\n",
      "/home/chris/Code/LQCD/a1_analysis/fitting.py:246: RuntimeWarning: overflow encountered in exp\n",
      "  return p[\"A0\"]*np.exp(-p[\"E0\"]*t)+p[\"A1\"]*np.exp(-p[\"E1\"]*t)+p[\"A2\"]*np.exp(-p[\"E2\"]*t)\n",
      "/home/chris/Code/LQCD/a1_analysis/fitting.py:246: RuntimeWarning: overflow encountered in exp\n",
      "  return p[\"A0\"]*np.exp(-p[\"E0\"]*t)+p[\"A1\"]*np.exp(-p[\"E1\"]*t)+p[\"A2\"]*np.exp(-p[\"E2\"]*t)\n",
      "/home/chris/anaconda3/envs/LQCD/lib/python3.10/site-packages/scipy/optimize/_lsq/common.py:234: RuntimeWarning: overflow encountered in double_scalars\n",
      "  ratio = actual_reduction / predicted_reduction\n",
      "/home/chris/Code/LQCD/a1_analysis/fitting.py:246: RuntimeWarning: overflow encountered in multiply\n",
      "  return p[\"A0\"]*np.exp(-p[\"E0\"]*t)+p[\"A1\"]*np.exp(-p[\"E1\"]*t)+p[\"A2\"]*np.exp(-p[\"E2\"]*t)\n",
      "/home/chris/Code/LQCD/a1_analysis/stats.py:96: RuntimeWarning: invalid value encountered in sqrt\n",
      "  return gv.gvar(mean_avg, np.sqrt(var_avg))\n",
      "/home/chris/Code/LQCD/a1_analysis/stats.py:96: RuntimeWarning: invalid value encountered in sqrt\n",
      "  return gv.gvar(mean_avg, np.sqrt(var_avg))\n",
      "/home/chris/Code/LQCD/a1_analysis/stats.py:96: RuntimeWarning: invalid value encountered in sqrt\n",
      "  return gv.gvar(mean_avg, np.sqrt(var_avg))\n",
      "/home/chris/Code/LQCD/a1_analysis/fitting.py:246: RuntimeWarning: overflow encountered in exp\n",
      "  return p[\"A0\"]*np.exp(-p[\"E0\"]*t)+p[\"A1\"]*np.exp(-p[\"E1\"]*t)+p[\"A2\"]*np.exp(-p[\"E2\"]*t)\n",
      "/home/chris/Code/LQCD/a1_analysis/fitting.py:246: RuntimeWarning: overflow encountered in exp\n",
      "  return p[\"A0\"]*np.exp(-p[\"E0\"]*t)+p[\"A1\"]*np.exp(-p[\"E1\"]*t)+p[\"A2\"]*np.exp(-p[\"E2\"]*t)\n",
      "/home/chris/Code/LQCD/a1_analysis/stats.py:96: RuntimeWarning: invalid value encountered in sqrt\n",
      "  return gv.gvar(mean_avg, np.sqrt(var_avg))\n",
      "/home/chris/Code/LQCD/a1_analysis/stats.py:96: RuntimeWarning: invalid value encountered in sqrt\n",
      "  return gv.gvar(mean_avg, np.sqrt(var_avg))\n",
      "/home/chris/Code/LQCD/a1_analysis/fitting.py:246: RuntimeWarning: overflow encountered in exp\n",
      "  return p[\"A0\"]*np.exp(-p[\"E0\"]*t)+p[\"A1\"]*np.exp(-p[\"E1\"]*t)+p[\"A2\"]*np.exp(-p[\"E2\"]*t)\n",
      "/home/chris/anaconda3/envs/LQCD/lib/python3.10/site-packages/scipy/optimize/_lsq/common.py:234: RuntimeWarning: overflow encountered in double_scalars\n",
      "  ratio = actual_reduction / predicted_reduction\n",
      "/home/chris/Code/LQCD/a1_analysis/fitting.py:246: RuntimeWarning: overflow encountered in multiply\n",
      "  return p[\"A0\"]*np.exp(-p[\"E0\"]*t)+p[\"A1\"]*np.exp(-p[\"E1\"]*t)+p[\"A2\"]*np.exp(-p[\"E2\"]*t)\n"
     ]
    },
    {
     "name": "stdout",
     "output_type": "stream",
     "text": [
      "Done fitting for t0=8, td=10\n"
     ]
    },
    {
     "name": "stderr",
     "output_type": "stream",
     "text": [
      "/home/chris/Code/LQCD/a1_analysis/fitting.py:246: RuntimeWarning: overflow encountered in exp\n",
      "  return p[\"A0\"]*np.exp(-p[\"E0\"]*t)+p[\"A1\"]*np.exp(-p[\"E1\"]*t)+p[\"A2\"]*np.exp(-p[\"E2\"]*t)\n",
      "/home/chris/anaconda3/envs/LQCD/lib/python3.10/site-packages/scipy/optimize/_lsq/common.py:115: RuntimeWarning: overflow encountered in power\n",
      "  phi_prime = -np.sum(suf ** 2 / denom**3) / p_norm\n",
      "/home/chris/Code/LQCD/a1_analysis/fitting.py:246: RuntimeWarning: overflow encountered in exp\n",
      "  return p[\"A0\"]*np.exp(-p[\"E0\"]*t)+p[\"A1\"]*np.exp(-p[\"E1\"]*t)+p[\"A2\"]*np.exp(-p[\"E2\"]*t)\n",
      "/home/chris/Code/LQCD/a1_analysis/fitting.py:246: RuntimeWarning: overflow encountered in exp\n",
      "  return p[\"A0\"]*np.exp(-p[\"E0\"]*t)+p[\"A1\"]*np.exp(-p[\"E1\"]*t)+p[\"A2\"]*np.exp(-p[\"E2\"]*t)\n",
      "/home/chris/Code/LQCD/a1_analysis/stats.py:96: RuntimeWarning: invalid value encountered in sqrt\n",
      "  return gv.gvar(mean_avg, np.sqrt(var_avg))\n",
      "/home/chris/Code/LQCD/a1_analysis/stats.py:96: RuntimeWarning: invalid value encountered in sqrt\n",
      "  return gv.gvar(mean_avg, np.sqrt(var_avg))\n",
      "/home/chris/Code/LQCD/a1_analysis/stats.py:96: RuntimeWarning: invalid value encountered in sqrt\n",
      "  return gv.gvar(mean_avg, np.sqrt(var_avg))\n",
      "/home/chris/Code/LQCD/a1_analysis/fitting.py:246: RuntimeWarning: overflow encountered in exp\n",
      "  return p[\"A0\"]*np.exp(-p[\"E0\"]*t)+p[\"A1\"]*np.exp(-p[\"E1\"]*t)+p[\"A2\"]*np.exp(-p[\"E2\"]*t)\n",
      "/home/chris/Code/LQCD/a1_analysis/stats.py:96: RuntimeWarning: invalid value encountered in sqrt\n",
      "  return gv.gvar(mean_avg, np.sqrt(var_avg))\n",
      "/home/chris/Code/LQCD/a1_analysis/fitting.py:246: RuntimeWarning: overflow encountered in exp\n",
      "  return p[\"A0\"]*np.exp(-p[\"E0\"]*t)+p[\"A1\"]*np.exp(-p[\"E1\"]*t)+p[\"A2\"]*np.exp(-p[\"E2\"]*t)\n",
      "/home/chris/Code/LQCD/a1_analysis/stats.py:96: RuntimeWarning: invalid value encountered in sqrt\n",
      "  return gv.gvar(mean_avg, np.sqrt(var_avg))\n",
      "/home/chris/Code/LQCD/a1_analysis/fitting.py:246: RuntimeWarning: overflow encountered in exp\n",
      "  return p[\"A0\"]*np.exp(-p[\"E0\"]*t)+p[\"A1\"]*np.exp(-p[\"E1\"]*t)+p[\"A2\"]*np.exp(-p[\"E2\"]*t)\n"
     ]
    },
    {
     "name": "stdout",
     "output_type": "stream",
     "text": [
      "Done fitting for t0=8, td=11\n"
     ]
    },
    {
     "name": "stderr",
     "output_type": "stream",
     "text": [
      "/home/chris/Code/LQCD/a1_analysis/fitting.py:242: RuntimeWarning: overflow encountered in exp\n",
      "  return p[\"A0\"]*np.exp(-p[\"E0\"]*t)\n",
      "/home/chris/Code/LQCD/a1_analysis/fitting.py:246: RuntimeWarning: overflow encountered in exp\n",
      "  return p[\"A0\"]*np.exp(-p[\"E0\"]*t)+p[\"A1\"]*np.exp(-p[\"E1\"]*t)+p[\"A2\"]*np.exp(-p[\"E2\"]*t)\n",
      "/home/chris/Code/LQCD/a1_analysis/fitting.py:246: RuntimeWarning: overflow encountered in exp\n",
      "  return p[\"A0\"]*np.exp(-p[\"E0\"]*t)+p[\"A1\"]*np.exp(-p[\"E1\"]*t)+p[\"A2\"]*np.exp(-p[\"E2\"]*t)\n",
      "/home/chris/anaconda3/envs/LQCD/lib/python3.10/site-packages/scipy/optimize/_lsq/common.py:115: RuntimeWarning: overflow encountered in power\n",
      "  phi_prime = -np.sum(suf ** 2 / denom**3) / p_norm\n",
      "/home/chris/Code/LQCD/a1_analysis/fitting.py:242: RuntimeWarning: overflow encountered in exp\n",
      "  return p[\"A0\"]*np.exp(-p[\"E0\"]*t)\n",
      "/home/chris/Code/LQCD/a1_analysis/stats.py:96: RuntimeWarning: invalid value encountered in sqrt\n",
      "  return gv.gvar(mean_avg, np.sqrt(var_avg))\n",
      "/home/chris/Code/LQCD/a1_analysis/stats.py:96: RuntimeWarning: invalid value encountered in sqrt\n",
      "  return gv.gvar(mean_avg, np.sqrt(var_avg))\n",
      "/home/chris/Code/LQCD/a1_analysis/fitting.py:246: RuntimeWarning: overflow encountered in exp\n",
      "  return p[\"A0\"]*np.exp(-p[\"E0\"]*t)+p[\"A1\"]*np.exp(-p[\"E1\"]*t)+p[\"A2\"]*np.exp(-p[\"E2\"]*t)\n",
      "/home/chris/Code/LQCD/a1_analysis/stats.py:96: RuntimeWarning: invalid value encountered in sqrt\n",
      "  return gv.gvar(mean_avg, np.sqrt(var_avg))\n",
      "/home/chris/Code/LQCD/a1_analysis/stats.py:96: RuntimeWarning: invalid value encountered in sqrt\n",
      "  return gv.gvar(mean_avg, np.sqrt(var_avg))\n",
      "/home/chris/Code/LQCD/a1_analysis/fitting.py:246: RuntimeWarning: overflow encountered in exp\n",
      "  return p[\"A0\"]*np.exp(-p[\"E0\"]*t)+p[\"A1\"]*np.exp(-p[\"E1\"]*t)+p[\"A2\"]*np.exp(-p[\"E2\"]*t)\n",
      "/home/chris/Code/LQCD/a1_analysis/stats.py:96: RuntimeWarning: invalid value encountered in sqrt\n",
      "  return gv.gvar(mean_avg, np.sqrt(var_avg))\n",
      "/home/chris/Code/LQCD/a1_analysis/fitting.py:242: RuntimeWarning: overflow encountered in exp\n",
      "  return p[\"A0\"]*np.exp(-p[\"E0\"]*t)\n",
      "/home/chris/Code/LQCD/a1_analysis/fitting.py:246: RuntimeWarning: overflow encountered in exp\n",
      "  return p[\"A0\"]*np.exp(-p[\"E0\"]*t)+p[\"A1\"]*np.exp(-p[\"E1\"]*t)+p[\"A2\"]*np.exp(-p[\"E2\"]*t)\n"
     ]
    },
    {
     "name": "stdout",
     "output_type": "stream",
     "text": [
      "Done fitting for t0=8, td=12\n"
     ]
    },
    {
     "name": "stderr",
     "output_type": "stream",
     "text": [
      "/home/chris/Code/LQCD/a1_analysis/fitting.py:246: RuntimeWarning: overflow encountered in exp\n",
      "  return p[\"A0\"]*np.exp(-p[\"E0\"]*t)+p[\"A1\"]*np.exp(-p[\"E1\"]*t)+p[\"A2\"]*np.exp(-p[\"E2\"]*t)\n",
      "/home/chris/Code/LQCD/a1_analysis/fitting.py:246: RuntimeWarning: overflow encountered in exp\n",
      "  return p[\"A0\"]*np.exp(-p[\"E0\"]*t)+p[\"A1\"]*np.exp(-p[\"E1\"]*t)+p[\"A2\"]*np.exp(-p[\"E2\"]*t)\n",
      "/home/chris/Code/LQCD/a1_analysis/stats.py:96: RuntimeWarning: invalid value encountered in sqrt\n",
      "  return gv.gvar(mean_avg, np.sqrt(var_avg))\n",
      "/home/chris/Code/LQCD/a1_analysis/fitting.py:246: RuntimeWarning: overflow encountered in exp\n",
      "  return p[\"A0\"]*np.exp(-p[\"E0\"]*t)+p[\"A1\"]*np.exp(-p[\"E1\"]*t)+p[\"A2\"]*np.exp(-p[\"E2\"]*t)\n",
      "/home/chris/Code/LQCD/a1_analysis/stats.py:96: RuntimeWarning: invalid value encountered in sqrt\n",
      "  return gv.gvar(mean_avg, np.sqrt(var_avg))\n",
      "/home/chris/Code/LQCD/a1_analysis/fitting.py:246: RuntimeWarning: overflow encountered in exp\n",
      "  return p[\"A0\"]*np.exp(-p[\"E0\"]*t)+p[\"A1\"]*np.exp(-p[\"E1\"]*t)+p[\"A2\"]*np.exp(-p[\"E2\"]*t)\n",
      "/home/chris/Code/LQCD/a1_analysis/stats.py:96: RuntimeWarning: invalid value encountered in sqrt\n",
      "  return gv.gvar(mean_avg, np.sqrt(var_avg))\n",
      "/home/chris/Code/LQCD/a1_analysis/stats.py:96: RuntimeWarning: invalid value encountered in sqrt\n",
      "  return gv.gvar(mean_avg, np.sqrt(var_avg))\n",
      "/home/chris/Code/LQCD/a1_analysis/stats.py:96: RuntimeWarning: invalid value encountered in sqrt\n",
      "  return gv.gvar(mean_avg, np.sqrt(var_avg))\n",
      "/home/chris/Code/LQCD/a1_analysis/fitting.py:246: RuntimeWarning: overflow encountered in exp\n",
      "  return p[\"A0\"]*np.exp(-p[\"E0\"]*t)+p[\"A1\"]*np.exp(-p[\"E1\"]*t)+p[\"A2\"]*np.exp(-p[\"E2\"]*t)\n",
      "/home/chris/Code/LQCD/a1_analysis/fitting.py:246: RuntimeWarning: overflow encountered in exp\n",
      "  return p[\"A0\"]*np.exp(-p[\"E0\"]*t)+p[\"A1\"]*np.exp(-p[\"E1\"]*t)+p[\"A2\"]*np.exp(-p[\"E2\"]*t)\n"
     ]
    },
    {
     "name": "stdout",
     "output_type": "stream",
     "text": [
      "Done fitting for t0=8, td=13\n"
     ]
    },
    {
     "name": "stderr",
     "output_type": "stream",
     "text": [
      "/home/chris/Code/LQCD/a1_analysis/fitting.py:246: RuntimeWarning: overflow encountered in exp\n",
      "  return p[\"A0\"]*np.exp(-p[\"E0\"]*t)+p[\"A1\"]*np.exp(-p[\"E1\"]*t)+p[\"A2\"]*np.exp(-p[\"E2\"]*t)\n",
      "/home/chris/Code/LQCD/a1_analysis/fitting.py:246: RuntimeWarning: overflow encountered in exp\n",
      "  return p[\"A0\"]*np.exp(-p[\"E0\"]*t)+p[\"A1\"]*np.exp(-p[\"E1\"]*t)+p[\"A2\"]*np.exp(-p[\"E2\"]*t)\n",
      "/home/chris/Code/LQCD/a1_analysis/stats.py:96: RuntimeWarning: invalid value encountered in sqrt\n",
      "  return gv.gvar(mean_avg, np.sqrt(var_avg))\n",
      "/home/chris/Code/LQCD/a1_analysis/fitting.py:246: RuntimeWarning: overflow encountered in exp\n",
      "  return p[\"A0\"]*np.exp(-p[\"E0\"]*t)+p[\"A1\"]*np.exp(-p[\"E1\"]*t)+p[\"A2\"]*np.exp(-p[\"E2\"]*t)\n",
      "/home/chris/Code/LQCD/a1_analysis/fitting.py:246: RuntimeWarning: overflow encountered in exp\n",
      "  return p[\"A0\"]*np.exp(-p[\"E0\"]*t)+p[\"A1\"]*np.exp(-p[\"E1\"]*t)+p[\"A2\"]*np.exp(-p[\"E2\"]*t)\n",
      "/home/chris/Code/LQCD/a1_analysis/stats.py:96: RuntimeWarning: invalid value encountered in sqrt\n",
      "  return gv.gvar(mean_avg, np.sqrt(var_avg))\n",
      "/home/chris/Code/LQCD/a1_analysis/stats.py:96: RuntimeWarning: invalid value encountered in sqrt\n",
      "  return gv.gvar(mean_avg, np.sqrt(var_avg))\n",
      "/home/chris/Code/LQCD/a1_analysis/fitting.py:246: RuntimeWarning: overflow encountered in exp\n",
      "  return p[\"A0\"]*np.exp(-p[\"E0\"]*t)+p[\"A1\"]*np.exp(-p[\"E1\"]*t)+p[\"A2\"]*np.exp(-p[\"E2\"]*t)\n",
      "/home/chris/Code/LQCD/a1_analysis/stats.py:96: RuntimeWarning: invalid value encountered in sqrt\n",
      "  return gv.gvar(mean_avg, np.sqrt(var_avg))\n",
      "/home/chris/Code/LQCD/a1_analysis/stats.py:96: RuntimeWarning: invalid value encountered in sqrt\n",
      "  return gv.gvar(mean_avg, np.sqrt(var_avg))\n",
      "/home/chris/Code/LQCD/a1_analysis/fitting.py:246: RuntimeWarning: overflow encountered in exp\n",
      "  return p[\"A0\"]*np.exp(-p[\"E0\"]*t)+p[\"A1\"]*np.exp(-p[\"E1\"]*t)+p[\"A2\"]*np.exp(-p[\"E2\"]*t)\n"
     ]
    },
    {
     "name": "stdout",
     "output_type": "stream",
     "text": [
      "Done fitting for t0=8, td=14\n"
     ]
    },
    {
     "name": "stderr",
     "output_type": "stream",
     "text": [
      "/home/chris/Code/LQCD/a1_analysis/fitting.py:246: RuntimeWarning: overflow encountered in exp\n",
      "  return p[\"A0\"]*np.exp(-p[\"E0\"]*t)+p[\"A1\"]*np.exp(-p[\"E1\"]*t)+p[\"A2\"]*np.exp(-p[\"E2\"]*t)\n",
      "/home/chris/Code/LQCD/a1_analysis/fitting.py:246: RuntimeWarning: overflow encountered in exp\n",
      "  return p[\"A0\"]*np.exp(-p[\"E0\"]*t)+p[\"A1\"]*np.exp(-p[\"E1\"]*t)+p[\"A2\"]*np.exp(-p[\"E2\"]*t)\n",
      "/home/chris/Code/LQCD/a1_analysis/fitting.py:246: RuntimeWarning: overflow encountered in exp\n",
      "  return p[\"A0\"]*np.exp(-p[\"E0\"]*t)+p[\"A1\"]*np.exp(-p[\"E1\"]*t)+p[\"A2\"]*np.exp(-p[\"E2\"]*t)\n",
      "/home/chris/Code/LQCD/a1_analysis/fitting.py:246: RuntimeWarning: overflow encountered in exp\n",
      "  return p[\"A0\"]*np.exp(-p[\"E0\"]*t)+p[\"A1\"]*np.exp(-p[\"E1\"]*t)+p[\"A2\"]*np.exp(-p[\"E2\"]*t)\n",
      "/home/chris/Code/LQCD/a1_analysis/fitting.py:246: RuntimeWarning: overflow encountered in multiply\n",
      "  return p[\"A0\"]*np.exp(-p[\"E0\"]*t)+p[\"A1\"]*np.exp(-p[\"E1\"]*t)+p[\"A2\"]*np.exp(-p[\"E2\"]*t)\n",
      "/home/chris/Code/LQCD/a1_analysis/stats.py:96: RuntimeWarning: invalid value encountered in sqrt\n",
      "  return gv.gvar(mean_avg, np.sqrt(var_avg))\n",
      "/home/chris/Code/LQCD/a1_analysis/stats.py:96: RuntimeWarning: invalid value encountered in sqrt\n",
      "  return gv.gvar(mean_avg, np.sqrt(var_avg))\n",
      "/home/chris/Code/LQCD/a1_analysis/stats.py:96: RuntimeWarning: invalid value encountered in sqrt\n",
      "  return gv.gvar(mean_avg, np.sqrt(var_avg))\n",
      "/home/chris/Code/LQCD/a1_analysis/fitting.py:246: RuntimeWarning: overflow encountered in exp\n",
      "  return p[\"A0\"]*np.exp(-p[\"E0\"]*t)+p[\"A1\"]*np.exp(-p[\"E1\"]*t)+p[\"A2\"]*np.exp(-p[\"E2\"]*t)\n",
      "/home/chris/Code/LQCD/a1_analysis/stats.py:96: RuntimeWarning: invalid value encountered in sqrt\n",
      "  return gv.gvar(mean_avg, np.sqrt(var_avg))\n",
      "/home/chris/Code/LQCD/a1_analysis/fitting.py:246: RuntimeWarning: overflow encountered in exp\n",
      "  return p[\"A0\"]*np.exp(-p[\"E0\"]*t)+p[\"A1\"]*np.exp(-p[\"E1\"]*t)+p[\"A2\"]*np.exp(-p[\"E2\"]*t)\n"
     ]
    },
    {
     "name": "stdout",
     "output_type": "stream",
     "text": [
      "Done fitting for t0=8, td=15\n"
     ]
    },
    {
     "name": "stderr",
     "output_type": "stream",
     "text": [
      "/home/chris/Code/LQCD/a1_analysis/fitting.py:242: RuntimeWarning: overflow encountered in exp\n",
      "  return p[\"A0\"]*np.exp(-p[\"E0\"]*t)\n",
      "/home/chris/Code/LQCD/a1_analysis/fitting.py:246: RuntimeWarning: overflow encountered in exp\n",
      "  return p[\"A0\"]*np.exp(-p[\"E0\"]*t)+p[\"A1\"]*np.exp(-p[\"E1\"]*t)+p[\"A2\"]*np.exp(-p[\"E2\"]*t)\n",
      "/home/chris/Code/LQCD/a1_analysis/fitting.py:242: RuntimeWarning: overflow encountered in exp\n",
      "  return p[\"A0\"]*np.exp(-p[\"E0\"]*t)\n",
      "/home/chris/Code/LQCD/a1_analysis/fitting.py:246: RuntimeWarning: overflow encountered in exp\n",
      "  return p[\"A0\"]*np.exp(-p[\"E0\"]*t)+p[\"A1\"]*np.exp(-p[\"E1\"]*t)+p[\"A2\"]*np.exp(-p[\"E2\"]*t)\n",
      "/home/chris/Code/LQCD/a1_analysis/fitting.py:246: RuntimeWarning: overflow encountered in exp\n",
      "  return p[\"A0\"]*np.exp(-p[\"E0\"]*t)+p[\"A1\"]*np.exp(-p[\"E1\"]*t)+p[\"A2\"]*np.exp(-p[\"E2\"]*t)\n",
      "/home/chris/Code/LQCD/a1_analysis/fitting.py:246: RuntimeWarning: overflow encountered in exp\n",
      "  return p[\"A0\"]*np.exp(-p[\"E0\"]*t)+p[\"A1\"]*np.exp(-p[\"E1\"]*t)+p[\"A2\"]*np.exp(-p[\"E2\"]*t)\n",
      "/home/chris/Code/LQCD/a1_analysis/fitting.py:246: RuntimeWarning: overflow encountered in multiply\n",
      "  return p[\"A0\"]*np.exp(-p[\"E0\"]*t)+p[\"A1\"]*np.exp(-p[\"E1\"]*t)+p[\"A2\"]*np.exp(-p[\"E2\"]*t)\n",
      "/home/chris/Code/LQCD/a1_analysis/stats.py:96: RuntimeWarning: invalid value encountered in sqrt\n",
      "  return gv.gvar(mean_avg, np.sqrt(var_avg))\n",
      "/home/chris/anaconda3/envs/LQCD/lib/python3.10/site-packages/scipy/optimize/_lsq/common.py:234: RuntimeWarning: overflow encountered in double_scalars\n",
      "  ratio = actual_reduction / predicted_reduction\n",
      "/home/chris/Code/LQCD/a1_analysis/stats.py:96: RuntimeWarning: invalid value encountered in sqrt\n",
      "  return gv.gvar(mean_avg, np.sqrt(var_avg))\n",
      "/home/chris/Code/LQCD/a1_analysis/stats.py:96: RuntimeWarning: invalid value encountered in sqrt\n",
      "  return gv.gvar(mean_avg, np.sqrt(var_avg))\n",
      "/home/chris/Code/LQCD/a1_analysis/stats.py:96: RuntimeWarning: invalid value encountered in sqrt\n",
      "  return gv.gvar(mean_avg, np.sqrt(var_avg))\n",
      "/home/chris/Code/LQCD/a1_analysis/fitting.py:242: RuntimeWarning: overflow encountered in exp\n",
      "  return p[\"A0\"]*np.exp(-p[\"E0\"]*t)\n",
      "/home/chris/Code/LQCD/a1_analysis/fitting.py:246: RuntimeWarning: overflow encountered in exp\n",
      "  return p[\"A0\"]*np.exp(-p[\"E0\"]*t)+p[\"A1\"]*np.exp(-p[\"E1\"]*t)+p[\"A2\"]*np.exp(-p[\"E2\"]*t)\n",
      "/home/chris/Code/LQCD/a1_analysis/fitting.py:246: RuntimeWarning: overflow encountered in multiply\n",
      "  return p[\"A0\"]*np.exp(-p[\"E0\"]*t)+p[\"A1\"]*np.exp(-p[\"E1\"]*t)+p[\"A2\"]*np.exp(-p[\"E2\"]*t)\n",
      "/home/chris/anaconda3/envs/LQCD/lib/python3.10/site-packages/scipy/optimize/_lsq/common.py:234: RuntimeWarning: overflow encountered in double_scalars\n",
      "  ratio = actual_reduction / predicted_reduction\n"
     ]
    },
    {
     "name": "stdout",
     "output_type": "stream",
     "text": [
      "Done fitting for t0=8, td=16\n"
     ]
    },
    {
     "name": "stderr",
     "output_type": "stream",
     "text": [
      "/home/chris/anaconda3/envs/LQCD/lib/python3.10/site-packages/scipy/optimize/_lsq/common.py:234: RuntimeWarning: overflow encountered in double_scalars\n",
      "  ratio = actual_reduction / predicted_reduction\n",
      "/home/chris/Code/LQCD/a1_analysis/fitting.py:242: RuntimeWarning: overflow encountered in exp\n",
      "  return p[\"A0\"]*np.exp(-p[\"E0\"]*t)\n",
      "/home/chris/Code/LQCD/a1_analysis/fitting.py:246: RuntimeWarning: overflow encountered in exp\n",
      "  return p[\"A0\"]*np.exp(-p[\"E0\"]*t)+p[\"A1\"]*np.exp(-p[\"E1\"]*t)+p[\"A2\"]*np.exp(-p[\"E2\"]*t)\n",
      "/home/chris/Code/LQCD/a1_analysis/stats.py:96: RuntimeWarning: invalid value encountered in sqrt\n",
      "  return gv.gvar(mean_avg, np.sqrt(var_avg))\n",
      "/home/chris/Code/LQCD/a1_analysis/fitting.py:246: RuntimeWarning: overflow encountered in exp\n",
      "  return p[\"A0\"]*np.exp(-p[\"E0\"]*t)+p[\"A1\"]*np.exp(-p[\"E1\"]*t)+p[\"A2\"]*np.exp(-p[\"E2\"]*t)\n",
      "/home/chris/Code/LQCD/a1_analysis/fitting.py:246: RuntimeWarning: overflow encountered in exp\n",
      "  return p[\"A0\"]*np.exp(-p[\"E0\"]*t)+p[\"A1\"]*np.exp(-p[\"E1\"]*t)+p[\"A2\"]*np.exp(-p[\"E2\"]*t)\n",
      "/home/chris/Code/LQCD/a1_analysis/stats.py:96: RuntimeWarning: invalid value encountered in sqrt\n",
      "  return gv.gvar(mean_avg, np.sqrt(var_avg))\n",
      "/home/chris/Code/LQCD/a1_analysis/stats.py:96: RuntimeWarning: invalid value encountered in sqrt\n",
      "  return gv.gvar(mean_avg, np.sqrt(var_avg))\n",
      "/home/chris/Code/LQCD/a1_analysis/stats.py:96: RuntimeWarning: invalid value encountered in sqrt\n",
      "  return gv.gvar(mean_avg, np.sqrt(var_avg))\n",
      "/home/chris/anaconda3/envs/LQCD/lib/python3.10/site-packages/scipy/optimize/_lsq/common.py:234: RuntimeWarning: overflow encountered in double_scalars\n",
      "  ratio = actual_reduction / predicted_reduction\n",
      "/home/chris/Code/LQCD/a1_analysis/fitting.py:242: RuntimeWarning: overflow encountered in exp\n",
      "  return p[\"A0\"]*np.exp(-p[\"E0\"]*t)\n",
      "/home/chris/Code/LQCD/a1_analysis/fitting.py:246: RuntimeWarning: overflow encountered in exp\n",
      "  return p[\"A0\"]*np.exp(-p[\"E0\"]*t)+p[\"A1\"]*np.exp(-p[\"E1\"]*t)+p[\"A2\"]*np.exp(-p[\"E2\"]*t)\n"
     ]
    },
    {
     "name": "stdout",
     "output_type": "stream",
     "text": [
      "Done fitting for t0=9, td=10\n"
     ]
    },
    {
     "name": "stderr",
     "output_type": "stream",
     "text": [
      "/home/chris/Code/LQCD/a1_analysis/fitting.py:246: RuntimeWarning: overflow encountered in exp\n",
      "  return p[\"A0\"]*np.exp(-p[\"E0\"]*t)+p[\"A1\"]*np.exp(-p[\"E1\"]*t)+p[\"A2\"]*np.exp(-p[\"E2\"]*t)\n",
      "/home/chris/Code/LQCD/a1_analysis/stats.py:96: RuntimeWarning: invalid value encountered in sqrt\n",
      "  return gv.gvar(mean_avg, np.sqrt(var_avg))\n",
      "/home/chris/Code/LQCD/a1_analysis/fitting.py:246: RuntimeWarning: overflow encountered in exp\n",
      "  return p[\"A0\"]*np.exp(-p[\"E0\"]*t)+p[\"A1\"]*np.exp(-p[\"E1\"]*t)+p[\"A2\"]*np.exp(-p[\"E2\"]*t)\n",
      "/home/chris/Code/LQCD/a1_analysis/fitting.py:246: RuntimeWarning: overflow encountered in exp\n",
      "  return p[\"A0\"]*np.exp(-p[\"E0\"]*t)+p[\"A1\"]*np.exp(-p[\"E1\"]*t)+p[\"A2\"]*np.exp(-p[\"E2\"]*t)\n",
      "/home/chris/Code/LQCD/a1_analysis/stats.py:96: RuntimeWarning: invalid value encountered in sqrt\n",
      "  return gv.gvar(mean_avg, np.sqrt(var_avg))\n",
      "/home/chris/Code/LQCD/a1_analysis/fitting.py:246: RuntimeWarning: overflow encountered in exp\n",
      "  return p[\"A0\"]*np.exp(-p[\"E0\"]*t)+p[\"A1\"]*np.exp(-p[\"E1\"]*t)+p[\"A2\"]*np.exp(-p[\"E2\"]*t)\n",
      "/home/chris/Code/LQCD/a1_analysis/stats.py:96: RuntimeWarning: invalid value encountered in sqrt\n",
      "  return gv.gvar(mean_avg, np.sqrt(var_avg))\n",
      "/home/chris/Code/LQCD/a1_analysis/fitting.py:246: RuntimeWarning: overflow encountered in exp\n",
      "  return p[\"A0\"]*np.exp(-p[\"E0\"]*t)+p[\"A1\"]*np.exp(-p[\"E1\"]*t)+p[\"A2\"]*np.exp(-p[\"E2\"]*t)\n"
     ]
    },
    {
     "name": "stdout",
     "output_type": "stream",
     "text": [
      "Done fitting for t0=9, td=11\n"
     ]
    },
    {
     "name": "stderr",
     "output_type": "stream",
     "text": [
      "/home/chris/Code/LQCD/a1_analysis/fitting.py:246: RuntimeWarning: overflow encountered in exp\n",
      "  return p[\"A0\"]*np.exp(-p[\"E0\"]*t)+p[\"A1\"]*np.exp(-p[\"E1\"]*t)+p[\"A2\"]*np.exp(-p[\"E2\"]*t)\n",
      "/home/chris/Code/LQCD/a1_analysis/fitting.py:246: RuntimeWarning: overflow encountered in exp\n",
      "  return p[\"A0\"]*np.exp(-p[\"E0\"]*t)+p[\"A1\"]*np.exp(-p[\"E1\"]*t)+p[\"A2\"]*np.exp(-p[\"E2\"]*t)\n",
      "/home/chris/Code/LQCD/a1_analysis/fitting.py:246: RuntimeWarning: overflow encountered in exp\n",
      "  return p[\"A0\"]*np.exp(-p[\"E0\"]*t)+p[\"A1\"]*np.exp(-p[\"E1\"]*t)+p[\"A2\"]*np.exp(-p[\"E2\"]*t)\n",
      "/home/chris/Code/LQCD/a1_analysis/stats.py:96: RuntimeWarning: invalid value encountered in sqrt\n",
      "  return gv.gvar(mean_avg, np.sqrt(var_avg))\n",
      "/home/chris/Code/LQCD/a1_analysis/fitting.py:246: RuntimeWarning: overflow encountered in exp\n",
      "  return p[\"A0\"]*np.exp(-p[\"E0\"]*t)+p[\"A1\"]*np.exp(-p[\"E1\"]*t)+p[\"A2\"]*np.exp(-p[\"E2\"]*t)\n",
      "/home/chris/Code/LQCD/a1_analysis/fitting.py:246: RuntimeWarning: overflow encountered in multiply\n",
      "  return p[\"A0\"]*np.exp(-p[\"E0\"]*t)+p[\"A1\"]*np.exp(-p[\"E1\"]*t)+p[\"A2\"]*np.exp(-p[\"E2\"]*t)\n",
      "/home/chris/Code/LQCD/a1_analysis/stats.py:96: RuntimeWarning: invalid value encountered in sqrt\n",
      "  return gv.gvar(mean_avg, np.sqrt(var_avg))\n",
      "/home/chris/Code/LQCD/a1_analysis/stats.py:96: RuntimeWarning: invalid value encountered in sqrt\n",
      "  return gv.gvar(mean_avg, np.sqrt(var_avg))\n",
      "/home/chris/Code/LQCD/a1_analysis/stats.py:96: RuntimeWarning: invalid value encountered in sqrt\n",
      "  return gv.gvar(mean_avg, np.sqrt(var_avg))\n",
      "/home/chris/Code/LQCD/a1_analysis/fitting.py:246: RuntimeWarning: overflow encountered in exp\n",
      "  return p[\"A0\"]*np.exp(-p[\"E0\"]*t)+p[\"A1\"]*np.exp(-p[\"E1\"]*t)+p[\"A2\"]*np.exp(-p[\"E2\"]*t)\n",
      "/home/chris/Code/LQCD/a1_analysis/fitting.py:246: RuntimeWarning: overflow encountered in multiply\n",
      "  return p[\"A0\"]*np.exp(-p[\"E0\"]*t)+p[\"A1\"]*np.exp(-p[\"E1\"]*t)+p[\"A2\"]*np.exp(-p[\"E2\"]*t)\n"
     ]
    },
    {
     "name": "stdout",
     "output_type": "stream",
     "text": [
      "Done fitting for t0=9, td=12\n"
     ]
    },
    {
     "name": "stderr",
     "output_type": "stream",
     "text": [
      "/home/chris/Code/LQCD/a1_analysis/fitting.py:246: RuntimeWarning: overflow encountered in exp\n",
      "  return p[\"A0\"]*np.exp(-p[\"E0\"]*t)+p[\"A1\"]*np.exp(-p[\"E1\"]*t)+p[\"A2\"]*np.exp(-p[\"E2\"]*t)\n",
      "/home/chris/Code/LQCD/a1_analysis/fitting.py:246: RuntimeWarning: overflow encountered in multiply\n",
      "  return p[\"A0\"]*np.exp(-p[\"E0\"]*t)+p[\"A1\"]*np.exp(-p[\"E1\"]*t)+p[\"A2\"]*np.exp(-p[\"E2\"]*t)\n",
      "/home/chris/Code/LQCD/a1_analysis/fitting.py:246: RuntimeWarning: overflow encountered in exp\n",
      "  return p[\"A0\"]*np.exp(-p[\"E0\"]*t)+p[\"A1\"]*np.exp(-p[\"E1\"]*t)+p[\"A2\"]*np.exp(-p[\"E2\"]*t)\n",
      "/home/chris/anaconda3/envs/LQCD/lib/python3.10/site-packages/scipy/optimize/_lsq/common.py:234: RuntimeWarning: overflow encountered in double_scalars\n",
      "  ratio = actual_reduction / predicted_reduction\n",
      "/home/chris/Code/LQCD/a1_analysis/stats.py:96: RuntimeWarning: invalid value encountered in sqrt\n",
      "  return gv.gvar(mean_avg, np.sqrt(var_avg))\n",
      "/home/chris/Code/LQCD/a1_analysis/stats.py:96: RuntimeWarning: invalid value encountered in sqrt\n",
      "  return gv.gvar(mean_avg, np.sqrt(var_avg))\n",
      "/home/chris/Code/LQCD/a1_analysis/fitting.py:246: RuntimeWarning: overflow encountered in exp\n",
      "  return p[\"A0\"]*np.exp(-p[\"E0\"]*t)+p[\"A1\"]*np.exp(-p[\"E1\"]*t)+p[\"A2\"]*np.exp(-p[\"E2\"]*t)\n",
      "/home/chris/Code/LQCD/a1_analysis/stats.py:96: RuntimeWarning: invalid value encountered in sqrt\n",
      "  return gv.gvar(mean_avg, np.sqrt(var_avg))\n",
      "/home/chris/Code/LQCD/a1_analysis/stats.py:96: RuntimeWarning: invalid value encountered in sqrt\n",
      "  return gv.gvar(mean_avg, np.sqrt(var_avg))\n",
      "/home/chris/Code/LQCD/a1_analysis/fitting.py:246: RuntimeWarning: overflow encountered in exp\n",
      "  return p[\"A0\"]*np.exp(-p[\"E0\"]*t)+p[\"A1\"]*np.exp(-p[\"E1\"]*t)+p[\"A2\"]*np.exp(-p[\"E2\"]*t)\n",
      "/home/chris/Code/LQCD/a1_analysis/stats.py:96: RuntimeWarning: invalid value encountered in sqrt\n",
      "  return gv.gvar(mean_avg, np.sqrt(var_avg))\n",
      "/home/chris/Code/LQCD/a1_analysis/fitting.py:246: RuntimeWarning: overflow encountered in exp\n",
      "  return p[\"A0\"]*np.exp(-p[\"E0\"]*t)+p[\"A1\"]*np.exp(-p[\"E1\"]*t)+p[\"A2\"]*np.exp(-p[\"E2\"]*t)\n",
      "/home/chris/Code/LQCD/a1_analysis/fitting.py:246: RuntimeWarning: overflow encountered in multiply\n",
      "  return p[\"A0\"]*np.exp(-p[\"E0\"]*t)+p[\"A1\"]*np.exp(-p[\"E1\"]*t)+p[\"A2\"]*np.exp(-p[\"E2\"]*t)\n",
      "/home/chris/Code/LQCD/a1_analysis/fitting.py:246: RuntimeWarning: overflow encountered in exp\n",
      "  return p[\"A0\"]*np.exp(-p[\"E0\"]*t)+p[\"A1\"]*np.exp(-p[\"E1\"]*t)+p[\"A2\"]*np.exp(-p[\"E2\"]*t)\n",
      "/home/chris/anaconda3/envs/LQCD/lib/python3.10/site-packages/scipy/optimize/_lsq/common.py:234: RuntimeWarning: overflow encountered in double_scalars\n",
      "  ratio = actual_reduction / predicted_reduction\n"
     ]
    },
    {
     "name": "stdout",
     "output_type": "stream",
     "text": [
      "Done fitting for t0=9, td=13\n"
     ]
    },
    {
     "name": "stderr",
     "output_type": "stream",
     "text": [
      "/home/chris/Code/LQCD/a1_analysis/fitting.py:242: RuntimeWarning: overflow encountered in exp\n",
      "  return p[\"A0\"]*np.exp(-p[\"E0\"]*t)\n",
      "/home/chris/Code/LQCD/a1_analysis/fitting.py:246: RuntimeWarning: overflow encountered in exp\n",
      "  return p[\"A0\"]*np.exp(-p[\"E0\"]*t)+p[\"A1\"]*np.exp(-p[\"E1\"]*t)+p[\"A2\"]*np.exp(-p[\"E2\"]*t)\n",
      "/home/chris/Code/LQCD/a1_analysis/fitting.py:246: RuntimeWarning: overflow encountered in multiply\n",
      "  return p[\"A0\"]*np.exp(-p[\"E0\"]*t)+p[\"A1\"]*np.exp(-p[\"E1\"]*t)+p[\"A2\"]*np.exp(-p[\"E2\"]*t)\n",
      "/home/chris/Code/LQCD/a1_analysis/fitting.py:242: RuntimeWarning: overflow encountered in exp\n",
      "  return p[\"A0\"]*np.exp(-p[\"E0\"]*t)\n",
      "/home/chris/Code/LQCD/a1_analysis/fitting.py:246: RuntimeWarning: overflow encountered in exp\n",
      "  return p[\"A0\"]*np.exp(-p[\"E0\"]*t)+p[\"A1\"]*np.exp(-p[\"E1\"]*t)+p[\"A2\"]*np.exp(-p[\"E2\"]*t)\n",
      "/home/chris/Code/LQCD/a1_analysis/fitting.py:246: RuntimeWarning: overflow encountered in exp\n",
      "  return p[\"A0\"]*np.exp(-p[\"E0\"]*t)+p[\"A1\"]*np.exp(-p[\"E1\"]*t)+p[\"A2\"]*np.exp(-p[\"E2\"]*t)\n",
      "/home/chris/Code/LQCD/a1_analysis/fitting.py:246: RuntimeWarning: overflow encountered in exp\n",
      "  return p[\"A0\"]*np.exp(-p[\"E0\"]*t)+p[\"A1\"]*np.exp(-p[\"E1\"]*t)+p[\"A2\"]*np.exp(-p[\"E2\"]*t)\n",
      "/home/chris/Code/LQCD/a1_analysis/stats.py:96: RuntimeWarning: invalid value encountered in sqrt\n",
      "  return gv.gvar(mean_avg, np.sqrt(var_avg))\n",
      "/home/chris/Code/LQCD/a1_analysis/stats.py:96: RuntimeWarning: invalid value encountered in sqrt\n",
      "  return gv.gvar(mean_avg, np.sqrt(var_avg))\n",
      "/home/chris/anaconda3/envs/LQCD/lib/python3.10/site-packages/scipy/optimize/_lsq/common.py:234: RuntimeWarning: overflow encountered in double_scalars\n",
      "  ratio = actual_reduction / predicted_reduction\n",
      "/home/chris/Code/LQCD/a1_analysis/fitting.py:246: RuntimeWarning: overflow encountered in exp\n",
      "  return p[\"A0\"]*np.exp(-p[\"E0\"]*t)+p[\"A1\"]*np.exp(-p[\"E1\"]*t)+p[\"A2\"]*np.exp(-p[\"E2\"]*t)\n",
      "/home/chris/Code/LQCD/a1_analysis/stats.py:96: RuntimeWarning: invalid value encountered in sqrt\n",
      "  return gv.gvar(mean_avg, np.sqrt(var_avg))\n",
      "/home/chris/Code/LQCD/a1_analysis/stats.py:96: RuntimeWarning: invalid value encountered in sqrt\n",
      "  return gv.gvar(mean_avg, np.sqrt(var_avg))\n",
      "/home/chris/Code/LQCD/a1_analysis/stats.py:96: RuntimeWarning: invalid value encountered in sqrt\n",
      "  return gv.gvar(mean_avg, np.sqrt(var_avg))\n",
      "/home/chris/Code/LQCD/a1_analysis/fitting.py:242: RuntimeWarning: overflow encountered in exp\n",
      "  return p[\"A0\"]*np.exp(-p[\"E0\"]*t)\n",
      "/home/chris/Code/LQCD/a1_analysis/fitting.py:246: RuntimeWarning: overflow encountered in multiply\n",
      "  return p[\"A0\"]*np.exp(-p[\"E0\"]*t)+p[\"A1\"]*np.exp(-p[\"E1\"]*t)+p[\"A2\"]*np.exp(-p[\"E2\"]*t)\n",
      "/home/chris/Code/LQCD/a1_analysis/fitting.py:242: RuntimeWarning: overflow encountered in exp\n",
      "  return p[\"A0\"]*np.exp(-p[\"E0\"]*t)\n",
      "/home/chris/Code/LQCD/a1_analysis/fitting.py:246: RuntimeWarning: overflow encountered in exp\n",
      "  return p[\"A0\"]*np.exp(-p[\"E0\"]*t)+p[\"A1\"]*np.exp(-p[\"E1\"]*t)+p[\"A2\"]*np.exp(-p[\"E2\"]*t)\n",
      "/home/chris/anaconda3/envs/LQCD/lib/python3.10/site-packages/scipy/optimize/_lsq/common.py:234: RuntimeWarning: overflow encountered in double_scalars\n",
      "  ratio = actual_reduction / predicted_reduction\n"
     ]
    },
    {
     "name": "stdout",
     "output_type": "stream",
     "text": [
      "Done fitting for t0=9, td=14\n"
     ]
    },
    {
     "name": "stderr",
     "output_type": "stream",
     "text": [
      "/home/chris/Code/LQCD/a1_analysis/fitting.py:242: RuntimeWarning: overflow encountered in exp\n",
      "  return p[\"A0\"]*np.exp(-p[\"E0\"]*t)\n",
      "/home/chris/Code/LQCD/a1_analysis/fitting.py:246: RuntimeWarning: overflow encountered in exp\n",
      "  return p[\"A0\"]*np.exp(-p[\"E0\"]*t)+p[\"A1\"]*np.exp(-p[\"E1\"]*t)+p[\"A2\"]*np.exp(-p[\"E2\"]*t)\n",
      "/home/chris/Code/LQCD/a1_analysis/fitting.py:246: RuntimeWarning: overflow encountered in exp\n",
      "  return p[\"A0\"]*np.exp(-p[\"E0\"]*t)+p[\"A1\"]*np.exp(-p[\"E1\"]*t)+p[\"A2\"]*np.exp(-p[\"E2\"]*t)\n",
      "/home/chris/Code/LQCD/a1_analysis/stats.py:96: RuntimeWarning: invalid value encountered in sqrt\n",
      "  return gv.gvar(mean_avg, np.sqrt(var_avg))\n",
      "/home/chris/Code/LQCD/a1_analysis/fitting.py:246: RuntimeWarning: overflow encountered in exp\n",
      "  return p[\"A0\"]*np.exp(-p[\"E0\"]*t)+p[\"A1\"]*np.exp(-p[\"E1\"]*t)+p[\"A2\"]*np.exp(-p[\"E2\"]*t)\n",
      "/home/chris/Code/LQCD/a1_analysis/stats.py:96: RuntimeWarning: invalid value encountered in sqrt\n",
      "  return gv.gvar(mean_avg, np.sqrt(var_avg))\n",
      "/home/chris/Code/LQCD/a1_analysis/fitting.py:246: RuntimeWarning: overflow encountered in exp\n",
      "  return p[\"A0\"]*np.exp(-p[\"E0\"]*t)+p[\"A1\"]*np.exp(-p[\"E1\"]*t)+p[\"A2\"]*np.exp(-p[\"E2\"]*t)\n",
      "/home/chris/Code/LQCD/a1_analysis/stats.py:96: RuntimeWarning: invalid value encountered in sqrt\n",
      "  return gv.gvar(mean_avg, np.sqrt(var_avg))\n",
      "/home/chris/Code/LQCD/a1_analysis/stats.py:96: RuntimeWarning: invalid value encountered in sqrt\n",
      "  return gv.gvar(mean_avg, np.sqrt(var_avg))\n",
      "/home/chris/Code/LQCD/a1_analysis/fitting.py:242: RuntimeWarning: overflow encountered in exp\n",
      "  return p[\"A0\"]*np.exp(-p[\"E0\"]*t)\n",
      "/home/chris/Code/LQCD/a1_analysis/fitting.py:246: RuntimeWarning: overflow encountered in exp\n",
      "  return p[\"A0\"]*np.exp(-p[\"E0\"]*t)+p[\"A1\"]*np.exp(-p[\"E1\"]*t)+p[\"A2\"]*np.exp(-p[\"E2\"]*t)\n",
      "/home/chris/Code/LQCD/a1_analysis/fitting.py:246: RuntimeWarning: overflow encountered in exp\n",
      "  return p[\"A0\"]*np.exp(-p[\"E0\"]*t)+p[\"A1\"]*np.exp(-p[\"E1\"]*t)+p[\"A2\"]*np.exp(-p[\"E2\"]*t)\n"
     ]
    },
    {
     "name": "stdout",
     "output_type": "stream",
     "text": [
      "Done fitting for t0=9, td=15\n"
     ]
    },
    {
     "name": "stderr",
     "output_type": "stream",
     "text": [
      "/home/chris/Code/LQCD/a1_analysis/fitting.py:246: RuntimeWarning: overflow encountered in exp\n",
      "  return p[\"A0\"]*np.exp(-p[\"E0\"]*t)+p[\"A1\"]*np.exp(-p[\"E1\"]*t)+p[\"A2\"]*np.exp(-p[\"E2\"]*t)\n",
      "/home/chris/Code/LQCD/a1_analysis/fitting.py:246: RuntimeWarning: overflow encountered in exp\n",
      "  return p[\"A0\"]*np.exp(-p[\"E0\"]*t)+p[\"A1\"]*np.exp(-p[\"E1\"]*t)+p[\"A2\"]*np.exp(-p[\"E2\"]*t)\n",
      "/home/chris/Code/LQCD/a1_analysis/fitting.py:246: RuntimeWarning: overflow encountered in exp\n",
      "  return p[\"A0\"]*np.exp(-p[\"E0\"]*t)+p[\"A1\"]*np.exp(-p[\"E1\"]*t)+p[\"A2\"]*np.exp(-p[\"E2\"]*t)\n",
      "/home/chris/Code/LQCD/a1_analysis/fitting.py:246: RuntimeWarning: overflow encountered in exp\n",
      "  return p[\"A0\"]*np.exp(-p[\"E0\"]*t)+p[\"A1\"]*np.exp(-p[\"E1\"]*t)+p[\"A2\"]*np.exp(-p[\"E2\"]*t)\n",
      "/home/chris/Code/LQCD/a1_analysis/stats.py:96: RuntimeWarning: invalid value encountered in sqrt\n",
      "  return gv.gvar(mean_avg, np.sqrt(var_avg))\n",
      "/home/chris/anaconda3/envs/LQCD/lib/python3.10/site-packages/scipy/optimize/_lsq/common.py:234: RuntimeWarning: overflow encountered in double_scalars\n",
      "  ratio = actual_reduction / predicted_reduction\n",
      "/home/chris/Code/LQCD/a1_analysis/stats.py:96: RuntimeWarning: invalid value encountered in sqrt\n",
      "  return gv.gvar(mean_avg, np.sqrt(var_avg))\n",
      "/home/chris/Code/LQCD/a1_analysis/stats.py:96: RuntimeWarning: invalid value encountered in sqrt\n",
      "  return gv.gvar(mean_avg, np.sqrt(var_avg))\n",
      "/home/chris/Code/LQCD/a1_analysis/stats.py:96: RuntimeWarning: invalid value encountered in sqrt\n",
      "  return gv.gvar(mean_avg, np.sqrt(var_avg))\n",
      "/home/chris/Code/LQCD/a1_analysis/stats.py:96: RuntimeWarning: invalid value encountered in sqrt\n",
      "  return gv.gvar(mean_avg, np.sqrt(var_avg))\n",
      "/home/chris/Code/LQCD/a1_analysis/fitting.py:246: RuntimeWarning: overflow encountered in exp\n",
      "  return p[\"A0\"]*np.exp(-p[\"E0\"]*t)+p[\"A1\"]*np.exp(-p[\"E1\"]*t)+p[\"A2\"]*np.exp(-p[\"E2\"]*t)\n",
      "/home/chris/anaconda3/envs/LQCD/lib/python3.10/site-packages/scipy/optimize/_lsq/common.py:234: RuntimeWarning: overflow encountered in double_scalars\n",
      "  ratio = actual_reduction / predicted_reduction\n"
     ]
    },
    {
     "name": "stdout",
     "output_type": "stream",
     "text": [
      "Done fitting for t0=9, td=16\n"
     ]
    },
    {
     "name": "stderr",
     "output_type": "stream",
     "text": [
      "/home/chris/Code/LQCD/a1_analysis/fitting.py:242: RuntimeWarning: overflow encountered in exp\n",
      "  return p[\"A0\"]*np.exp(-p[\"E0\"]*t)\n",
      "/home/chris/Code/LQCD/a1_analysis/fitting.py:246: RuntimeWarning: overflow encountered in exp\n",
      "  return p[\"A0\"]*np.exp(-p[\"E0\"]*t)+p[\"A1\"]*np.exp(-p[\"E1\"]*t)+p[\"A2\"]*np.exp(-p[\"E2\"]*t)\n",
      "/home/chris/Code/LQCD/a1_analysis/fitting.py:246: RuntimeWarning: overflow encountered in exp\n",
      "  return p[\"A0\"]*np.exp(-p[\"E0\"]*t)+p[\"A1\"]*np.exp(-p[\"E1\"]*t)+p[\"A2\"]*np.exp(-p[\"E2\"]*t)\n",
      "/home/chris/Code/LQCD/a1_analysis/fitting.py:246: RuntimeWarning: overflow encountered in exp\n",
      "  return p[\"A0\"]*np.exp(-p[\"E0\"]*t)+p[\"A1\"]*np.exp(-p[\"E1\"]*t)+p[\"A2\"]*np.exp(-p[\"E2\"]*t)\n",
      "/home/chris/Code/LQCD/a1_analysis/stats.py:96: RuntimeWarning: invalid value encountered in sqrt\n",
      "  return gv.gvar(mean_avg, np.sqrt(var_avg))\n",
      "/home/chris/Code/LQCD/a1_analysis/stats.py:96: RuntimeWarning: invalid value encountered in sqrt\n",
      "  return gv.gvar(mean_avg, np.sqrt(var_avg))\n",
      "/home/chris/Code/LQCD/a1_analysis/fitting.py:246: RuntimeWarning: overflow encountered in exp\n",
      "  return p[\"A0\"]*np.exp(-p[\"E0\"]*t)+p[\"A1\"]*np.exp(-p[\"E1\"]*t)+p[\"A2\"]*np.exp(-p[\"E2\"]*t)\n",
      "/home/chris/Code/LQCD/a1_analysis/stats.py:96: RuntimeWarning: invalid value encountered in sqrt\n",
      "  return gv.gvar(mean_avg, np.sqrt(var_avg))\n",
      "/home/chris/anaconda3/envs/LQCD/lib/python3.10/site-packages/scipy/optimize/_lsq/common.py:234: RuntimeWarning: overflow encountered in double_scalars\n",
      "  ratio = actual_reduction / predicted_reduction\n",
      "/home/chris/anaconda3/envs/LQCD/lib/python3.10/site-packages/scipy/optimize/_lsq/common.py:234: RuntimeWarning: overflow encountered in double_scalars\n",
      "  ratio = actual_reduction / predicted_reduction\n",
      "/home/chris/Code/LQCD/a1_analysis/stats.py:96: RuntimeWarning: invalid value encountered in sqrt\n",
      "  return gv.gvar(mean_avg, np.sqrt(var_avg))\n",
      "/home/chris/Code/LQCD/a1_analysis/fitting.py:246: RuntimeWarning: overflow encountered in exp\n",
      "  return p[\"A0\"]*np.exp(-p[\"E0\"]*t)+p[\"A1\"]*np.exp(-p[\"E1\"]*t)+p[\"A2\"]*np.exp(-p[\"E2\"]*t)\n",
      "/home/chris/Code/LQCD/a1_analysis/fitting.py:246: RuntimeWarning: overflow encountered in multiply\n",
      "  return p[\"A0\"]*np.exp(-p[\"E0\"]*t)+p[\"A1\"]*np.exp(-p[\"E1\"]*t)+p[\"A2\"]*np.exp(-p[\"E2\"]*t)\n",
      "/home/chris/Code/LQCD/a1_analysis/stats.py:96: RuntimeWarning: invalid value encountered in sqrt\n",
      "  return gv.gvar(mean_avg, np.sqrt(var_avg))\n",
      "/home/chris/Code/LQCD/a1_analysis/fitting.py:242: RuntimeWarning: overflow encountered in exp\n",
      "  return p[\"A0\"]*np.exp(-p[\"E0\"]*t)\n",
      "/home/chris/Code/LQCD/a1_analysis/fitting.py:246: RuntimeWarning: overflow encountered in exp\n",
      "  return p[\"A0\"]*np.exp(-p[\"E0\"]*t)+p[\"A1\"]*np.exp(-p[\"E1\"]*t)+p[\"A2\"]*np.exp(-p[\"E2\"]*t)\n",
      "/home/chris/anaconda3/envs/LQCD/lib/python3.10/site-packages/scipy/optimize/_lsq/common.py:234: RuntimeWarning: overflow encountered in double_scalars\n",
      "  ratio = actual_reduction / predicted_reduction\n",
      "/home/chris/anaconda3/envs/LQCD/lib/python3.10/site-packages/scipy/optimize/_lsq/common.py:234: RuntimeWarning: overflow encountered in double_scalars\n",
      "  ratio = actual_reduction / predicted_reduction\n",
      "/home/chris/Code/LQCD/a1_analysis/fitting.py:246: RuntimeWarning: overflow encountered in multiply\n",
      "  return p[\"A0\"]*np.exp(-p[\"E0\"]*t)+p[\"A1\"]*np.exp(-p[\"E1\"]*t)+p[\"A2\"]*np.exp(-p[\"E2\"]*t)\n"
     ]
    },
    {
     "name": "stdout",
     "output_type": "stream",
     "text": [
      "Done fitting for t0=9, td=17\n"
     ]
    },
    {
     "name": "stderr",
     "output_type": "stream",
     "text": [
      "/home/chris/anaconda3/envs/LQCD/lib/python3.10/site-packages/scipy/optimize/_lsq/common.py:234: RuntimeWarning: overflow encountered in double_scalars\n",
      "  ratio = actual_reduction / predicted_reduction\n",
      "/home/chris/Code/LQCD/a1_analysis/fitting.py:246: RuntimeWarning: overflow encountered in exp\n",
      "  return p[\"A0\"]*np.exp(-p[\"E0\"]*t)+p[\"A1\"]*np.exp(-p[\"E1\"]*t)+p[\"A2\"]*np.exp(-p[\"E2\"]*t)\n",
      "/home/chris/Code/LQCD/a1_analysis/fitting.py:246: RuntimeWarning: overflow encountered in exp\n",
      "  return p[\"A0\"]*np.exp(-p[\"E0\"]*t)+p[\"A1\"]*np.exp(-p[\"E1\"]*t)+p[\"A2\"]*np.exp(-p[\"E2\"]*t)\n",
      "/home/chris/Code/LQCD/a1_analysis/fitting.py:246: RuntimeWarning: overflow encountered in exp\n",
      "  return p[\"A0\"]*np.exp(-p[\"E0\"]*t)+p[\"A1\"]*np.exp(-p[\"E1\"]*t)+p[\"A2\"]*np.exp(-p[\"E2\"]*t)\n",
      "/home/chris/Code/LQCD/a1_analysis/fitting.py:246: RuntimeWarning: overflow encountered in exp\n",
      "  return p[\"A0\"]*np.exp(-p[\"E0\"]*t)+p[\"A1\"]*np.exp(-p[\"E1\"]*t)+p[\"A2\"]*np.exp(-p[\"E2\"]*t)\n",
      "/home/chris/Code/LQCD/a1_analysis/stats.py:96: RuntimeWarning: invalid value encountered in sqrt\n",
      "  return gv.gvar(mean_avg, np.sqrt(var_avg))\n",
      "/home/chris/Code/LQCD/a1_analysis/stats.py:96: RuntimeWarning: invalid value encountered in sqrt\n",
      "  return gv.gvar(mean_avg, np.sqrt(var_avg))\n",
      "/home/chris/Code/LQCD/a1_analysis/stats.py:96: RuntimeWarning: invalid value encountered in sqrt\n",
      "  return gv.gvar(mean_avg, np.sqrt(var_avg))\n",
      "/home/chris/Code/LQCD/a1_analysis/stats.py:96: RuntimeWarning: invalid value encountered in sqrt\n",
      "  return gv.gvar(mean_avg, np.sqrt(var_avg))\n",
      "/home/chris/Code/LQCD/a1_analysis/fitting.py:246: RuntimeWarning: overflow encountered in exp\n",
      "  return p[\"A0\"]*np.exp(-p[\"E0\"]*t)+p[\"A1\"]*np.exp(-p[\"E1\"]*t)+p[\"A2\"]*np.exp(-p[\"E2\"]*t)\n"
     ]
    },
    {
     "name": "stdout",
     "output_type": "stream",
     "text": [
      "Done fitting for t0=9, td=18\n"
     ]
    }
   ],
   "source": [
    "fitTypes={}\n",
    "fitTypes['single']={'fcn': single_exp, 'p0': p0_single()}\n",
    "# fitTypes['double']={'fcn': double_exp, 'p0': p0_double()}\n",
    "fitTypes['triple']={'fcn': triple_exp, 'p0': p0_triple()}\n",
    "\n",
    "#niData=niFile_to_dict(\"L4848_a2g.hdf5\",\"A2g\")\n",
    "\n",
    "allEnergies={'mavg': {}, 'best': {}}\n",
    "fitEns=5\n",
    "for t0 in range(2,10):\n",
    "    for td in range(t0+1, 2*t0+1):\n",
    "        if td<NT-2:\n",
    "            pivotedCorr=get_pivoted_corr(corrMatrix,t0,td)\n",
    "\n",
    "            getModelAvg = lambda en : perform_model_avg(pivotedCorr, en, fitTypes, t0, NT, mpi)\n",
    "            getBestFit = lambda en: perform_best_fit(pivotedCorr, en, fitTypes, t0, NT, mpi)\n",
    "\n",
    "            mpPool = MP.Pool(6)    \n",
    "            mAvgs = list(mpPool.map(getModelAvg, range(fitEns)))\n",
    "            bestFits = list(mpPool.map(getBestFit, range(fitEns)))\n",
    "\n",
    "            #getFits = lambda en : perform_many_fits(pivotedCorr, en, fitTypes, t0, NT, mpi)\n",
    "            #mpPool = MP.Pool(6)    \n",
    "            #allFitData = list(mpPool.map(getFits, range(fitEns)))\n",
    "            \n",
    "            #mAvgs=[]\n",
    "            #bestFits=[]\n",
    "            #for en in range(fitEns):\n",
    "            #    allFits, model_probs, energies = allFitData[en]\n",
    "            \n",
    "            #    allFits, model_probs, energies = remove_bad_fits(allFits, model_probs, energies, mpi)\n",
    "            #    mAvgs.append(model_avg(energies, model_probs))\n",
    "            #    bestFits.append(min_chi2_fit(energies, allFits))\n",
    "\n",
    "\n",
    "            tLabel = \"{},{}\".format(t0,td)\n",
    "            allEnergies['mavg'][tLabel]=mAvgs\n",
    "            allEnergies['best'][tLabel]=bestFits\n",
    "\n",
    "            print(\"Done fitting for t0={}, td={}\".format(t0,td))"
   ]
  },
  {
   "cell_type": "code",
   "execution_count": 15,
   "metadata": {},
   "outputs": [],
   "source": [
    "t0=4\n",
    "td=5\n",
    "pivotedCorr=get_pivoted_corr(corrMatrix,t0,td)\n",
    "allFitInfos={}"
   ]
  },
  {
   "cell_type": "code",
   "execution_count": 18,
   "metadata": {},
   "outputs": [
    {
     "data": {
      "text/plain": [
       "(2.0, 5.0)"
      ]
     },
     "execution_count": 18,
     "metadata": {},
     "output_type": "execute_result"
    },
    {
     "data": {
      "image/png": "[encoded data removed]",
      "text/plain": [
       "<Figure size 2400x800 with 1 Axes>"
      ]
     },
     "metadata": {},
     "output_type": "display_data"
    }
   ],
   "source": [
    "#niData=niFile_to_dict(\"L4848_a2g.hdf5\",\"A2g\")\n",
    "plt.figure(figsize=(24,8))\n",
    "plot_t0td_fit_results(allEnergies, 'mavg', mpi)\n",
    "plt.xlim(-0.5,len(allEnergies['mavg'])+0.5)\n",
    "plt.ylim(2.0,5)\n",
    "#plot_ni_levels(niData)"
   ]
  },
  {
   "cell_type": "code",
   "execution_count": 17,
   "metadata": {},
   "outputs": [
    {
     "name": "stderr",
     "output_type": "stream",
     "text": [
      "/home/chris/Code/LQCD/a1_analysis/fitting.py:246: RuntimeWarning: overflow encountered in exp\n",
      "  return p[\"A0\"]*np.exp(-p[\"E0\"]*t)+p[\"A1\"]*np.exp(-p[\"E1\"]*t)+p[\"A2\"]*np.exp(-p[\"E2\"]*t)\n",
      "/home/chris/Code/LQCD/a1_analysis/fitting.py:246: RuntimeWarning: invalid value encountered in add\n",
      "  return p[\"A0\"]*np.exp(-p[\"E0\"]*t)+p[\"A1\"]*np.exp(-p[\"E1\"]*t)+p[\"A2\"]*np.exp(-p[\"E2\"]*t)\n",
      "/home/chris/Code/LQCD/a1_analysis/fitting.py:246: RuntimeWarning: overflow encountered in multiply\n",
      "  return p[\"A0\"]*np.exp(-p[\"E0\"]*t)+p[\"A1\"]*np.exp(-p[\"E1\"]*t)+p[\"A2\"]*np.exp(-p[\"E2\"]*t)\n",
      "/home/chris/Code/LQCD/a1_analysis/stats.py:96: RuntimeWarning: invalid value encountered in sqrt\n",
      "  return gv.gvar(mean_avg, np.sqrt(var_avg))\n",
      "/home/chris/Code/LQCD/a1_analysis/plotting.py:13: RuntimeWarning: invalid value encountered in log\n",
      "  effMass = lambda en: np.array([gvar.log(corrErr(en)[t]/corrErr(en)[t+1]) for t in range(NT-1)])/mpi\n"
     ]
    },
    {
     "name": "stdout",
     "output_type": "stream",
     "text": [
      "6.08141 +- nan\n"
     ]
    },
    {
     "ename": "ValueError",
     "evalue": "'yerr' must not contain negative values",
     "output_type": "error",
     "traceback": [
      "\u001b[0;31m---------------------------------------------------------------------------\u001b[0m",
      "\u001b[0;31mValueError\u001b[0m                                Traceback (most recent call last)",
      "\u001b[1;32m/home/chris/Code/LQCD/a1_analysis/L3264_P000.ipynb Cell 26\u001b[0m in \u001b[0;36m1\n\u001b[1;32m      <a href='vscode-notebook-cell:/home/chris/Code/LQCD/a1_analysis/L3264_P000.ipynb#X32sZmlsZQ%3D%3D?line=7'>8</a>\u001b[0m mAvg\u001b[39m=\u001b[39mmodel_avg(energies, model_probs)\n\u001b[1;32m      <a href='vscode-notebook-cell:/home/chris/Code/LQCD/a1_analysis/L3264_P000.ipynb#X32sZmlsZQ%3D%3D?line=8'>9</a>\u001b[0m \u001b[39mprint\u001b[39m(mAvg\u001b[39m/\u001b[39mmpi)\n\u001b[0;32m---> <a href='vscode-notebook-cell:/home/chris/Code/LQCD/a1_analysis/L3264_P000.ipynb#X32sZmlsZQ%3D%3D?line=9'>10</a>\u001b[0m model_average_summary_plot(pivotedCorr, en, energies, model_probs, mAvg, mpi, emYlim\u001b[39m=\u001b[39;49m[\u001b[39m3\u001b[39;49m,\u001b[39m5\u001b[39;49m])\n\u001b[1;32m     <a href='vscode-notebook-cell:/home/chris/Code/LQCD/a1_analysis/L3264_P000.ipynb#X32sZmlsZQ%3D%3D?line=11'>12</a>\u001b[0m allFitInfos[en]\u001b[39m=\u001b[39mfitinfos\n",
      "File \u001b[0;32m~/Code/LQCD/a1_analysis/plotting.py:36\u001b[0m, in \u001b[0;36mmodel_average_summary_plot\u001b[0;34m(pivotedCorr, en, energies, model_probs, mAvg, mpi, emYlim)\u001b[0m\n\u001b[1;32m     33\u001b[0m \u001b[39mif\u001b[39;00m emYlim \u001b[39mis\u001b[39;00m \u001b[39mnot\u001b[39;00m \u001b[39mNone\u001b[39;00m:\n\u001b[1;32m     34\u001b[0m     axLeft\u001b[39m.\u001b[39mset_ylim(emYlim[\u001b[39m0\u001b[39m],emYlim[\u001b[39m1\u001b[39m])\n\u001b[0;32m---> 36\u001b[0m axTopRight\u001b[39m.\u001b[39;49merrorbar([i \u001b[39mfor\u001b[39;49;00m i \u001b[39min\u001b[39;49;00m \u001b[39mrange\u001b[39;49m(\u001b[39mlen\u001b[39;49m(energies))], [e\u001b[39m.\u001b[39;49mmean\u001b[39m/\u001b[39;49mmpi \u001b[39mfor\u001b[39;49;00m e \u001b[39min\u001b[39;49;00m energies], yerr\u001b[39m=\u001b[39;49m[e\u001b[39m.\u001b[39;49msdev\u001b[39m/\u001b[39;49mmpi \u001b[39mfor\u001b[39;49;00m e \u001b[39min\u001b[39;49;00m energies],\n\u001b[1;32m     37\u001b[0m     linestyle\u001b[39m=\u001b[39;49m\u001b[39m\"\u001b[39;49m\u001b[39mNone\u001b[39;49m\u001b[39m\"\u001b[39;49m, marker\u001b[39m=\u001b[39;49m\u001b[39m\"\u001b[39;49m\u001b[39m.\u001b[39;49m\u001b[39m\"\u001b[39;49m, lw\u001b[39m=\u001b[39;49m\u001b[39m1\u001b[39;49m, color\u001b[39m=\u001b[39;49m\u001b[39m'\u001b[39;49m\u001b[39mblack\u001b[39;49m\u001b[39m'\u001b[39;49m)\n\u001b[1;32m     38\u001b[0m axTopRight\u001b[39m.\u001b[39merrorbar([\u001b[39mlen\u001b[39m(energies)\u001b[39m+\u001b[39m\u001b[39m1\u001b[39m], [mAvg\u001b[39m.\u001b[39mmean\u001b[39m/\u001b[39mmpi], yerr\u001b[39m=\u001b[39m[mAvg\u001b[39m.\u001b[39msdev\u001b[39m/\u001b[39mmpi],\n\u001b[1;32m     39\u001b[0m     linestyle\u001b[39m=\u001b[39m\u001b[39m\"\u001b[39m\u001b[39mNone\u001b[39m\u001b[39m\"\u001b[39m, marker\u001b[39m=\u001b[39m\u001b[39m\"\u001b[39m\u001b[39m.\u001b[39m\u001b[39m\"\u001b[39m, lw\u001b[39m=\u001b[39m\u001b[39m1\u001b[39m, color\u001b[39m=\u001b[39m\u001b[39m'\u001b[39m\u001b[39mred\u001b[39m\u001b[39m'\u001b[39m)\n\u001b[1;32m     41\u001b[0m axTopRight\u001b[39m.\u001b[39mset_xlim(\u001b[39m-\u001b[39m\u001b[39m0.5\u001b[39m,\u001b[39mlen\u001b[39m(model_probs)\u001b[39m+\u001b[39m\u001b[39m1.5\u001b[39m)\n",
      "File \u001b[0;32m~/anaconda3/envs/LQCD/lib/python3.10/site-packages/matplotlib/__init__.py:1423\u001b[0m, in \u001b[0;36m_preprocess_data.<locals>.inner\u001b[0;34m(ax, data, *args, **kwargs)\u001b[0m\n\u001b[1;32m   1420\u001b[0m \u001b[39m@functools\u001b[39m\u001b[39m.\u001b[39mwraps(func)\n\u001b[1;32m   1421\u001b[0m \u001b[39mdef\u001b[39;00m \u001b[39minner\u001b[39m(ax, \u001b[39m*\u001b[39margs, data\u001b[39m=\u001b[39m\u001b[39mNone\u001b[39;00m, \u001b[39m*\u001b[39m\u001b[39m*\u001b[39mkwargs):\n\u001b[1;32m   1422\u001b[0m     \u001b[39mif\u001b[39;00m data \u001b[39mis\u001b[39;00m \u001b[39mNone\u001b[39;00m:\n\u001b[0;32m-> 1423\u001b[0m         \u001b[39mreturn\u001b[39;00m func(ax, \u001b[39m*\u001b[39;49m\u001b[39mmap\u001b[39;49m(sanitize_sequence, args), \u001b[39m*\u001b[39;49m\u001b[39m*\u001b[39;49mkwargs)\n\u001b[1;32m   1425\u001b[0m     bound \u001b[39m=\u001b[39m new_sig\u001b[39m.\u001b[39mbind(ax, \u001b[39m*\u001b[39margs, \u001b[39m*\u001b[39m\u001b[39m*\u001b[39mkwargs)\n\u001b[1;32m   1426\u001b[0m     auto_label \u001b[39m=\u001b[39m (bound\u001b[39m.\u001b[39marguments\u001b[39m.\u001b[39mget(label_namer)\n\u001b[1;32m   1427\u001b[0m                   \u001b[39mor\u001b[39;00m bound\u001b[39m.\u001b[39mkwargs\u001b[39m.\u001b[39mget(label_namer))\n",
      "File \u001b[0;32m~/anaconda3/envs/LQCD/lib/python3.10/site-packages/matplotlib/axes/_axes.py:3595\u001b[0m, in \u001b[0;36mAxes.errorbar\u001b[0;34m(self, x, y, yerr, xerr, fmt, ecolor, elinewidth, capsize, barsabove, lolims, uplims, xlolims, xuplims, errorevery, capthick, **kwargs)\u001b[0m\n\u001b[1;32m   3592\u001b[0m res \u001b[39m=\u001b[39m np\u001b[39m.\u001b[39mzeros(err\u001b[39m.\u001b[39mshape, dtype\u001b[39m=\u001b[39m\u001b[39mbool\u001b[39m)  \u001b[39m# Default in case of nan\u001b[39;00m\n\u001b[1;32m   3593\u001b[0m \u001b[39mif\u001b[39;00m np\u001b[39m.\u001b[39many(np\u001b[39m.\u001b[39mless(err, \u001b[39m-\u001b[39merr, out\u001b[39m=\u001b[39mres, where\u001b[39m=\u001b[39m(err \u001b[39m==\u001b[39m err))):\n\u001b[1;32m   3594\u001b[0m     \u001b[39m# like err<0, but also works for timedelta and nan.\u001b[39;00m\n\u001b[0;32m-> 3595\u001b[0m     \u001b[39mraise\u001b[39;00m \u001b[39mValueError\u001b[39;00m(\n\u001b[1;32m   3596\u001b[0m         \u001b[39mf\u001b[39m\u001b[39m\"\u001b[39m\u001b[39m'\u001b[39m\u001b[39m{\u001b[39;00mdep_axis\u001b[39m}\u001b[39;00m\u001b[39merr\u001b[39m\u001b[39m'\u001b[39m\u001b[39m must not contain negative values\u001b[39m\u001b[39m\"\u001b[39m)\n\u001b[1;32m   3597\u001b[0m \u001b[39m# This is like\u001b[39;00m\n\u001b[1;32m   3598\u001b[0m \u001b[39m#     elow, ehigh = np.broadcast_to(...)\u001b[39;00m\n\u001b[1;32m   3599\u001b[0m \u001b[39m#     return dep - elow * ~lolims, dep + ehigh * ~uplims\u001b[39;00m\n\u001b[1;32m   3600\u001b[0m \u001b[39m# except that broadcast_to would strip units.\u001b[39;00m\n\u001b[1;32m   3601\u001b[0m low, high \u001b[39m=\u001b[39m dep \u001b[39m+\u001b[39m np\u001b[39m.\u001b[39mrow_stack([\u001b[39m-\u001b[39m(\u001b[39m1\u001b[39m \u001b[39m-\u001b[39m lolims), \u001b[39m1\u001b[39m \u001b[39m-\u001b[39m uplims]) \u001b[39m*\u001b[39m err\n",
      "\u001b[0;31mValueError\u001b[0m: 'yerr' must not contain negative values"
     ]
    },
    {
     "data": {
      "image/png": "[encoded data removed]",
      "text/plain": [
       "<Figure size 1400x600 with 3 Axes>"
      ]
     },
     "metadata": {},
     "output_type": "display_data"
    }
   ],
   "source": [
    "en=0\n",
    "fitTypes={}\n",
    "fitTypes['single']={'fcn': single_exp, 'p0': p0_single()}\n",
    "fitTypes['triple']={'fcn': triple_exp, 'p0': p0_triple()}\n",
    "allFits, fitinfos, model_probs, energies = perform_many_fits(pivotedCorr, en, fitTypes, t0, NT-2, mpi)\n",
    "allFits, fitinfos, model_probs, energies = remove_bad_fits(allFits, fitinfos, model_probs,energies, mpi, sdevCut=0.5, probCut=0.01\n",
    ")\n",
    "mAvg=model_avg(energies, model_probs)\n",
    "print(mAvg/mpi)\n",
    "model_average_summary_plot(pivotedCorr, en, energies, model_probs, mAvg, mpi, emYlim=[3,5])\n",
    "\n",
    "allFitInfos[en]=fitinfos"
   ]
  },
  {
   "cell_type": "code",
   "execution_count": null,
   "metadata": {},
   "outputs": [
    {
     "name": "stderr",
     "output_type": "stream",
     "text": [
      "/home/chris/Code/LQCD/a1_analysis/fitting.py:242: RuntimeWarning: overflow encountered in exp\n",
      "  return p[\"A0\"]*np.exp(-p[\"E0\"]*t)\n",
      "/home/chris/Code/LQCD/a1_analysis/fitting.py:246: RuntimeWarning: overflow encountered in exp\n",
      "  return p[\"A0\"]*np.exp(-p[\"E0\"]*t)+p[\"A1\"]*np.exp(-p[\"E1\"]*t)+p[\"A2\"]*np.exp(-p[\"E2\"]*t)\n",
      "/home/chris/Code/LQCD/a1_analysis/fitting.py:246: RuntimeWarning: invalid value encountered in add\n",
      "  return p[\"A0\"]*np.exp(-p[\"E0\"]*t)+p[\"A1\"]*np.exp(-p[\"E1\"]*t)+p[\"A2\"]*np.exp(-p[\"E2\"]*t)\n",
      "/home/chris/Code/LQCD/a1_analysis/fitting.py:246: RuntimeWarning: overflow encountered in multiply\n",
      "  return p[\"A0\"]*np.exp(-p[\"E0\"]*t)+p[\"A1\"]*np.exp(-p[\"E1\"]*t)+p[\"A2\"]*np.exp(-p[\"E2\"]*t)\n"
     ]
    },
    {
     "name": "stdout",
     "output_type": "stream",
     "text": [
      "4.502(75)\n"
     ]
    },
    {
     "data": {
      "image/png": "[encoded data removed]",
      "text/plain": [
       "<Figure size 1008x432 with 3 Axes>"
      ]
     },
     "metadata": {
      "needs_background": "light"
     },
     "output_type": "display_data"
    }
   ],
   "source": [
    "en=2\n",
    "fitTypes={}\n",
    "fitTypes['single']={'fcn': single_exp, 'p0': p0_single()}\n",
    "fitTypes['triple']={'fcn': triple_exp, 'p0': p0_triple()}\n",
    "allFits, fitinfos, model_probs, energies = perform_many_fits(pivotedCorr, en, fitTypes, t0, NT-2, mpi)\n",
    "allFits, fitinfos, model_probs, energies = remove_bad_fits(allFits, fitinfos, model_probs,energies, mpi, sdevCut=0.5, probCut=0.01\n",
    ")\n",
    "mAvg=model_avg(energies, model_probs)\n",
    "print(mAvg/mpi)\n",
    "model_average_summary_plot(pivotedCorr, en, energies, model_probs, mAvg, mpi, emYlim=[3,5])\n",
    "\n",
    "allFitInfos[en]=fitinfos"
   ]
  },
  {
   "cell_type": "code",
   "execution_count": null,
   "metadata": {},
   "outputs": [
    {
     "name": "stderr",
     "output_type": "stream",
     "text": [
      "/home/chris/Code/LQCD/a1_analysis/fitting.py:246: RuntimeWarning: overflow encountered in exp\n",
      "  return p[\"A0\"]*np.exp(-p[\"E0\"]*t)+p[\"A1\"]*np.exp(-p[\"E1\"]*t)+p[\"A2\"]*np.exp(-p[\"E2\"]*t)\n",
      "/home/chris/Code/LQCD/a1_analysis/fitting.py:246: RuntimeWarning: invalid value encountered in add\n",
      "  return p[\"A0\"]*np.exp(-p[\"E0\"]*t)+p[\"A1\"]*np.exp(-p[\"E1\"]*t)+p[\"A2\"]*np.exp(-p[\"E2\"]*t)\n",
      "/home/chris/Code/LQCD/a1_analysis/fitting.py:246: RuntimeWarning: overflow encountered in multiply\n",
      "  return p[\"A0\"]*np.exp(-p[\"E0\"]*t)+p[\"A1\"]*np.exp(-p[\"E1\"]*t)+p[\"A2\"]*np.exp(-p[\"E2\"]*t)\n",
      "/home/chris/anaconda3/envs/LQCD/lib/python3.9/site-packages/scipy/optimize/_lsq/common.py:234: RuntimeWarning: overflow encountered in double_scalars\n",
      "  ratio = actual_reduction / predicted_reduction\n"
     ]
    },
    {
     "name": "stdout",
     "output_type": "stream",
     "text": [
      "5.29(13)\n"
     ]
    },
    {
     "data": {
      "image/png": "[encoded data removed]",
      "text/plain": [
       "<Figure size 1008x432 with 3 Axes>"
      ]
     },
     "metadata": {
      "needs_background": "light"
     },
     "output_type": "display_data"
    }
   ],
   "source": [
    "en=3\n",
    "fitTypes={}\n",
    "fitTypes['single']={'fcn': single_exp, 'p0': p0_single()}\n",
    "fitTypes['triple']={'fcn': triple_exp, 'p0': p0_triple()}\n",
    "allFits, fitinfos, model_probs, energies = perform_many_fits(pivotedCorr, en, fitTypes, t0, NT-2, mpi)\n",
    "allFits, fitinfos, model_probs, energies = remove_bad_fits(allFits, fitinfos, model_probs,energies, mpi, sdevCut=0.5, probCut=0.01\n",
    ")\n",
    "mAvg=model_avg(energies, model_probs)\n",
    "print(mAvg/mpi)\n",
    "model_average_summary_plot(pivotedCorr, en, energies, model_probs, mAvg, mpi, emYlim=[4,5.5])\n",
    "\n",
    "allFitInfos[en]=fitinfos"
   ]
  },
  {
   "cell_type": "code",
   "execution_count": 19,
   "metadata": {},
   "outputs": [],
   "source": [
    "### Resamples"
   ]
  },
  {
   "cell_type": "code",
   "execution_count": 20,
   "metadata": {},
   "outputs": [],
   "source": [
    "t0=4\n",
    "td=5"
   ]
  },
  {
   "cell_type": "code",
   "execution_count": 21,
   "metadata": {},
   "outputs": [],
   "source": [
    "samples = get_pivoted_corr_samples(corrMatrix,t0,td)\n",
    "cov = get_pivoted_corr(corrMatrix,t0,td)[1]"
   ]
  },
  {
   "cell_type": "code",
   "execution_count": 23,
   "metadata": {},
   "outputs": [
    {
     "name": "stderr",
     "output_type": "stream",
     "text": [
      "/home/chris/Code/LQCD/a1_analysis/fitting.py:246: RuntimeWarning: overflow encountered in exp\n",
      "  return p[\"A0\"]*np.exp(-p[\"E0\"]*t)+p[\"A1\"]*np.exp(-p[\"E1\"]*t)+p[\"A2\"]*np.exp(-p[\"E2\"]*t)\n",
      "/home/chris/Code/LQCD/a1_analysis/fitting.py:246: RuntimeWarning: invalid value encountered in add\n",
      "  return p[\"A0\"]*np.exp(-p[\"E0\"]*t)+p[\"A1\"]*np.exp(-p[\"E1\"]*t)+p[\"A2\"]*np.exp(-p[\"E2\"]*t)\n",
      "/home/chris/Code/LQCD/a1_analysis/fitting.py:246: RuntimeWarning: overflow encountered in multiply\n",
      "  return p[\"A0\"]*np.exp(-p[\"E0\"]*t)+p[\"A1\"]*np.exp(-p[\"E1\"]*t)+p[\"A2\"]*np.exp(-p[\"E2\"]*t)\n",
      "/home/chris/anaconda3/envs/LQCD/lib/python3.9/site-packages/scipy/optimize/_lsq/common.py:234: RuntimeWarning: overflow encountered in double_scalars\n",
      "  ratio = actual_reduction / predicted_reduction\n"
     ]
    }
   ],
   "source": [
    "en=0\n",
    "fitTypes={}\n",
    "fitTypes['single']={'fcn': single_exp, 'p0': p0_single()}\n",
    "fitTypes['triple']={'fcn': triple_exp, 'p0': p0_triple()}\n",
    "\n",
    "en0samples=perform_good_fits_on_resamples(en, samples, cov, allFitInfos[en], fitTypes, t0, NT)\n",
    "\n",
    "en=2\n",
    "fitTypes={}\n",
    "fitTypes['single']={'fcn': single_exp, 'p0': p0_single()}\n",
    "fitTypes['triple']={'fcn': triple_exp, 'p0': p0_triple()}\n",
    "\n",
    "en2samples=perform_good_fits_on_resamples(en, samples, cov, allFitInfos[en], fitTypes, t0, NT)\n",
    "\n",
    "en=3\n",
    "fitTypes={}\n",
    "fitTypes['single']={'fcn': single_exp, 'p0': p0_single()}\n",
    "fitTypes['triple']={'fcn': triple_exp, 'p0': p0_triple()}\n",
    "\n",
    "en3samples=perform_good_fits_on_resamples(en, samples, cov, allFitInfos[en], fitTypes, t0, NT)"
   ]
  },
  {
   "cell_type": "code",
   "execution_count": 24,
   "metadata": {},
   "outputs": [
    {
     "name": "stdout",
     "output_type": "stream",
     "text": [
      "4.223818361393326\n",
      "4.501480591963922\n",
      "5.29090150471394\n"
     ]
    }
   ],
   "source": [
    "print(np.mean(en0samples)/mpi)\n",
    "print(np.mean(en2samples)/mpi)\n",
    "print(np.mean(en3samples)/mpi)\n"
   ]
  },
  {
   "cell_type": "code",
   "execution_count": 26,
   "metadata": {},
   "outputs": [],
   "source": [
    "import h5py\n",
    "import os"
   ]
  },
  {
   "cell_type": "code",
   "execution_count": 27,
   "metadata": {},
   "outputs": [],
   "source": [
    "fileDir=os.path.join(os.path.expanduser(\"~\"),\"Downloads\")\n",
    "file=h5py.File(os.path.join(fileDir,\"L2864_energies.hdf5\"),\"w\")\n",
    "dataSet=file.create_dataset(\"E0\",np.array(en0samples).shape)\n",
    "dataSet[:]=en0samples\n",
    "dataSet=file.create_dataset(\"E1\",np.array(en2samples).shape)\n",
    "dataSet[:]=en2samples\n",
    "dataSet=file.create_dataset(\"E2\",np.array(en3samples).shape)\n",
    "dataSet[:]=en3samples\n",
    "file.close()"
   ]
  },
  {
   "cell_type": "code",
   "execution_count": null,
   "metadata": {},
   "outputs": [],
   "source": []
  }
 ],
 "metadata": {
  "interpreter": {
   "hash": "c8d68fb5c21a4214dd5a6a13117f82199c640d7d02a884ddca486aa724deaf3c"
  },
  "kernelspec": {
   "display_name": "Python 3.9.12 ('LQCD')",
   "language": "python",
   "name": "python3"
  },
  "language_info": {
   "codemirror_mode": {
    "name": "ipython",
    "version": 3
   },
   "file_extension": ".py",
   "mimetype": "text/x-python",
   "name": "python",
   "nbconvert_exporter": "python",
   "pygments_lexer": "ipython3",
   "version": "3.10.6"
  },
  "orig_nbformat": 4
 },
 "nbformat": 4,
 "nbformat_minor": 2
}
