{
 "cells": [
  {
   "cell_type": "code",
   "execution_count": 1,
   "metadata": {},
   "outputs": [],
   "source": [
    "%load_ext autoreload\n",
    "%autoreload 2\n",
    "\n",
    "import sys \n",
    "sys.path.append('src')"
   ]
  },
  {
   "cell_type": "code",
   "execution_count": 8,
   "metadata": {},
   "outputs": [],
   "source": [
    "from quarkIsospin import twoMesons,threeMesons,MesonData, vectors, pseudoScalars\n",
    "from projection_utils import spP1, spP2, spP3\n",
    "\n",
    "import sympy as sp"
   ]
  },
  {
   "cell_type": "code",
   "execution_count": 9,
   "metadata": {},
   "outputs": [
    {
     "data": {
      "text/latex": [
       "$\\displaystyle \\rho^{+}_{i}{\\left(p_{1} \\right)} \\pi^{+}{\\left(p_{2} \\right)}$"
      ],
      "text/plain": [
       "rho_i^+(p1)*pi^+(p2)"
      ]
     },
     "execution_count": 9,
     "metadata": {},
     "output_type": "execute_result"
    }
   ],
   "source": [
    "twoMesons(2,2,MesonData(vectors,spP1,1),\n",
    "                                  MesonData(pseudoScalars,spP2,1))"
   ]
  },
  {
   "cell_type": "code",
   "execution_count": 10,
   "metadata": {},
   "outputs": [
    {
     "name": "stdout",
     "output_type": "stream",
     "text": [
      "non-zero op for ISS=1\n",
      "non-zero op for ISS=2\n"
     ]
    }
   ],
   "source": [
    "for ISS in [-2,-1,0,1,2]:\n",
    "    op = threeMesons(2,2,ISS,MesonData(pseudoScalars,spP1,1),\n",
    "                  MesonData(pseudoScalars,spP2,1),\n",
    "                  MesonData(pseudoScalars,spP3,1))\n",
    "\n",
    "    if op!=0:\n",
    "        print(\"non-zero op for ISS={}\".format(ISS))"
   ]
  },
  {
   "cell_type": "code",
   "execution_count": 11,
   "metadata": {},
   "outputs": [
    {
     "data": {
      "text/latex": [
       "$\\displaystyle \\frac{\\sqrt{2} \\pi^{+}{\\left(p_{1} \\right)} \\pi^{0}{\\left(p_{2} \\right)} \\pi^{+}{\\left(p_{3} \\right)}}{2} - \\frac{\\sqrt{2} \\pi^{0}{\\left(p_{1} \\right)} \\pi^{+}{\\left(p_{2} \\right)} \\pi^{+}{\\left(p_{3} \\right)}}{2}$"
      ],
      "text/plain": [
       "sqrt(2)*pi^+(p1)*pi^0(p2)*pi^+(p3)/2 - sqrt(2)*pi^0(p1)*pi^+(p2)*pi^+(p3)/2"
      ]
     },
     "execution_count": 11,
     "metadata": {},
     "output_type": "execute_result"
    }
   ],
   "source": [
    "sp.expand(threeMesons(2,2,1,MesonData(pseudoScalars,spP1,1),\n",
    "                  MesonData(pseudoScalars,spP2,1),\n",
    "                  MesonData(pseudoScalars,spP3,1)))"
   ]
  },
  {
   "cell_type": "code",
   "execution_count": 12,
   "metadata": {},
   "outputs": [
    {
     "data": {
      "text/latex": [
       "$\\displaystyle \\frac{\\sqrt{6} \\pi^{+}{\\left(p_{1} \\right)} \\pi^{+}{\\left(p_{2} \\right)} \\pi^{0}{\\left(p_{3} \\right)}}{3} - \\frac{\\sqrt{6} \\pi^{+}{\\left(p_{1} \\right)} \\pi^{0}{\\left(p_{2} \\right)} \\pi^{+}{\\left(p_{3} \\right)}}{6} - \\frac{\\sqrt{6} \\pi^{0}{\\left(p_{1} \\right)} \\pi^{+}{\\left(p_{2} \\right)} \\pi^{+}{\\left(p_{3} \\right)}}{6}$"
      ],
      "text/plain": [
       "sqrt(6)*pi^+(p1)*pi^+(p2)*pi^0(p3)/3 - sqrt(6)*pi^+(p1)*pi^0(p2)*pi^+(p3)/6 - sqrt(6)*pi^0(p1)*pi^+(p2)*pi^+(p3)/6"
      ]
     },
     "execution_count": 12,
     "metadata": {},
     "output_type": "execute_result"
    }
   ],
   "source": [
    "sp.expand(threeMesons(2,2,2,MesonData(pseudoScalars,spP1,1),\n",
    "                  MesonData(pseudoScalars,spP2,1),\n",
    "                  MesonData(pseudoScalars,spP3,1)))"
   ]
  },
  {
   "cell_type": "markdown",
   "metadata": {},
   "source": [
    "## Two three pi ops\n",
    "\n",
    "Come schematically from\n",
    "\n",
    "$$\n",
    "    \\pi^+\\pi^+ \\otimes \\pi^0 \\\\\n",
    "    \\frac{1}{\\sqrt{2}}(\\pi^+\\pi^0+\\pi^0\\pi^+)\\otimes\\pi^+\n",
    "$$"
   ]
  },
  {
   "cell_type": "code",
   "execution_count": 6,
   "metadata": {},
   "outputs": [
    {
     "data": {
      "text/plain": [
       "[(sqrt(2)*pi^+(p1)*pi^0(p2)/2 - sqrt(2)*pi^0(p1)*pi^+(p2)/2)*pi^+(p3),\n",
       " -sqrt(3)*(sqrt(2)*pi^+(p1)*pi^0(p2)/2 + sqrt(2)*pi^0(p1)*pi^+(p2)/2)*pi^+(p3)/3 + sqrt(6)*pi^+(p1)*pi^+(p2)*pi^0(p3)/3]"
      ]
     },
     "execution_count": 6,
     "metadata": {},
     "output_type": "execute_result"
    }
   ],
   "source": [
    "[threeMesons(2,2,iso,\n",
    "                                        MesonData(pseudoScalars,spP1,1),\n",
    "                                        MesonData(pseudoScalars,spP2,1),\n",
    "                                        MesonData(pseudoScalars,spP3,1)) \n",
    "                             for iso in [1,2]]"
   ]
  },
  {
   "cell_type": "code",
   "execution_count": null,
   "metadata": {},
   "outputs": [],
   "source": []
  }
 ],
 "metadata": {
  "interpreter": {
   "hash": "c8d68fb5c21a4214dd5a6a13117f82199c640d7d02a884ddca486aa724deaf3c"
  },
  "kernelspec": {
   "display_name": "Python 3.9.12 ('LQCD')",
   "language": "python",
   "name": "python3"
  },
  "language_info": {
   "codemirror_mode": {
    "name": "ipython",
    "version": 3
   },
   "file_extension": ".py",
   "mimetype": "text/x-python",
   "name": "python",
   "nbconvert_exporter": "python",
   "pygments_lexer": "ipython3",
   "version": "3.9.12"
  },
  "orig_nbformat": 4
 },
 "nbformat": 4,
 "nbformat_minor": 2
}
