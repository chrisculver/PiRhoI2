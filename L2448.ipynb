{
 "cells": [
  {
   "cell_type": "code",
   "execution_count": 1,
   "metadata": {},
   "outputs": [],
   "source": [
    "%load_ext autoreload\n",
    "%autoreload 2"
   ]
  },
  {
   "cell_type": "code",
   "execution_count": 8,
   "metadata": {},
   "outputs": [],
   "source": [
    "import sys \n",
    "sys.path.append('src')\n",
    "\n",
    "from manageProjections import *\n",
    "from op_basis_utils import *\n",
    "from plotting import *\n",
    "\n",
    "import FiniteVolumeGroups as fvg\n",
    "import pickle\n",
    "\n",
    "import matplotlib.pyplot as plt\n",
    "\n",
    "pTot = sp.Matrix([0,0,0])\n",
    "momStr='P000'\n",
    "group = fvg.cubic.Oh()\n",
    "\n",
    "import math\n",
    "\n",
    "mrho = 789*0.121/197\n",
    "mpi  = 0.1931\n",
    "\n",
    "L=24\n",
    "eta=1.0\n",
    "Emax=5.5\n",
    "ensemble='L2448'"
   ]
  },
  {
   "cell_type": "code",
   "execution_count": 9,
   "metadata": {},
   "outputs": [
    {
     "name": "stdout",
     "output_type": "stream",
     "text": [
      "rhopi   cut=2   --->  6.584764557413239\n",
      "threepi cut=2 --->  6.780124721912117\n",
      "threepi cut=2 --->  6.259403609659564\n"
     ]
    }
   ],
   "source": [
    "print('rhopi   cut=2   ---> ',EN_rhopi([2,0,0],[-2,0,0],mrho,mpi,L,eta))\n",
    "print('threepi cut=2 ---> ',EN_threepi([2,0,0],[-2,0,0],[0,0,0],mpi,L,eta))\n",
    "print('threepi cut=2 ---> ',EN_threepi([2,0,0],[-1,0,0],[-1,0,0],mpi,L,eta))"
   ]
  },
  {
   "cell_type": "code",
   "execution_count": 10,
   "metadata": {},
   "outputs": [
    {
     "name": "stdout",
     "output_type": "stream",
     "text": [
      "rho-pi: took  1274.5786 seconds\n"
     ]
    }
   ],
   "source": [
    "t=Timer()\n",
    "t.start('rho-pi')\n",
    "rhopiResults = get_rhopi_results(group,pTot,2,6.6,mrho,mpi,L,eta)\n",
    "t.stop()"
   ]
  },
  {
   "cell_type": "code",
   "execution_count": 11,
   "metadata": {},
   "outputs": [
    {
     "name": "stdout",
     "output_type": "stream",
     "text": [
      "[[-2  0  0],[0 0 0],[2 0 0]]\n",
      "[[-2  0  0],[1 0 0],[1 0 0]]\n",
      "[[-2  0  0],[2 0 0],[0 0 0]]\n",
      "[[-1 -1 -1],[0 0 0],[1 1 1]]\n",
      "[[-1 -1 -1],[0 0 1],[1 1 0]]\n",
      "[[-1 -1 -1],[0 1 0],[1 0 1]]\n",
      "[[-1 -1 -1],[0 1 1],[1 0 0]]\n",
      "[[-1 -1 -1],[1 0 0],[0 1 1]]\n",
      "[[-1 -1 -1],[1 0 1],[0 1 0]]\n",
      "[[-1 -1 -1],[1 1 0],[0 0 1]]\n",
      "[[-1 -1 -1],[1 1 1],[0 0 0]]\n",
      "[[-1 -1  0],[ 0  0 -1],[1 1 1]]\n",
      "[[-1 -1  0],[0 0 0],[1 1 0]]\n",
      "[[-1 -1  0],[0 0 1],[1 1 -1]]\n",
      "[[-1 -1  0],[ 0  1 -1],[1 0 1]]\n",
      "[[-1 -1  0],[0 1 0],[1 0 0]]\n",
      "[[-1 -1  0],[0 1 1],[1 0 -1]]\n",
      "[[-1 -1  0],[ 1  0 -1],[0 1 1]]\n",
      "[[-1 -1  0],[1 0 0],[0 1 0]]\n",
      "[[-1 -1  0],[1 0 1],[0 1 -1]]\n",
      "[[-1 -1  0],[ 1  1 -1],[0 0 1]]\n",
      "[[-1 -1  0],[1 1 0],[0 0 0]]\n",
      "[[-1 -1  0],[1 1 1],[0 0 -1]]\n",
      "[[-1 -1  1],[ 0  0 -1],[1 1 0]]\n",
      "[[-1 -1  1],[0 0 0],[1 1 -1]]\n",
      "[[-1 -1  1],[ 0  1 -1],[1 0 0]]\n",
      "[[-1 -1  1],[0 1 0],[1 0 -1]]\n",
      "[[-1 -1  1],[ 1  0 -1],[0 1 0]]\n",
      "[[-1 -1  1],[1 0 0],[0 1 -1]]\n",
      "[[-1 -1  1],[ 1  1 -1],[0 0 0]]\n",
      "[[-1 -1  1],[1 1 0],[0 0 -1]]\n",
      "[[-1  0 -1],[ 0 -1  0],[1 1 1]]\n",
      "[[-1  0 -1],[ 0 -1  1],[1 1 0]]\n",
      "[[-1  0 -1],[0 0 0],[1 0 1]]\n",
      "[[-1  0 -1],[0 0 1],[1 0 0]]\n",
      "[[-1  0 -1],[0 1 0],[1 -1 1]]\n",
      "[[-1  0 -1],[0 1 1],[1 -1 0]]\n",
      "[[-1  0 -1],[ 1 -1  0],[0 1 1]]\n",
      "[[-1  0 -1],[ 1 -1  1],[0 1 0]]\n",
      "[[-1  0 -1],[1 0 0],[0 0 1]]\n",
      "[[-1  0 -1],[1 0 1],[0 0 0]]\n",
      "[[-1  0 -1],[1 1 0],[0 -1 1]]\n",
      "[[-1  0 -1],[1 1 1],[0 -1 0]]\n",
      "[[-1  0  0],[-1  0  0],[2 0 0]]\n",
      "[[-1  0  0],[ 0 -1 -1],[1 1 1]]\n",
      "[[-1  0  0],[ 0 -1  0],[1 1 0]]\n",
      "[[-1  0  0],[ 0 -1  1],[1 1 -1]]\n",
      "[[-1  0  0],[ 0  0 -1],[1 0 1]]\n",
      "[[-1  0  0],[0 0 0],[1 0 0]]\n",
      "[[-1  0  0],[0 0 1],[1 0 -1]]\n",
      "[[-1  0  0],[ 0  1 -1],[1 -1 1]]\n",
      "[[-1  0  0],[0 1 0],[1 -1 0]]\n",
      "[[-1  0  0],[0 1 1],[1 -1 -1]]\n",
      "[[-1  0  0],[ 1 -1 -1],[0 1 1]]\n",
      "[[-1  0  0],[ 1 -1  0],[0 1 0]]\n",
      "[[-1  0  0],[ 1 -1  1],[0 1 -1]]\n",
      "[[-1  0  0],[ 1  0 -1],[0 0 1]]\n",
      "[[-1  0  0],[1 0 0],[0 0 0]]\n",
      "[[-1  0  0],[1 0 1],[0 0 -1]]\n",
      "[[-1  0  0],[ 1  1 -1],[0 -1 1]]\n",
      "[[-1  0  0],[1 1 0],[0 -1 0]]\n",
      "[[-1  0  0],[1 1 1],[0 -1 -1]]\n",
      "[[-1  0  0],[2 0 0],[-1 0 0]]\n",
      "[[-1  0  1],[ 0 -1 -1],[1 1 0]]\n",
      "[[-1  0  1],[ 0 -1  0],[1 1 -1]]\n",
      "[[-1  0  1],[ 0  0 -1],[1 0 0]]\n",
      "[[-1  0  1],[0 0 0],[1 0 -1]]\n",
      "[[-1  0  1],[ 0  1 -1],[1 -1 0]]\n",
      "[[-1  0  1],[0 1 0],[1 -1 -1]]\n",
      "[[-1  0  1],[ 1 -1 -1],[0 1 0]]\n",
      "[[-1  0  1],[ 1 -1  0],[0 1 -1]]\n",
      "[[-1  0  1],[ 1  0 -1],[0 0 0]]\n",
      "[[-1  0  1],[1 0 0],[0 0 -1]]\n",
      "[[-1  0  1],[ 1  1 -1],[0 -1 0]]\n",
      "[[-1  0  1],[1 1 0],[0 -1 -1]]\n",
      "[[-1  1 -1],[ 0 -1  0],[1 0 1]]\n",
      "[[-1  1 -1],[ 0 -1  1],[1 0 0]]\n",
      "[[-1  1 -1],[0 0 0],[1 -1 1]]\n",
      "[[-1  1 -1],[0 0 1],[1 -1 0]]\n",
      "[[-1  1 -1],[ 1 -1  0],[0 0 1]]\n",
      "[[-1  1 -1],[ 1 -1  1],[0 0 0]]\n",
      "[[-1  1 -1],[1 0 0],[0 -1 1]]\n",
      "[[-1  1 -1],[1 0 1],[0 -1 0]]\n",
      "[[-1  1  0],[ 0 -1 -1],[1 0 1]]\n",
      "[[-1  1  0],[ 0 -1  0],[1 0 0]]\n",
      "[[-1  1  0],[ 0 -1  1],[1 0 -1]]\n",
      "[[-1  1  0],[ 0  0 -1],[1 -1 1]]\n",
      "[[-1  1  0],[0 0 0],[1 -1 0]]\n",
      "[[-1  1  0],[0 0 1],[1 -1 -1]]\n",
      "[[-1  1  0],[ 1 -1 -1],[0 0 1]]\n",
      "[[-1  1  0],[ 1 -1  0],[0 0 0]]\n",
      "[[-1  1  0],[ 1 -1  1],[0 0 -1]]\n",
      "[[-1  1  0],[ 1  0 -1],[0 -1 1]]\n",
      "[[-1  1  0],[1 0 0],[0 -1 0]]\n",
      "[[-1  1  0],[1 0 1],[0 -1 -1]]\n",
      "[[-1  1  1],[ 0 -1 -1],[1 0 0]]\n",
      "[[-1  1  1],[ 0 -1  0],[1 0 -1]]\n",
      "[[-1  1  1],[ 0  0 -1],[1 -1 0]]\n",
      "[[-1  1  1],[0 0 0],[1 -1 -1]]\n",
      "[[-1  1  1],[ 1 -1 -1],[0 0 0]]\n",
      "[[-1  1  1],[ 1 -1  0],[0 0 -1]]\n",
      "[[-1  1  1],[ 1  0 -1],[0 -1 0]]\n",
      "[[-1  1  1],[1 0 0],[0 -1 -1]]\n",
      "[[ 0 -2  0],[0 0 0],[0 2 0]]\n",
      "[[ 0 -2  0],[0 1 0],[0 1 0]]\n",
      "[[ 0 -2  0],[0 2 0],[0 0 0]]\n",
      "[[ 0 -1 -1],[-1  0  0],[1 1 1]]\n",
      "[[ 0 -1 -1],[-1  0  1],[1 1 0]]\n",
      "[[ 0 -1 -1],[-1  1  0],[1 0 1]]\n",
      "[[ 0 -1 -1],[-1  1  1],[1 0 0]]\n",
      "[[ 0 -1 -1],[0 0 0],[0 1 1]]\n",
      "[[ 0 -1 -1],[0 0 1],[0 1 0]]\n",
      "[[ 0 -1 -1],[0 1 0],[0 0 1]]\n",
      "[[ 0 -1 -1],[0 1 1],[0 0 0]]\n",
      "[[ 0 -1 -1],[1 0 0],[-1 1 1]]\n",
      "[[ 0 -1 -1],[1 0 1],[-1 1 0]]\n",
      "[[ 0 -1 -1],[1 1 0],[-1 0 1]]\n",
      "[[ 0 -1 -1],[1 1 1],[-1 0 0]]\n",
      "[[ 0 -1  0],[-1  0 -1],[1 1 1]]\n",
      "[[ 0 -1  0],[-1  0  0],[1 1 0]]\n",
      "[[ 0 -1  0],[-1  0  1],[1 1 -1]]\n",
      "[[ 0 -1  0],[-1  1 -1],[1 0 1]]\n",
      "[[ 0 -1  0],[-1  1  0],[1 0 0]]\n",
      "[[ 0 -1  0],[-1  1  1],[1 0 -1]]\n",
      "[[ 0 -1  0],[ 0 -1  0],[0 2 0]]\n",
      "[[ 0 -1  0],[ 0  0 -1],[0 1 1]]\n",
      "[[ 0 -1  0],[0 0 0],[0 1 0]]\n",
      "[[ 0 -1  0],[0 0 1],[0 1 -1]]\n",
      "[[ 0 -1  0],[ 0  1 -1],[0 0 1]]\n",
      "[[ 0 -1  0],[0 1 0],[0 0 0]]\n",
      "[[ 0 -1  0],[0 1 1],[0 0 -1]]\n",
      "[[ 0 -1  0],[0 2 0],[0 -1 0]]\n",
      "[[ 0 -1  0],[ 1  0 -1],[-1 1 1]]\n",
      "[[ 0 -1  0],[1 0 0],[-1 1 0]]\n",
      "[[ 0 -1  0],[1 0 1],[-1 1 -1]]\n",
      "[[ 0 -1  0],[ 1  1 -1],[-1 0 1]]\n",
      "[[ 0 -1  0],[1 1 0],[-1 0 0]]\n",
      "[[ 0 -1  0],[1 1 1],[-1 0 -1]]\n",
      "[[ 0 -1  1],[-1  0 -1],[1 1 0]]\n",
      "[[ 0 -1  1],[-1  0  0],[1 1 -1]]\n",
      "[[ 0 -1  1],[-1  1 -1],[1 0 0]]\n",
      "[[ 0 -1  1],[-1  1  0],[1 0 -1]]\n",
      "[[ 0 -1  1],[ 0  0 -1],[0 1 0]]\n",
      "[[ 0 -1  1],[0 0 0],[0 1 -1]]\n",
      "[[ 0 -1  1],[ 0  1 -1],[0 0 0]]\n",
      "[[ 0 -1  1],[0 1 0],[0 0 -1]]\n",
      "[[ 0 -1  1],[ 1  0 -1],[-1 1 0]]\n",
      "[[ 0 -1  1],[1 0 0],[-1 1 -1]]\n",
      "[[ 0 -1  1],[ 1  1 -1],[-1 0 0]]\n",
      "[[ 0 -1  1],[1 1 0],[-1 0 -1]]\n",
      "[[ 0  0 -2],[0 0 0],[0 0 2]]\n",
      "[[ 0  0 -2],[0 0 1],[0 0 1]]\n",
      "[[ 0  0 -2],[0 0 2],[0 0 0]]\n",
      "[[ 0  0 -1],[-1 -1  0],[1 1 1]]\n",
      "[[ 0  0 -1],[-1 -1  1],[1 1 0]]\n",
      "[[ 0  0 -1],[-1  0  0],[1 0 1]]\n",
      "[[ 0  0 -1],[-1  0  1],[1 0 0]]\n",
      "[[ 0  0 -1],[-1  1  0],[1 -1 1]]\n",
      "[[ 0  0 -1],[-1  1  1],[1 -1 0]]\n",
      "[[ 0  0 -1],[ 0 -1  0],[0 1 1]]\n",
      "[[ 0  0 -1],[ 0 -1  1],[0 1 0]]\n",
      "[[ 0  0 -1],[ 0  0 -1],[0 0 2]]\n",
      "[[ 0  0 -1],[0 0 0],[0 0 1]]\n",
      "[[ 0  0 -1],[0 0 1],[0 0 0]]\n",
      "[[ 0  0 -1],[0 0 2],[0 0 -1]]\n",
      "[[ 0  0 -1],[0 1 0],[0 -1 1]]\n",
      "[[ 0  0 -1],[0 1 1],[0 -1 0]]\n",
      "[[ 0  0 -1],[ 1 -1  0],[-1 1 1]]\n",
      "[[ 0  0 -1],[ 1 -1  1],[-1 1 0]]\n",
      "[[ 0  0 -1],[1 0 0],[-1 0 1]]\n",
      "[[ 0  0 -1],[1 0 1],[-1 0 0]]\n",
      "[[ 0  0 -1],[1 1 0],[-1 -1 1]]\n",
      "[[ 0  0 -1],[1 1 1],[-1 -1 0]]\n",
      "[[0 0 0],[-2  0  0],[2 0 0]]\n",
      "[[0 0 0],[-1 -1 -1],[1 1 1]]\n",
      "[[0 0 0],[-1 -1  0],[1 1 0]]\n",
      "[[0 0 0],[-1 -1  1],[1 1 -1]]\n",
      "[[0 0 0],[-1  0 -1],[1 0 1]]\n",
      "[[0 0 0],[-1  0  0],[1 0 0]]\n",
      "[[0 0 0],[-1  0  1],[1 0 -1]]\n",
      "[[0 0 0],[-1  1 -1],[1 -1 1]]\n",
      "[[0 0 0],[-1  1  0],[1 -1 0]]\n",
      "[[0 0 0],[-1  1  1],[1 -1 -1]]\n",
      "[[0 0 0],[ 0 -2  0],[0 2 0]]\n",
      "[[0 0 0],[ 0 -1 -1],[0 1 1]]\n",
      "[[0 0 0],[ 0 -1  0],[0 1 0]]\n",
      "[[0 0 0],[ 0 -1  1],[0 1 -1]]\n",
      "[[0 0 0],[ 0  0 -2],[0 0 2]]\n",
      "[[0 0 0],[ 0  0 -1],[0 0 1]]\n",
      "[[0 0 1],[-1 -1 -1],[1 1 0]]\n",
      "[[0 0 1],[-1 -1  0],[1 1 -1]]\n",
      "[[0 0 1],[-1  0 -1],[1 0 0]]\n",
      "[[0 0 1],[-1  0  0],[1 0 -1]]\n",
      "[[0 0 1],[-1  1 -1],[1 -1 0]]\n",
      "[[0 0 1],[-1  1  0],[1 -1 -1]]\n",
      "[[0 0 1],[ 0 -1 -1],[0 1 0]]\n",
      "[[0 0 1],[ 0 -1  0],[0 1 -1]]\n",
      "[[0 0 1],[ 0  0 -2],[0 0 1]]\n",
      "[[0 0 1],[ 0  0 -1],[0 0 0]]\n",
      "[[0 0 1],[0 0 0],[0 0 -1]]\n",
      "[[0 0 1],[0 0 1],[0 0 -2]]\n",
      "[[0 0 1],[ 0  1 -1],[0 -1 0]]\n",
      "[[0 0 1],[0 1 0],[0 -1 -1]]\n",
      "[[0 0 1],[ 1 -1 -1],[-1 1 0]]\n",
      "[[0 0 1],[ 1 -1  0],[-1 1 -1]]\n",
      "[[0 0 1],[ 1  0 -1],[-1 0 0]]\n",
      "[[0 0 1],[1 0 0],[-1 0 -1]]\n",
      "[[0 0 1],[ 1  1 -1],[-1 -1 0]]\n",
      "[[0 0 1],[1 1 0],[-1 -1 -1]]\n",
      "[[0 0 2],[ 0  0 -2],[0 0 0]]\n",
      "[[0 0 2],[ 0  0 -1],[0 0 -1]]\n",
      "[[0 0 2],[0 0 0],[0 0 -2]]\n",
      "[[ 0  1 -1],[-1 -1  0],[1 0 1]]\n",
      "[[ 0  1 -1],[-1 -1  1],[1 0 0]]\n",
      "[[ 0  1 -1],[-1  0  0],[1 -1 1]]\n",
      "[[ 0  1 -1],[-1  0  1],[1 -1 0]]\n",
      "[[ 0  1 -1],[ 0 -1  0],[0 0 1]]\n",
      "[[ 0  1 -1],[ 0 -1  1],[0 0 0]]\n",
      "[[ 0  1 -1],[0 0 0],[0 -1 1]]\n",
      "[[ 0  1 -1],[0 0 1],[0 -1 0]]\n",
      "[[ 0  1 -1],[ 1 -1  0],[-1 0 1]]\n",
      "[[ 0  1 -1],[ 1 -1  1],[-1 0 0]]\n",
      "[[ 0  1 -1],[1 0 0],[-1 -1 1]]\n",
      "[[ 0  1 -1],[1 0 1],[-1 -1 0]]\n",
      "[[0 1 0],[-1 -1 -1],[1 0 1]]\n",
      "[[0 1 0],[-1 -1  0],[1 0 0]]\n",
      "[[0 1 0],[-1 -1  1],[1 0 -1]]\n",
      "[[0 1 0],[-1  0 -1],[1 -1 1]]\n",
      "[[0 1 0],[-1  0  0],[1 -1 0]]\n",
      "[[0 1 0],[-1  0  1],[1 -1 -1]]\n",
      "[[0 1 0],[ 0 -2  0],[0 1 0]]\n",
      "[[0 1 0],[ 0 -1 -1],[0 0 1]]\n",
      "[[0 1 0],[ 0 -1  0],[0 0 0]]\n",
      "[[0 1 0],[ 0 -1  1],[0 0 -1]]\n",
      "[[0 1 0],[ 0  0 -1],[0 -1 1]]\n",
      "[[0 1 0],[0 0 0],[0 -1 0]]\n",
      "[[0 1 0],[0 0 1],[0 -1 -1]]\n",
      "[[0 1 0],[0 1 0],[0 -2 0]]\n",
      "[[0 1 0],[ 1 -1 -1],[-1 0 1]]\n",
      "[[0 1 0],[ 1 -1  0],[-1 0 0]]\n",
      "[[0 1 0],[ 1 -1  1],[-1 0 -1]]\n",
      "[[0 1 0],[ 1  0 -1],[-1 -1 1]]\n",
      "[[0 1 0],[1 0 0],[-1 -1 0]]\n",
      "[[0 1 0],[1 0 1],[-1 -1 -1]]\n",
      "[[0 1 1],[-1 -1 -1],[1 0 0]]\n",
      "[[0 1 1],[-1 -1  0],[1 0 -1]]\n",
      "[[0 1 1],[-1  0 -1],[1 -1 0]]\n",
      "[[0 1 1],[-1  0  0],[1 -1 -1]]\n",
      "[[0 1 1],[ 0 -1 -1],[0 0 0]]\n",
      "[[0 1 1],[ 0 -1  0],[0 0 -1]]\n",
      "[[0 1 1],[ 0  0 -1],[0 -1 0]]\n",
      "[[0 1 1],[0 0 0],[0 -1 -1]]\n",
      "[[0 1 1],[ 1 -1 -1],[-1 0 0]]\n",
      "[[0 1 1],[ 1 -1  0],[-1 0 -1]]\n",
      "[[0 1 1],[ 1  0 -1],[-1 -1 0]]\n",
      "[[0 1 1],[1 0 0],[-1 -1 -1]]\n",
      "[[0 2 0],[ 0 -2  0],[0 0 0]]\n",
      "[[0 2 0],[ 0 -1  0],[0 -1 0]]\n",
      "[[0 2 0],[0 0 0],[0 -2 0]]\n",
      "[[ 1 -1 -1],[-1  0  0],[0 1 1]]\n",
      "[[ 1 -1 -1],[-1  0  1],[0 1 0]]\n",
      "[[ 1 -1 -1],[-1  1  0],[0 0 1]]\n",
      "[[ 1 -1 -1],[-1  1  1],[0 0 0]]\n",
      "[[ 1 -1 -1],[0 0 0],[-1 1 1]]\n",
      "[[ 1 -1 -1],[0 0 1],[-1 1 0]]\n",
      "[[ 1 -1 -1],[0 1 0],[-1 0 1]]\n",
      "[[ 1 -1 -1],[0 1 1],[-1 0 0]]\n",
      "[[ 1 -1  0],[-1  0 -1],[0 1 1]]\n",
      "[[ 1 -1  0],[-1  0  0],[0 1 0]]\n",
      "[[ 1 -1  0],[-1  0  1],[0 1 -1]]\n",
      "[[ 1 -1  0],[-1  1 -1],[0 0 1]]\n",
      "[[ 1 -1  0],[-1  1  0],[0 0 0]]\n",
      "[[ 1 -1  0],[-1  1  1],[0 0 -1]]\n",
      "[[ 1 -1  0],[ 0  0 -1],[-1 1 1]]\n",
      "[[ 1 -1  0],[0 0 0],[-1 1 0]]\n",
      "[[ 1 -1  0],[0 0 1],[-1 1 -1]]\n",
      "[[ 1 -1  0],[ 0  1 -1],[-1 0 1]]\n",
      "[[ 1 -1  0],[0 1 0],[-1 0 0]]\n",
      "[[ 1 -1  0],[0 1 1],[-1 0 -1]]\n",
      "[[ 1 -1  1],[-1  0 -1],[0 1 0]]\n",
      "[[ 1 -1  1],[-1  0  0],[0 1 -1]]\n",
      "[[ 1 -1  1],[-1  1 -1],[0 0 0]]\n",
      "[[ 1 -1  1],[-1  1  0],[0 0 -1]]\n",
      "[[ 1 -1  1],[ 0  0 -1],[-1 1 0]]\n",
      "[[ 1 -1  1],[0 0 0],[-1 1 -1]]\n",
      "[[ 1 -1  1],[ 0  1 -1],[-1 0 0]]\n",
      "[[ 1 -1  1],[0 1 0],[-1 0 -1]]\n",
      "[[ 1  0 -1],[-1 -1  0],[0 1 1]]\n",
      "[[ 1  0 -1],[-1 -1  1],[0 1 0]]\n",
      "[[ 1  0 -1],[-1  0  0],[0 0 1]]\n",
      "[[ 1  0 -1],[-1  0  1],[0 0 0]]\n",
      "[[ 1  0 -1],[-1  1  0],[0 -1 1]]\n",
      "[[ 1  0 -1],[-1  1  1],[0 -1 0]]\n",
      "[[ 1  0 -1],[ 0 -1  0],[-1 1 1]]\n",
      "[[ 1  0 -1],[ 0 -1  1],[-1 1 0]]\n",
      "[[ 1  0 -1],[0 0 0],[-1 0 1]]\n",
      "[[ 1  0 -1],[0 0 1],[-1 0 0]]\n",
      "[[ 1  0 -1],[0 1 0],[-1 -1 1]]\n",
      "[[ 1  0 -1],[0 1 1],[-1 -1 0]]\n",
      "[[1 0 0],[-2  0  0],[1 0 0]]\n",
      "[[1 0 0],[-1 -1 -1],[0 1 1]]\n",
      "[[1 0 0],[-1 -1  0],[0 1 0]]\n",
      "[[1 0 0],[-1 -1  1],[0 1 -1]]\n",
      "[[1 0 0],[-1  0 -1],[0 0 1]]\n",
      "[[1 0 0],[-1  0  0],[0 0 0]]\n",
      "[[1 0 0],[-1  0  1],[0 0 -1]]\n",
      "[[1 0 0],[-1  1 -1],[0 -1 1]]\n",
      "[[1 0 0],[-1  1  0],[0 -1 0]]\n",
      "[[1 0 0],[-1  1  1],[0 -1 -1]]\n",
      "[[1 0 0],[ 0 -1 -1],[-1 1 1]]\n",
      "[[1 0 0],[ 0 -1  0],[-1 1 0]]\n",
      "[[1 0 0],[ 0 -1  1],[-1 1 -1]]\n",
      "[[1 0 0],[ 0  0 -1],[-1 0 1]]\n",
      "[[1 0 0],[0 0 0],[-1 0 0]]\n",
      "[[1 0 0],[0 0 1],[-1 0 -1]]\n",
      "[[1 0 0],[ 0  1 -1],[-1 -1 1]]\n",
      "[[1 0 0],[0 1 0],[-1 -1 0]]\n",
      "[[1 0 0],[0 1 1],[-1 -1 -1]]\n",
      "[[1 0 0],[1 0 0],[-2 0 0]]\n",
      "[[1 0 1],[-1 -1 -1],[0 1 0]]\n",
      "[[1 0 1],[-1 -1  0],[0 1 -1]]\n",
      "[[1 0 1],[-1  0 -1],[0 0 0]]\n",
      "[[1 0 1],[-1  0  0],[0 0 -1]]\n",
      "[[1 0 1],[-1  1 -1],[0 -1 0]]\n",
      "[[1 0 1],[-1  1  0],[0 -1 -1]]\n",
      "[[1 0 1],[ 0 -1 -1],[-1 1 0]]\n",
      "[[1 0 1],[ 0 -1  0],[-1 1 -1]]\n",
      "[[1 0 1],[ 0  0 -1],[-1 0 0]]\n",
      "[[1 0 1],[0 0 0],[-1 0 -1]]\n",
      "[[1 0 1],[ 0  1 -1],[-1 -1 0]]\n",
      "[[1 0 1],[0 1 0],[-1 -1 -1]]\n",
      "[[ 1  1 -1],[-1 -1  0],[0 0 1]]\n",
      "[[ 1  1 -1],[-1 -1  1],[0 0 0]]\n",
      "[[ 1  1 -1],[-1  0  0],[0 -1 1]]\n",
      "[[ 1  1 -1],[-1  0  1],[0 -1 0]]\n",
      "[[ 1  1 -1],[ 0 -1  0],[-1 0 1]]\n",
      "[[ 1  1 -1],[ 0 -1  1],[-1 0 0]]\n",
      "[[ 1  1 -1],[0 0 0],[-1 -1 1]]\n",
      "[[ 1  1 -1],[0 0 1],[-1 -1 0]]\n",
      "[[1 1 0],[-1 -1 -1],[0 0 1]]\n",
      "[[1 1 0],[-1 -1  0],[0 0 0]]\n",
      "[[1 1 0],[-1 -1  1],[0 0 -1]]\n",
      "[[1 1 0],[-1  0 -1],[0 -1 1]]\n",
      "[[1 1 0],[-1  0  0],[0 -1 0]]\n",
      "[[1 1 0],[-1  0  1],[0 -1 -1]]\n",
      "[[1 1 0],[ 0 -1 -1],[-1 0 1]]\n",
      "[[1 1 0],[ 0 -1  0],[-1 0 0]]\n",
      "[[1 1 0],[ 0 -1  1],[-1 0 -1]]\n",
      "[[1 1 0],[ 0  0 -1],[-1 -1 1]]\n",
      "[[1 1 0],[0 0 0],[-1 -1 0]]\n",
      "[[1 1 0],[0 0 1],[-1 -1 -1]]\n",
      "[[1 1 1],[-1 -1 -1],[0 0 0]]\n",
      "[[1 1 1],[-1 -1  0],[0 0 -1]]\n",
      "[[1 1 1],[-1  0 -1],[0 -1 0]]\n",
      "[[1 1 1],[-1  0  0],[0 -1 -1]]\n",
      "[[1 1 1],[ 0 -1 -1],[-1 0 0]]\n",
      "[[1 1 1],[ 0 -1  0],[-1 0 -1]]\n",
      "[[1 1 1],[ 0  0 -1],[-1 -1 0]]\n",
      "[[1 1 1],[0 0 0],[-1 -1 -1]]\n",
      "[[2 0 0],[-2  0  0],[0 0 0]]\n",
      "[[2 0 0],[-1  0  0],[-1 0 0]]\n",
      "[[2 0 0],[0 0 0],[-2 0 0]]\n",
      "three-pi: took  74845.8813 seconds\n"
     ]
    }
   ],
   "source": [
    "t=Timer()\n",
    "t.start('three-pi')\n",
    "threepiResults = get_threepi_results(group,pTot,2,6.8,mpi,L,eta,timed=True)\n",
    "t.stop()"
   ]
  },
  {
   "cell_type": "code",
   "execution_count": 13,
   "metadata": {},
   "outputs": [
    {
     "data": {
      "image/png": "[encoded data removed]",
      "text/plain": [
       "<Figure size 432x288 with 2 Axes>"
      ]
     },
     "metadata": {
      "needs_background": "light"
     },
     "output_type": "display_data"
    },
    {
     "data": {
      "image/png": "[encoded data removed]",
      "text/plain": [
       "<Figure size 432x288 with 2 Axes>"
      ]
     },
     "metadata": {
      "needs_background": "light"
     },
     "output_type": "display_data"
    },
    {
     "data": {
      "image/png": "[encoded data removed]",
      "text/plain": [
       "<Figure size 432x288 with 2 Axes>"
      ]
     },
     "metadata": {
      "needs_background": "light"
     },
     "output_type": "display_data"
    },
    {
     "data": {
      "image/png": "[encoded data removed]",
      "text/plain": [
       "<Figure size 432x288 with 2 Axes>"
      ]
     },
     "metadata": {
      "needs_background": "light"
     },
     "output_type": "display_data"
    },
    {
     "data": {
      "image/png": "[encoded data removed]",
      "text/plain": [
       "<Figure size 432x288 with 2 Axes>"
      ]
     },
     "metadata": {
      "needs_background": "light"
     },
     "output_type": "display_data"
    },
    {
     "data": {
      "image/png": "[encoded data removed]",
      "text/plain": [
       "<Figure size 432x288 with 2 Axes>"
      ]
     },
     "metadata": {
      "needs_background": "light"
     },
     "output_type": "display_data"
    },
    {
     "data": {
      "image/png": "[encoded data removed]",
      "text/plain": [
       "<Figure size 432x288 with 2 Axes>"
      ]
     },
     "metadata": {
      "needs_background": "light"
     },
     "output_type": "display_data"
    },
    {
     "data": {
      "image/png": "[encoded data removed]",
      "text/plain": [
       "<Figure size 432x288 with 2 Axes>"
      ]
     },
     "metadata": {
      "needs_background": "light"
     },
     "output_type": "display_data"
    },
    {
     "data": {
      "image/png": "[encoded data removed]",
      "text/plain": [
       "<Figure size 432x288 with 2 Axes>"
      ]
     },
     "metadata": {
      "needs_background": "light"
     },
     "output_type": "display_data"
    },
    {
     "data": {
      "image/png": "[encoded data removed]",
      "text/plain": [
       "<Figure size 432x288 with 2 Axes>"
      ]
     },
     "metadata": {
      "needs_background": "light"
     },
     "output_type": "display_data"
    }
   ],
   "source": [
    "def latexIrrep(irrep):\n",
    "    return '$' + irrep[0]+'_{' + irrep[1:] + '}$'\n",
    "\n",
    "for irrep in group.elements[0].irreps:\n",
    "    nonint_plt(rhopiResults,threepiResults,irrep)\n",
    "\n",
    "    plt.text(3.0,0.8,'$\\\\mathcal{E}_1$',fontsize=20)\n",
    "    plt.text(3.0,0.7,latexIrrep(irrep),fontsize=20)\n",
    "    plt.show()"
   ]
  },
  {
   "cell_type": "code",
   "execution_count": 16,
   "metadata": {},
   "outputs": [],
   "source": [
    "cutoff=6.8\n",
    "for irrep in group.elements[0].irreps:\n",
    "    allOpString = ''\n",
    "\n",
    "    for opType in [rhopiResults]:\n",
    "    #for opType in[sigmapiResults,threepiResults]:\n",
    "        for seed in opType:\n",
    "            if seed['E']<cutoff:\n",
    "    #if seed['E']<4.5:\n",
    "                new_subs = {k: v for k,v in seed['full'].vecToSymbol.items()}\n",
    "                new_subs = {k: str(v) for k,v in new_subs.items()}\n",
    "                new_subs = {k: sp.Symbol(str(v).replace('-','m')) for k,v in new_subs.items()}\n",
    "                \n",
    "                for op in getOperators(seed['full'],irrep):\n",
    "                    o=sp.expand(op).subs(seed['full'].symbolToVec)\n",
    "                    o=o.subs(new_subs)\n",
    "                    o=opToCPP(o,swapXZ=True)\n",
    "                    if o[0]=='+':\n",
    "                        o=o[1:]\n",
    "                    allOpString+=o+'\\n'\n",
    "    \n",
    "    for seed in threepiResults:\n",
    "        if seed['E']<cutoff:\n",
    "            for op in getOperators(seed['full'],irrep):\n",
    "                allOpString+=opToCPP(op.to_sympy(),swapXZ=True)+'\\n'\n",
    "    \n",
    "    with open('OPS/'+ensemble+'/a1_'+ensemble+'_'+momStr+'_'+irrep+'_'+str(cutoff)+'_swapXZ.txt',\"w\") as text_file:\n",
    "        text_file.write(allOpString)"
   ]
  },
  {
   "cell_type": "code",
   "execution_count": 17,
   "metadata": {},
   "outputs": [],
   "source": [
    "import h5py\n",
    "import os\n",
    "\n",
    "fileDir=os.path.join(\"OPS\",\"L2448\")\n",
    "\n",
    "f=h5py.File(os.path.join(fileDir,\"L2448.hdf5\"),\"w\")\n",
    "\n",
    "def simplestr(p):\n",
    "    s=\"\"\n",
    "    for i in p:\n",
    "        s+='['+str(i[0])+','+str(i[1])+','+str(i[2])+']'\n",
    "    return s\n",
    "\n",
    "for irrep in group.elements[0].irreps:\n",
    "    irrepGroup=f.create_group(irrep)\n",
    "    opGroup=irrepGroup.create_dataset('rhopi',(len(rhopiResults),2))\n",
    "    for i,o in enumerate(rhopiResults):\n",
    "        opGroup[i,0]=o['E']\n",
    "        opGroup[i,1]=len(getOperators(o['full'],irrep))\n",
    "        #opGroup[i,2]=simplestr(o['seed'])\n",
    "    \n",
    "    opGroup=irrepGroup.create_dataset('threepi',(len(threepiResults),2))\n",
    "    for i,o in enumerate(threepiResults):\n",
    "        opGroup[i,0]=o['E']\n",
    "        opGroup[i,1]=len(getOperators(o['full'],irrep))\n",
    "        #opGroup[i,2]=simplestr(o['seed'])\n",
    "\n",
    "f.close()"
   ]
  },
  {
   "cell_type": "code",
   "execution_count": null,
   "metadata": {},
   "outputs": [],
   "source": []
  }
 ],
 "metadata": {
  "interpreter": {
   "hash": "c8d68fb5c21a4214dd5a6a13117f82199c640d7d02a884ddca486aa724deaf3c"
  },
  "kernelspec": {
   "display_name": "Python 3.9.12 ('LQCD')",
   "language": "python",
   "name": "python3"
  },
  "language_info": {
   "codemirror_mode": {
    "name": "ipython",
    "version": 3
   },
   "file_extension": ".py",
   "mimetype": "text/x-python",
   "name": "python",
   "nbconvert_exporter": "python",
   "pygments_lexer": "ipython3",
   "version": "3.9.12"
  },
  "orig_nbformat": 4
 },
 "nbformat": 4,
 "nbformat_minor": 2
}
